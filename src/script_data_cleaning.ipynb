{
 "cells": [
  {
   "cell_type": "markdown",
   "id": "a568254e",
   "metadata": {},
   "source": [
    "# Projet de Fouille de données"
   ]
  },
  {
   "cell_type": "markdown",
   "id": "f2e16d0c",
   "metadata": {},
   "source": [
    "## Etape II : Nettoyage des données"
   ]
  },
  {
   "cell_type": "markdown",
   "id": "f1a28f94",
   "metadata": {},
   "source": [
    "Ce script fait suite directement au script d'analyse exploratoire des données (Etape I).\n",
    "\n",
    "Il est nécessaire de lire ce script précédent, pour comprendre ce qui est réalisé ici.\n",
    "\n",
    "Dans ce script, nous nettoyons les données, afin de faire disparaitre les problèmes des données manquantes et incohérentes."
   ]
  },
  {
   "cell_type": "markdown",
   "id": "531f059c",
   "metadata": {},
   "source": [
    "### Import des librairies"
   ]
  },
  {
   "cell_type": "markdown",
   "id": "0b81df6b",
   "metadata": {},
   "source": [
    "On commence par importer les librairies."
   ]
  },
  {
   "cell_type": "code",
   "execution_count": 1,
   "id": "1648691d",
   "metadata": {},
   "outputs": [],
   "source": [
    "import pandas\n",
    "import numpy"
   ]
  },
  {
   "cell_type": "markdown",
   "id": "2c8aa200",
   "metadata": {},
   "source": [
    "### Import des données"
   ]
  },
  {
   "cell_type": "markdown",
   "id": "b4a9d792",
   "metadata": {},
   "source": [
    "Puis, on importe les données de notre jeu de données, et on les \"wrap\" dans un DataFrame de Pandas."
   ]
  },
  {
   "cell_type": "code",
   "execution_count": 2,
   "id": "ff46f1e1",
   "metadata": {},
   "outputs": [],
   "source": [
    "data = pandas.read_csv(\"../data/corrupted_data.csv\")\n",
    "dataFrame = pandas.DataFrame(data)"
   ]
  },
  {
   "cell_type": "markdown",
   "id": "54b0a033",
   "metadata": {},
   "source": [
    "### Nettoyage des données"
   ]
  },
  {
   "cell_type": "markdown",
   "id": "dd9442e3",
   "metadata": {},
   "source": [
    "Nous réalisons différentes formes de transformations pour nettoyer les données."
   ]
  },
  {
   "cell_type": "markdown",
   "id": "7f7ede23",
   "metadata": {},
   "source": [
    "#### Renommage de la première colonne en \"id\""
   ]
  },
  {
   "cell_type": "markdown",
   "id": "ffd1e3a7",
   "metadata": {},
   "source": [
    "On renomme la première colonne avec un nom correct. "
   ]
  },
  {
   "cell_type": "code",
   "execution_count": 3,
   "id": "16602274",
   "metadata": {},
   "outputs": [],
   "source": [
    "cleanedDataFrame = dataFrame.rename(columns={'Unnamed: 0': 'id'})"
   ]
  },
  {
   "cell_type": "code",
   "execution_count": 4,
   "id": "29519dda",
   "metadata": {},
   "outputs": [
    {
     "data": {
      "text/plain": [
       "['id', 'date', 'county', 'state', 'fips', 'cases', 'deaths']"
      ]
     },
     "execution_count": 4,
     "metadata": {},
     "output_type": "execute_result"
    }
   ],
   "source": [
    "list(cleanedDataFrame)"
   ]
  },
  {
   "cell_type": "markdown",
   "id": "7d32e430",
   "metadata": {},
   "source": [
    "#### Suppression des lignes avec des valeurs manquantes (cellules vides, et \"Unknown\")"
   ]
  },
  {
   "cell_type": "markdown",
   "id": "3cdc8a67",
   "metadata": {},
   "source": [
    "On supprime toutes les lignes dans le jeu de données, qui comportent des données manquantes (cellules vides, et \"Unknown\") dans au moins une colonne."
   ]
  },
  {
   "cell_type": "code",
   "execution_count": 5,
   "id": "86bce89c",
   "metadata": {},
   "outputs": [],
   "source": [
    "cleanedDataFrame = cleanedDataFrame.dropna()"
   ]
  },
  {
   "cell_type": "code",
   "execution_count": 6,
   "id": "14e54b10",
   "metadata": {},
   "outputs": [
    {
     "data": {
      "text/plain": [
       "775346"
      ]
     },
     "execution_count": 6,
     "metadata": {},
     "output_type": "execute_result"
    }
   ],
   "source": [
    "len(cleanedDataFrame)"
   ]
  },
  {
   "cell_type": "code",
   "execution_count": 7,
   "id": "57fa135c",
   "metadata": {},
   "outputs": [
    {
     "data": {
      "text/plain": [
       "id        775346\n",
       "date      775346\n",
       "county    775346\n",
       "state     775346\n",
       "fips      775346\n",
       "cases     775346\n",
       "deaths    775346\n",
       "dtype: int64"
      ]
     },
     "execution_count": 7,
     "metadata": {},
     "output_type": "execute_result"
    }
   ],
   "source": [
    "cleanedDataFrame.count()"
   ]
  },
  {
   "cell_type": "code",
   "execution_count": 8,
   "id": "3faf4e3c",
   "metadata": {},
   "outputs": [
    {
     "data": {
      "text/plain": [
       "id        0\n",
       "date      0\n",
       "county    0\n",
       "state     0\n",
       "fips      0\n",
       "cases     0\n",
       "deaths    0\n",
       "dtype: int64"
      ]
     },
     "execution_count": 8,
     "metadata": {},
     "output_type": "execute_result"
    }
   ],
   "source": [
    "cleanedDataFrame.count() - len(cleanedDataFrame)"
   ]
  },
  {
   "cell_type": "code",
   "execution_count": 9,
   "id": "858a4c8f",
   "metadata": {},
   "outputs": [],
   "source": [
    "cleanedDataFrame = cleanedDataFrame.drop(cleanedDataFrame[cleanedDataFrame[\"county\"]==\"Unknown\"].index)"
   ]
  },
  {
   "cell_type": "code",
   "execution_count": 10,
   "id": "990160e9",
   "metadata": {},
   "outputs": [
    {
     "data": {
      "text/plain": [
       "775346"
      ]
     },
     "execution_count": 10,
     "metadata": {},
     "output_type": "execute_result"
    }
   ],
   "source": [
    "len(cleanedDataFrame)"
   ]
  },
  {
   "cell_type": "code",
   "execution_count": 11,
   "id": "aa9776a9",
   "metadata": {},
   "outputs": [
    {
     "data": {
      "text/html": [
       "<div>\n",
       "<style scoped>\n",
       "    .dataframe tbody tr th:only-of-type {\n",
       "        vertical-align: middle;\n",
       "    }\n",
       "\n",
       "    .dataframe tbody tr th {\n",
       "        vertical-align: top;\n",
       "    }\n",
       "\n",
       "    .dataframe thead th {\n",
       "        text-align: right;\n",
       "    }\n",
       "</style>\n",
       "<table border=\"1\" class=\"dataframe\">\n",
       "  <thead>\n",
       "    <tr style=\"text-align: right;\">\n",
       "      <th></th>\n",
       "      <th>id</th>\n",
       "      <th>date</th>\n",
       "      <th>county</th>\n",
       "      <th>state</th>\n",
       "      <th>fips</th>\n",
       "      <th>cases</th>\n",
       "      <th>deaths</th>\n",
       "    </tr>\n",
       "  </thead>\n",
       "  <tbody>\n",
       "  </tbody>\n",
       "</table>\n",
       "</div>"
      ],
      "text/plain": [
       "Empty DataFrame\n",
       "Columns: [id, date, county, state, fips, cases, deaths]\n",
       "Index: []"
      ]
     },
     "execution_count": 11,
     "metadata": {},
     "output_type": "execute_result"
    }
   ],
   "source": [
    "cleanedDataFrame[cleanedDataFrame[\"county\"]==\"Unknown\"]"
   ]
  },
  {
   "cell_type": "code",
   "execution_count": 12,
   "id": "36c475dc",
   "metadata": {},
   "outputs": [
    {
     "data": {
      "text/plain": [
       "0"
      ]
     },
     "execution_count": 12,
     "metadata": {},
     "output_type": "execute_result"
    }
   ],
   "source": [
    "len(cleanedDataFrame[cleanedDataFrame[\"county\"]==\"Unknown\"][\"county\"])"
   ]
  },
  {
   "cell_type": "markdown",
   "id": "566ca6b7",
   "metadata": {},
   "source": [
    "#### Conversion au même format pour les dates (YYYY.MM.DD => YYYY-MM-DD)"
   ]
  },
  {
   "cell_type": "markdown",
   "id": "3108346f",
   "metadata": {},
   "source": [
    "On fait en sorte de passer au même format toutes les dates."
   ]
  },
  {
   "cell_type": "code",
   "execution_count": 13,
   "id": "02c33248",
   "metadata": {},
   "outputs": [],
   "source": [
    " cleanedDataFrame['date'] = cleanedDataFrame['date'].replace(to_replace = \"^([0-9]{4})\\.([0-9]{2})\\.([0-9]{2})$\", value = \"\\\\1-\\\\2-\\\\3\", regex=True)"
   ]
  },
  {
   "cell_type": "code",
   "execution_count": 14,
   "id": "b6734970",
   "metadata": {},
   "outputs": [
    {
     "data": {
      "text/html": [
       "<div>\n",
       "<style scoped>\n",
       "    .dataframe tbody tr th:only-of-type {\n",
       "        vertical-align: middle;\n",
       "    }\n",
       "\n",
       "    .dataframe tbody tr th {\n",
       "        vertical-align: top;\n",
       "    }\n",
       "\n",
       "    .dataframe thead th {\n",
       "        text-align: right;\n",
       "    }\n",
       "</style>\n",
       "<table border=\"1\" class=\"dataframe\">\n",
       "  <thead>\n",
       "    <tr style=\"text-align: right;\">\n",
       "      <th></th>\n",
       "      <th>id</th>\n",
       "      <th>date</th>\n",
       "      <th>county</th>\n",
       "      <th>state</th>\n",
       "      <th>fips</th>\n",
       "      <th>cases</th>\n",
       "      <th>deaths</th>\n",
       "    </tr>\n",
       "  </thead>\n",
       "  <tbody>\n",
       "  </tbody>\n",
       "</table>\n",
       "</div>"
      ],
      "text/plain": [
       "Empty DataFrame\n",
       "Columns: [id, date, county, state, fips, cases, deaths]\n",
       "Index: []"
      ]
     },
     "execution_count": 14,
     "metadata": {},
     "output_type": "execute_result"
    }
   ],
   "source": [
    "cleanedDataFrame[cleanedDataFrame['date'].str.contains('^[0-9]{4}\\.[0-9]{2}\\.[0-9]{2}$', regex = True, na = False)]"
   ]
  },
  {
   "cell_type": "code",
   "execution_count": 15,
   "id": "5e307242",
   "metadata": {},
   "outputs": [
    {
     "data": {
      "text/plain": [
       "0"
      ]
     },
     "execution_count": 15,
     "metadata": {},
     "output_type": "execute_result"
    }
   ],
   "source": [
    "len(cleanedDataFrame[cleanedDataFrame['date'].str.contains('^[0-9]{4}\\.[0-9]{2}\\.[0-9]{2}$', regex = True, na = False)]['date'])"
   ]
  },
  {
   "cell_type": "markdown",
   "id": "55363de5",
   "metadata": {},
   "source": [
    "#### Suppression des \"-\" dans les colonnes quantitatives (fips, cases, deaths)"
   ]
  },
  {
   "cell_type": "markdown",
   "id": "de607eec",
   "metadata": {},
   "source": [
    "On supprime tous les \"-\" dans les colonnes quantitatives, car aucune de nos données quantitatives ne devraient compoter de colonnes quantitatives."
   ]
  },
  {
   "cell_type": "code",
   "execution_count": 16,
   "id": "7dac27bd",
   "metadata": {},
   "outputs": [],
   "source": [
    "cleanedDataFrame['fips'] = cleanedDataFrame['fips'].apply(str).replace(to_replace = \"^-(.+)$\", value = \"\\\\1\", regex=True)"
   ]
  },
  {
   "cell_type": "code",
   "execution_count": 17,
   "id": "6919d55e",
   "metadata": {},
   "outputs": [
    {
     "data": {
      "text/plain": [
       "Series([], Name: fips, dtype: object)"
      ]
     },
     "execution_count": 17,
     "metadata": {},
     "output_type": "execute_result"
    }
   ],
   "source": [
    "cleanedDataFrame[cleanedDataFrame['fips'].apply(str).str.contains('^-.+$', regex = True, na = False)]['fips']"
   ]
  },
  {
   "cell_type": "code",
   "execution_count": 18,
   "id": "cb568a28",
   "metadata": {},
   "outputs": [
    {
     "data": {
      "text/plain": [
       "0"
      ]
     },
     "execution_count": 18,
     "metadata": {},
     "output_type": "execute_result"
    }
   ],
   "source": [
    "len(cleanedDataFrame[cleanedDataFrame['fips'].apply(str).str.contains('^-.+$', regex = True, na = False)]['fips'])"
   ]
  },
  {
   "cell_type": "code",
   "execution_count": 19,
   "id": "46bf6375",
   "metadata": {},
   "outputs": [],
   "source": [
    "cleanedDataFrame['cases'] = cleanedDataFrame['cases'].apply(str).replace(to_replace = \"^-(.+)$\", value = \"\\\\1\", regex=True)"
   ]
  },
  {
   "cell_type": "code",
   "execution_count": 20,
   "id": "947ed1e2",
   "metadata": {},
   "outputs": [
    {
     "data": {
      "text/plain": [
       "Series([], Name: cases, dtype: object)"
      ]
     },
     "execution_count": 20,
     "metadata": {},
     "output_type": "execute_result"
    }
   ],
   "source": [
    "cleanedDataFrame[cleanedDataFrame['cases'].apply(str).str.contains('^-.+$', regex = True, na = False)]['cases']"
   ]
  },
  {
   "cell_type": "code",
   "execution_count": 21,
   "id": "b5b130c6",
   "metadata": {},
   "outputs": [
    {
     "data": {
      "text/plain": [
       "0"
      ]
     },
     "execution_count": 21,
     "metadata": {},
     "output_type": "execute_result"
    }
   ],
   "source": [
    "len(cleanedDataFrame[cleanedDataFrame['cases'].apply(str).str.contains('^-.+$', regex = True, na = False)]['cases'])"
   ]
  },
  {
   "cell_type": "code",
   "execution_count": 22,
   "id": "7af3afaa",
   "metadata": {},
   "outputs": [],
   "source": [
    "cleanedDataFrame['deaths'] = cleanedDataFrame['deaths'].apply(str).replace(to_replace = \"^-(.+)$\", value = \"\\\\1\", regex=True)"
   ]
  },
  {
   "cell_type": "code",
   "execution_count": 23,
   "id": "7299987c",
   "metadata": {},
   "outputs": [
    {
     "data": {
      "text/plain": [
       "Series([], Name: deaths, dtype: object)"
      ]
     },
     "execution_count": 23,
     "metadata": {},
     "output_type": "execute_result"
    }
   ],
   "source": [
    "cleanedDataFrame[cleanedDataFrame['deaths'].apply(str).str.contains('^-.+$', regex = True, na = False)]['deaths']"
   ]
  },
  {
   "cell_type": "code",
   "execution_count": 24,
   "id": "8531efd0",
   "metadata": {},
   "outputs": [
    {
     "data": {
      "text/plain": [
       "0"
      ]
     },
     "execution_count": 24,
     "metadata": {},
     "output_type": "execute_result"
    }
   ],
   "source": [
    "len(cleanedDataFrame[cleanedDataFrame['deaths'].apply(str).str.contains('^-.+$', regex = True, na = False)]['deaths'])"
   ]
  },
  {
   "cell_type": "markdown",
   "id": "2fac9f06",
   "metadata": {},
   "source": [
    "#### Transformation des colonnes quantitatives en entiers (fips, cases, deaths)"
   ]
  },
  {
   "cell_type": "markdown",
   "id": "6f8126f9",
   "metadata": {},
   "source": [
    "On passe les types de toutes les colonnes quantitatives de décimal à entier, car aucune de nos données quantitatives ne devraient être de type décimal."
   ]
  },
  {
   "cell_type": "code",
   "execution_count": 25,
   "id": "3839e801",
   "metadata": {},
   "outputs": [],
   "source": [
    "cleanedDataFrame[\"fips\"] = pandas.to_numeric(cleanedDataFrame[\"fips\"], downcast='integer')"
   ]
  },
  {
   "cell_type": "code",
   "execution_count": 26,
   "id": "cbb0dbc8",
   "metadata": {},
   "outputs": [
    {
     "data": {
      "text/plain": [
       "0         53061\n",
       "1         53061\n",
       "2         53061\n",
       "3         17031\n",
       "4         53061\n",
       "          ...  \n",
       "800432    56037\n",
       "800433    56039\n",
       "800434    56041\n",
       "800435    56043\n",
       "800436    56045\n",
       "Name: fips, Length: 775346, dtype: int32"
      ]
     },
     "execution_count": 26,
     "metadata": {},
     "output_type": "execute_result"
    }
   ],
   "source": [
    "cleanedDataFrame[\"fips\"]"
   ]
  },
  {
   "cell_type": "code",
   "execution_count": 27,
   "id": "0885fc74",
   "metadata": {},
   "outputs": [],
   "source": [
    "cleanedDataFrame[\"cases\"] = pandas.to_numeric(cleanedDataFrame[\"cases\"], downcast='integer')"
   ]
  },
  {
   "cell_type": "code",
   "execution_count": 28,
   "id": "698c91b6",
   "metadata": {},
   "outputs": [
    {
     "data": {
      "text/plain": [
       "0            1\n",
       "1            1\n",
       "2            1\n",
       "3            1\n",
       "4            1\n",
       "          ... \n",
       "800432    2098\n",
       "800433    1739\n",
       "800434    1187\n",
       "800435     519\n",
       "800436     419\n",
       "Name: cases, Length: 775346, dtype: int32"
      ]
     },
     "execution_count": 28,
     "metadata": {},
     "output_type": "execute_result"
    }
   ],
   "source": [
    "cleanedDataFrame[\"cases\"]"
   ]
  },
  {
   "cell_type": "code",
   "execution_count": 29,
   "id": "3970bf67",
   "metadata": {},
   "outputs": [],
   "source": [
    "cleanedDataFrame[\"deaths\"] = pandas.to_numeric(cleanedDataFrame[\"deaths\"], downcast='integer')"
   ]
  },
  {
   "cell_type": "code",
   "execution_count": 30,
   "id": "f6b3a918",
   "metadata": {},
   "outputs": [
    {
     "data": {
      "text/plain": [
       "0          0\n",
       "1          0\n",
       "2          0\n",
       "3          0\n",
       "4          0\n",
       "          ..\n",
       "800432    10\n",
       "800433     2\n",
       "800434     5\n",
       "800435     8\n",
       "800436     2\n",
       "Name: deaths, Length: 775346, dtype: int16"
      ]
     },
     "execution_count": 30,
     "metadata": {},
     "output_type": "execute_result"
    }
   ],
   "source": [
    "cleanedDataFrame[\"deaths\"]"
   ]
  },
  {
   "cell_type": "markdown",
   "id": "8436cfc4",
   "metadata": {},
   "source": [
    "### Export des données nettoyées"
   ]
  },
  {
   "cell_type": "markdown",
   "id": "70705a8d",
   "metadata": {},
   "source": [
    "On exporte les données nettoyées dans le répertoire des données du projet."
   ]
  },
  {
   "cell_type": "code",
   "execution_count": 31,
   "id": "df327ff2",
   "metadata": {},
   "outputs": [],
   "source": [
    "cleanedDataFrame.to_csv(\"..\\data\\cleaned_data.csv\", index = False)"
   ]
  }
 ],
 "metadata": {
  "kernelspec": {
   "display_name": "Python 3 (ipykernel)",
   "language": "python",
   "name": "python3"
  },
  "language_info": {
   "codemirror_mode": {
    "name": "ipython",
    "version": 3
   },
   "file_extension": ".py",
   "mimetype": "text/x-python",
   "name": "python",
   "nbconvert_exporter": "python",
   "pygments_lexer": "ipython3",
   "version": "3.10.2"
  }
 },
 "nbformat": 4,
 "nbformat_minor": 5
}
