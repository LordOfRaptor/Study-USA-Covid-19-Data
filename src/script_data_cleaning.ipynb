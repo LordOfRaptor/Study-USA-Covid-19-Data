{
 "cells": [
  {
   "cell_type": "markdown",
   "id": "a27e8f4f",
   "metadata": {},
   "source": [
    "# Projet de Fouille de données"
   ]
  },
  {
   "cell_type": "markdown",
   "id": "ba48455b",
   "metadata": {},
   "source": [
    "## Etape II : Nettoyage des données"
   ]
  },
  {
   "cell_type": "markdown",
   "id": "0fc6996d",
   "metadata": {},
   "source": [
    "Ce script fait suite directement au script d'analyse exploratoire des données (Etape I).\n",
    "\n",
    "Il est nécessaire de lire ce script précédent, pour comprendre ce qui est réalisé ici.\n",
    "\n",
    "Dans ce script, nous nettoyons les données, afin de faire disparaitre les problèmes des données manquantes et incohérentes."
   ]
  },
  {
   "cell_type": "markdown",
   "id": "6bdee2ad",
   "metadata": {},
   "source": [
    "### Import des librairies"
   ]
  },
  {
   "cell_type": "markdown",
   "id": "80742e90",
   "metadata": {},
   "source": [
    "On commence par importer les librairies."
   ]
  },
  {
   "cell_type": "code",
   "execution_count": 1,
   "id": "542645ce",
   "metadata": {},
   "outputs": [],
   "source": [
    "import pandas\n",
    "import numpy"
   ]
  },
  {
   "cell_type": "markdown",
   "id": "834a324b",
   "metadata": {},
   "source": [
    "### Import des données"
   ]
  },
  {
   "cell_type": "markdown",
   "id": "74b5879c",
   "metadata": {},
   "source": [
    "Puis, on importe les données de notre jeu de données, et on les \"wrap\" dans un DataFrame de Pandas."
   ]
  },
  {
   "cell_type": "code",
   "execution_count": 2,
   "id": "808c8c05",
   "metadata": {},
   "outputs": [],
   "source": [
    "data = pandas.read_csv(\"../data/corrupted_data.csv\")\n",
    "dataFrame = pandas.DataFrame(data)"
   ]
  },
  {
   "cell_type": "markdown",
   "id": "1d708641",
   "metadata": {},
   "source": [
    "### Nettoyage des données"
   ]
  },
  {
   "cell_type": "markdown",
   "id": "df604aa5",
   "metadata": {},
   "source": [
    "Nous réalisons différentes formes de transformations pour nettoyer les données."
   ]
  },
  {
   "cell_type": "markdown",
   "id": "6c87b151",
   "metadata": {},
   "source": [
    "#### Renommage de la première colonne en \"id\""
   ]
  },
  {
   "cell_type": "markdown",
   "id": "9b65547b",
   "metadata": {},
   "source": [
    "On renomme la première colonne avec un nom correct. "
   ]
  },
  {
   "cell_type": "code",
   "execution_count": 3,
   "id": "737d23da",
   "metadata": {},
   "outputs": [],
   "source": [
    "cleanedDataFrame = dataFrame.rename(columns={'Unnamed: 0': 'id'})"
   ]
  },
  {
   "cell_type": "code",
   "execution_count": 4,
   "id": "011a2735",
   "metadata": {},
   "outputs": [
    {
     "data": {
      "text/plain": [
       "['id', 'date', 'county', 'state', 'fips', 'cases', 'deaths']"
      ]
     },
     "execution_count": 4,
     "metadata": {},
     "output_type": "execute_result"
    }
   ],
   "source": [
    "list(cleanedDataFrame)"
   ]
  },
  {
   "cell_type": "markdown",
   "id": "8898482f",
   "metadata": {},
   "source": [
    "#### Suppression des lignes avec des valeurs manquantes (cellules vides, et \"Unknown\")"
   ]
  },
  {
   "cell_type": "markdown",
   "id": "a292e526",
   "metadata": {},
   "source": [
    "On supprime toutes les lignes dans le jeu de données, qui comportent des données manquantes (cellules vides, et \"Unknown\") dans au moins une colonne."
   ]
  },
  {
   "cell_type": "code",
   "execution_count": 5,
   "id": "94dc989b",
   "metadata": {},
   "outputs": [],
   "source": [
    "cleanedDataFrame = cleanedDataFrame.dropna()"
   ]
  },
  {
   "cell_type": "code",
   "execution_count": 6,
   "id": "2932274f",
   "metadata": {},
   "outputs": [
    {
     "data": {
      "text/plain": [
       "775346"
      ]
     },
     "execution_count": 6,
     "metadata": {},
     "output_type": "execute_result"
    }
   ],
   "source": [
    "len(cleanedDataFrame)"
   ]
  },
  {
   "cell_type": "code",
   "execution_count": 7,
   "id": "8a9efadc",
   "metadata": {},
   "outputs": [
    {
     "data": {
      "text/plain": [
       "id        775346\n",
       "date      775346\n",
       "county    775346\n",
       "state     775346\n",
       "fips      775346\n",
       "cases     775346\n",
       "deaths    775346\n",
       "dtype: int64"
      ]
     },
     "execution_count": 7,
     "metadata": {},
     "output_type": "execute_result"
    }
   ],
   "source": [
    "cleanedDataFrame.count()"
   ]
  },
  {
   "cell_type": "code",
   "execution_count": 8,
   "id": "059d4e36",
   "metadata": {},
   "outputs": [
    {
     "data": {
      "text/plain": [
       "id        0\n",
       "date      0\n",
       "county    0\n",
       "state     0\n",
       "fips      0\n",
       "cases     0\n",
       "deaths    0\n",
       "dtype: int64"
      ]
     },
     "execution_count": 8,
     "metadata": {},
     "output_type": "execute_result"
    }
   ],
   "source": [
    "cleanedDataFrame.count() - len(cleanedDataFrame)"
   ]
  },
  {
   "cell_type": "code",
   "execution_count": 9,
   "id": "72532977",
   "metadata": {},
   "outputs": [],
   "source": [
    "cleanedDataFrame = cleanedDataFrame.drop(cleanedDataFrame[cleanedDataFrame[\"county\"]==\"Unknown\"].index)"
   ]
  },
  {
   "cell_type": "code",
   "execution_count": 10,
   "id": "bbc271cd",
   "metadata": {},
   "outputs": [
    {
     "data": {
      "text/plain": [
       "775346"
      ]
     },
     "execution_count": 10,
     "metadata": {},
     "output_type": "execute_result"
    }
   ],
   "source": [
    "len(cleanedDataFrame)"
   ]
  },
  {
   "cell_type": "code",
   "execution_count": 11,
   "id": "c269a044",
   "metadata": {},
   "outputs": [
    {
     "data": {
      "text/html": [
       "<div>\n",
       "<style scoped>\n",
       "    .dataframe tbody tr th:only-of-type {\n",
       "        vertical-align: middle;\n",
       "    }\n",
       "\n",
       "    .dataframe tbody tr th {\n",
       "        vertical-align: top;\n",
       "    }\n",
       "\n",
       "    .dataframe thead th {\n",
       "        text-align: right;\n",
       "    }\n",
       "</style>\n",
       "<table border=\"1\" class=\"dataframe\">\n",
       "  <thead>\n",
       "    <tr style=\"text-align: right;\">\n",
       "      <th></th>\n",
       "      <th>id</th>\n",
       "      <th>date</th>\n",
       "      <th>county</th>\n",
       "      <th>state</th>\n",
       "      <th>fips</th>\n",
       "      <th>cases</th>\n",
       "      <th>deaths</th>\n",
       "    </tr>\n",
       "  </thead>\n",
       "  <tbody>\n",
       "  </tbody>\n",
       "</table>\n",
       "</div>"
      ],
      "text/plain": [
       "Empty DataFrame\n",
       "Columns: [id, date, county, state, fips, cases, deaths]\n",
       "Index: []"
      ]
     },
     "execution_count": 11,
     "metadata": {},
     "output_type": "execute_result"
    }
   ],
   "source": [
    "cleanedDataFrame[cleanedDataFrame[\"county\"]==\"Unknown\"]"
   ]
  },
  {
   "cell_type": "code",
   "execution_count": 12,
   "id": "68f5bcd1",
   "metadata": {},
   "outputs": [
    {
     "data": {
      "text/plain": [
       "0"
      ]
     },
     "execution_count": 12,
     "metadata": {},
     "output_type": "execute_result"
    }
   ],
   "source": [
    "len(cleanedDataFrame[cleanedDataFrame[\"county\"]==\"Unknown\"][\"county\"])"
   ]
  },
  {
   "cell_type": "markdown",
   "id": "3bfa076c",
   "metadata": {},
   "source": [
    "#### Conversion au même format pour les dates (YYYY.MM.DD => YYYY-MM-DD)"
   ]
  },
  {
   "cell_type": "markdown",
   "id": "5fa1fdd6",
   "metadata": {},
   "source": [
    "On fait en sorte de passer au même format toutes les dates."
   ]
  },
  {
   "cell_type": "code",
   "execution_count": 13,
   "id": "5544571e",
   "metadata": {},
   "outputs": [],
   "source": [
    " cleanedDataFrame['date'] = cleanedDataFrame['date'].replace(to_replace = \"^([0-9]{4})\\.([0-9]{2})\\.([0-9]{2})$\", value = \"\\\\1-\\\\2-\\\\3\", regex=True)"
   ]
  },
  {
   "cell_type": "code",
   "execution_count": 14,
   "id": "8ef73185",
   "metadata": {},
   "outputs": [
    {
     "data": {
      "text/html": [
       "<div>\n",
       "<style scoped>\n",
       "    .dataframe tbody tr th:only-of-type {\n",
       "        vertical-align: middle;\n",
       "    }\n",
       "\n",
       "    .dataframe tbody tr th {\n",
       "        vertical-align: top;\n",
       "    }\n",
       "\n",
       "    .dataframe thead th {\n",
       "        text-align: right;\n",
       "    }\n",
       "</style>\n",
       "<table border=\"1\" class=\"dataframe\">\n",
       "  <thead>\n",
       "    <tr style=\"text-align: right;\">\n",
       "      <th></th>\n",
       "      <th>id</th>\n",
       "      <th>date</th>\n",
       "      <th>county</th>\n",
       "      <th>state</th>\n",
       "      <th>fips</th>\n",
       "      <th>cases</th>\n",
       "      <th>deaths</th>\n",
       "    </tr>\n",
       "  </thead>\n",
       "  <tbody>\n",
       "  </tbody>\n",
       "</table>\n",
       "</div>"
      ],
      "text/plain": [
       "Empty DataFrame\n",
       "Columns: [id, date, county, state, fips, cases, deaths]\n",
       "Index: []"
      ]
     },
     "execution_count": 14,
     "metadata": {},
     "output_type": "execute_result"
    }
   ],
   "source": [
    "cleanedDataFrame[cleanedDataFrame['date'].str.contains('^[0-9]{4}\\.[0-9]{2}\\.[0-9]{2}$', regex = True, na = False)]"
   ]
  },
  {
   "cell_type": "code",
   "execution_count": 15,
   "id": "848268f3",
   "metadata": {},
   "outputs": [
    {
     "data": {
      "text/plain": [
       "0"
      ]
     },
     "execution_count": 15,
     "metadata": {},
     "output_type": "execute_result"
    }
   ],
   "source": [
    "len(cleanedDataFrame[cleanedDataFrame['date'].str.contains('^[0-9]{4}\\.[0-9]{2}\\.[0-9]{2}$', regex = True, na = False)]['date'])"
   ]
  },
  {
   "cell_type": "markdown",
   "id": "fde5be07",
   "metadata": {},
   "source": [
    "#### Suppression des \"-\" dans les colonnes quantitatives (fips, cases, deaths)"
   ]
  },
  {
   "cell_type": "markdown",
   "id": "d5ac17ce",
   "metadata": {},
   "source": [
    "On supprime tous les \"-\" dans les colonnes quantitatives, car aucune de nos données quantitatives ne devraient compoter de colonnes quantitatives."
   ]
  },
  {
   "cell_type": "code",
   "execution_count": 16,
   "id": "d8d97b13",
   "metadata": {},
   "outputs": [],
   "source": [
    "cleanedDataFrame['fips'] = cleanedDataFrame['fips'].apply(str).replace(to_replace = \"^-(.+)$\", value = \"\\\\1\", regex=True)"
   ]
  },
  {
   "cell_type": "code",
   "execution_count": 17,
   "id": "10297ab7",
   "metadata": {},
   "outputs": [
    {
     "data": {
      "text/plain": [
       "Series([], Name: fips, dtype: object)"
      ]
     },
     "execution_count": 17,
     "metadata": {},
     "output_type": "execute_result"
    }
   ],
   "source": [
    "cleanedDataFrame[cleanedDataFrame['fips'].apply(str).str.contains('^-.+$', regex = True, na = False)]['fips']"
   ]
  },
  {
   "cell_type": "code",
   "execution_count": 18,
   "id": "752b0ffa",
   "metadata": {},
   "outputs": [
    {
     "data": {
      "text/plain": [
       "0"
      ]
     },
     "execution_count": 18,
     "metadata": {},
     "output_type": "execute_result"
    }
   ],
   "source": [
    "len(cleanedDataFrame[cleanedDataFrame['fips'].apply(str).str.contains('^-.+$', regex = True, na = False)]['fips'])"
   ]
  },
  {
   "cell_type": "code",
   "execution_count": 19,
   "id": "4ecaa74a",
   "metadata": {},
   "outputs": [],
   "source": [
    "cleanedDataFrame['cases'] = cleanedDataFrame['cases'].apply(str).replace(to_replace = \"^-(.+)$\", value = \"\\\\1\", regex=True)"
   ]
  },
  {
   "cell_type": "code",
   "execution_count": 20,
   "id": "2761a0c2",
   "metadata": {},
   "outputs": [
    {
     "data": {
      "text/plain": [
       "Series([], Name: cases, dtype: object)"
      ]
     },
     "execution_count": 20,
     "metadata": {},
     "output_type": "execute_result"
    }
   ],
   "source": [
    "cleanedDataFrame[cleanedDataFrame['cases'].apply(str).str.contains('^-.+$', regex = True, na = False)]['cases']"
   ]
  },
  {
   "cell_type": "code",
   "execution_count": 21,
   "id": "b6f6e78a",
   "metadata": {},
   "outputs": [
    {
     "data": {
      "text/plain": [
       "0"
      ]
     },
     "execution_count": 21,
     "metadata": {},
     "output_type": "execute_result"
    }
   ],
   "source": [
    "len(cleanedDataFrame[cleanedDataFrame['cases'].apply(str).str.contains('^-.+$', regex = True, na = False)]['cases'])"
   ]
  },
  {
   "cell_type": "code",
   "execution_count": 22,
   "id": "26708fee",
   "metadata": {},
   "outputs": [],
   "source": [
    "cleanedDataFrame['deaths'] = cleanedDataFrame['deaths'].apply(str).replace(to_replace = \"^-(.+)$\", value = \"\\\\1\", regex=True)"
   ]
  },
  {
   "cell_type": "code",
   "execution_count": 23,
   "id": "837963cf",
   "metadata": {},
   "outputs": [
    {
     "data": {
      "text/plain": [
       "Series([], Name: deaths, dtype: object)"
      ]
     },
     "execution_count": 23,
     "metadata": {},
     "output_type": "execute_result"
    }
   ],
   "source": [
    "cleanedDataFrame[cleanedDataFrame['deaths'].apply(str).str.contains('^-.+$', regex = True, na = False)]['deaths']"
   ]
  },
  {
   "cell_type": "code",
   "execution_count": 24,
   "id": "fad7b0ed",
   "metadata": {},
   "outputs": [
    {
     "data": {
      "text/plain": [
       "0"
      ]
     },
     "execution_count": 24,
     "metadata": {},
     "output_type": "execute_result"
    }
   ],
   "source": [
    "len(cleanedDataFrame[cleanedDataFrame['deaths'].apply(str).str.contains('^-.+$', regex = True, na = False)]['deaths'])"
   ]
  },
  {
   "cell_type": "markdown",
   "id": "2818e999",
   "metadata": {},
   "source": [
    "#### Transformation des colonnes quantitatives en entiers (fips, cases, deaths)"
   ]
  },
  {
   "cell_type": "markdown",
   "id": "f1e72b04",
   "metadata": {},
   "source": [
    "On passe les types de toutes les colonnes quantitatives de décimal à entier, car aucune de nos données quantitatives ne devraient être de type décimal."
   ]
  },
  {
   "cell_type": "code",
   "execution_count": 25,
   "id": "0da9b1e7",
   "metadata": {},
   "outputs": [],
   "source": [
    "cleanedDataFrame[\"fips\"] = pandas.to_numeric(cleanedDataFrame[\"fips\"], downcast='integer')"
   ]
  },
  {
   "cell_type": "code",
   "execution_count": 26,
   "id": "e9b3b578",
   "metadata": {},
   "outputs": [
    {
     "data": {
      "text/plain": [
       "0         53061\n",
       "1         53061\n",
       "2         53061\n",
       "3         17031\n",
       "4         53061\n",
       "          ...  \n",
       "800432    56037\n",
       "800433    56039\n",
       "800434    56041\n",
       "800435    56043\n",
       "800436    56045\n",
       "Name: fips, Length: 775346, dtype: int32"
      ]
     },
     "execution_count": 26,
     "metadata": {},
     "output_type": "execute_result"
    }
   ],
   "source": [
    "cleanedDataFrame[\"fips\"]"
   ]
  },
  {
   "cell_type": "code",
   "execution_count": 27,
   "id": "18b61dcc",
   "metadata": {},
   "outputs": [],
   "source": [
    "cleanedDataFrame[\"cases\"] = pandas.to_numeric(cleanedDataFrame[\"cases\"], downcast='integer')"
   ]
  },
  {
   "cell_type": "code",
   "execution_count": 28,
   "id": "9fb8bda6",
   "metadata": {},
   "outputs": [
    {
     "data": {
      "text/plain": [
       "0            1\n",
       "1            1\n",
       "2            1\n",
       "3            1\n",
       "4            1\n",
       "          ... \n",
       "800432    2098\n",
       "800433    1739\n",
       "800434    1187\n",
       "800435     519\n",
       "800436     419\n",
       "Name: cases, Length: 775346, dtype: int32"
      ]
     },
     "execution_count": 28,
     "metadata": {},
     "output_type": "execute_result"
    }
   ],
   "source": [
    "cleanedDataFrame[\"cases\"]"
   ]
  },
  {
   "cell_type": "code",
   "execution_count": 29,
   "id": "e72fa1f0",
   "metadata": {},
   "outputs": [],
   "source": [
    "cleanedDataFrame[\"deaths\"] = pandas.to_numeric(cleanedDataFrame[\"deaths\"], downcast='integer')"
   ]
  },
  {
   "cell_type": "code",
   "execution_count": 30,
   "id": "d6e14641",
   "metadata": {},
   "outputs": [
    {
     "data": {
      "text/plain": [
       "0          0\n",
       "1          0\n",
       "2          0\n",
       "3          0\n",
       "4          0\n",
       "          ..\n",
       "800432    10\n",
       "800433     2\n",
       "800434     5\n",
       "800435     8\n",
       "800436     2\n",
       "Name: deaths, Length: 775346, dtype: int16"
      ]
     },
     "execution_count": 30,
     "metadata": {},
     "output_type": "execute_result"
    }
   ],
   "source": [
    "cleanedDataFrame[\"deaths\"]"
   ]
  },
  {
   "cell_type": "markdown",
   "id": "21d78e7c",
   "metadata": {},
   "source": [
    "### Export des données nettoyées"
   ]
  },
  {
   "cell_type": "markdown",
   "id": "63a0db2a",
   "metadata": {},
   "source": [
    "On exporte les données nettoyées dans le répertoire des données du projet."
   ]
  },
  {
   "cell_type": "code",
   "execution_count": 31,
   "id": "37ed791e",
   "metadata": {},
   "outputs": [],
   "source": [
    "cleanedDataFrame.to_csv(\"..\\data\\cleaned_data.csv\", index = False)"
   ]
  }
 ],
 "metadata": {
  "kernelspec": {
   "display_name": "Python 3 (ipykernel)",
   "language": "python",
   "name": "python3"
  },
  "language_info": {
   "codemirror_mode": {
    "name": "ipython",
    "version": 3
   },
   "file_extension": ".py",
   "mimetype": "text/x-python",
   "name": "python",
   "nbconvert_exporter": "python",
   "pygments_lexer": "ipython3",
   "version": "3.10.2"
  }
 },
 "nbformat": 4,
 "nbformat_minor": 5
}
