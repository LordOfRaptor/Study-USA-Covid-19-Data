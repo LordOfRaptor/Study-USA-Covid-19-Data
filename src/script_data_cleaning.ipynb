{
 "cells": [
  {
   "cell_type": "markdown",
   "id": "9bc118bd",
   "metadata": {},
   "source": [
    "# Projet de Fouille de données"
   ]
  },
  {
   "cell_type": "markdown",
   "id": "00de0a8c",
   "metadata": {},
   "source": [
    "## Etape II : Nettoyage des données"
   ]
  },
  {
   "cell_type": "markdown",
   "id": "3ede866c",
   "metadata": {},
   "source": [
    "### Import des librairies"
   ]
  },
  {
   "cell_type": "markdown",
   "id": "481d4cc3",
   "metadata": {},
   "source": [
    "On commence par importer les librairies."
   ]
  },
  {
   "cell_type": "code",
   "execution_count": 1,
   "id": "61ab237e",
   "metadata": {},
   "outputs": [],
   "source": [
    "import pandas\n",
    "import numpy"
   ]
  },
  {
   "cell_type": "markdown",
   "id": "b86922c8",
   "metadata": {},
   "source": [
    "### Import des données"
   ]
  },
  {
   "cell_type": "markdown",
   "id": "1d4607f4",
   "metadata": {},
   "source": [
    "Puis, on importe les données de notre jeu de données, et on les \"wrap\" dans un DataFrame de Pandas."
   ]
  },
  {
   "cell_type": "code",
   "execution_count": 2,
   "id": "af581197",
   "metadata": {},
   "outputs": [],
   "source": [
    "data = pandas.read_csv(\"../data/corrupted_data.csv\")\n",
    "dataFrame = pandas.DataFrame(data)"
   ]
  },
  {
   "cell_type": "markdown",
   "id": "6c30be63",
   "metadata": {},
   "source": [
    "### Nettoyage des données"
   ]
  },
  {
   "cell_type": "markdown",
   "id": "0ea2e7fe",
   "metadata": {},
   "source": [
    "#### Renommage de la première colonne en \"id\""
   ]
  },
  {
   "cell_type": "markdown",
   "id": "7b2e8aeb",
   "metadata": {},
   "source": [
    "On renomme la première colonne avec un nom correct. "
   ]
  },
  {
   "cell_type": "code",
   "execution_count": 3,
   "id": "99e65db5",
   "metadata": {},
   "outputs": [],
   "source": [
    "cleanedDataFrame = dataFrame.rename(columns={'Unnamed: 0': 'id'})"
   ]
  },
  {
   "cell_type": "code",
   "execution_count": 4,
   "id": "b53186b8",
   "metadata": {},
   "outputs": [
    {
     "data": {
      "text/plain": [
       "['id', 'date', 'county', 'state', 'fips', 'cases', 'deaths']"
      ]
     },
     "execution_count": 4,
     "metadata": {},
     "output_type": "execute_result"
    }
   ],
   "source": [
    "list(cleanedDataFrame)"
   ]
  },
  {
   "cell_type": "markdown",
   "id": "959d06be",
   "metadata": {},
   "source": [
    "#### Suppression des lignes avec des valeurs manquantes (cellules vides, et \"Unknown\")"
   ]
  },
  {
   "cell_type": "code",
   "execution_count": 5,
   "id": "4c2e301a",
   "metadata": {},
   "outputs": [],
   "source": [
    "cleanedDataFrame = cleanedDataFrame.dropna()"
   ]
  },
  {
   "cell_type": "code",
   "execution_count": 6,
   "id": "9bdf275c",
   "metadata": {},
   "outputs": [
    {
     "data": {
      "text/plain": [
       "775346"
      ]
     },
     "execution_count": 6,
     "metadata": {},
     "output_type": "execute_result"
    }
   ],
   "source": [
    "len(cleanedDataFrame)"
   ]
  },
  {
   "cell_type": "code",
   "execution_count": 7,
   "id": "fd23bead",
   "metadata": {},
   "outputs": [
    {
     "data": {
      "text/plain": [
       "id        775346\n",
       "date      775346\n",
       "county    775346\n",
       "state     775346\n",
       "fips      775346\n",
       "cases     775346\n",
       "deaths    775346\n",
       "dtype: int64"
      ]
     },
     "execution_count": 7,
     "metadata": {},
     "output_type": "execute_result"
    }
   ],
   "source": [
    "cleanedDataFrame.count()"
   ]
  },
  {
   "cell_type": "code",
   "execution_count": 8,
   "id": "19c42946",
   "metadata": {},
   "outputs": [
    {
     "data": {
      "text/plain": [
       "id        0\n",
       "date      0\n",
       "county    0\n",
       "state     0\n",
       "fips      0\n",
       "cases     0\n",
       "deaths    0\n",
       "dtype: int64"
      ]
     },
     "execution_count": 8,
     "metadata": {},
     "output_type": "execute_result"
    }
   ],
   "source": [
    "cleanedDataFrame.count() - len(cleanedDataFrame)"
   ]
  },
  {
   "cell_type": "code",
   "execution_count": 9,
   "id": "e9e13a3d",
   "metadata": {},
   "outputs": [],
   "source": [
    "cleanedDataFrame = cleanedDataFrame.drop(cleanedDataFrame[cleanedDataFrame[\"county\"]==\"Unknown\"].index)"
   ]
  },
  {
   "cell_type": "code",
   "execution_count": 10,
   "id": "e9712ce4",
   "metadata": {},
   "outputs": [
    {
     "data": {
      "text/plain": [
       "775346"
      ]
     },
     "execution_count": 10,
     "metadata": {},
     "output_type": "execute_result"
    }
   ],
   "source": [
    "len(cleanedDataFrame)"
   ]
  },
  {
   "cell_type": "code",
   "execution_count": 11,
   "id": "23303298",
   "metadata": {},
   "outputs": [
    {
     "data": {
      "text/html": [
       "<div>\n",
       "<style scoped>\n",
       "    .dataframe tbody tr th:only-of-type {\n",
       "        vertical-align: middle;\n",
       "    }\n",
       "\n",
       "    .dataframe tbody tr th {\n",
       "        vertical-align: top;\n",
       "    }\n",
       "\n",
       "    .dataframe thead th {\n",
       "        text-align: right;\n",
       "    }\n",
       "</style>\n",
       "<table border=\"1\" class=\"dataframe\">\n",
       "  <thead>\n",
       "    <tr style=\"text-align: right;\">\n",
       "      <th></th>\n",
       "      <th>id</th>\n",
       "      <th>date</th>\n",
       "      <th>county</th>\n",
       "      <th>state</th>\n",
       "      <th>fips</th>\n",
       "      <th>cases</th>\n",
       "      <th>deaths</th>\n",
       "    </tr>\n",
       "  </thead>\n",
       "  <tbody>\n",
       "  </tbody>\n",
       "</table>\n",
       "</div>"
      ],
      "text/plain": [
       "Empty DataFrame\n",
       "Columns: [id, date, county, state, fips, cases, deaths]\n",
       "Index: []"
      ]
     },
     "execution_count": 11,
     "metadata": {},
     "output_type": "execute_result"
    }
   ],
   "source": [
    "cleanedDataFrame[cleanedDataFrame[\"county\"]==\"Unknown\"]"
   ]
  },
  {
   "cell_type": "code",
   "execution_count": 12,
   "id": "c5513dc4",
   "metadata": {},
   "outputs": [
    {
     "data": {
      "text/plain": [
       "0"
      ]
     },
     "execution_count": 12,
     "metadata": {},
     "output_type": "execute_result"
    }
   ],
   "source": [
    "len(cleanedDataFrame[cleanedDataFrame[\"county\"]==\"Unknown\"][\"county\"])"
   ]
  },
  {
   "cell_type": "markdown",
   "id": "7186f7c2",
   "metadata": {},
   "source": [
    "#### Conversion au même format pour les dates"
   ]
  },
  {
   "cell_type": "code",
   "execution_count": 13,
   "id": "698ad576",
   "metadata": {},
   "outputs": [],
   "source": [
    " cleanedDataFrame['date'] = cleanedDataFrame['date'].replace(to_replace = \"^([0-9]{4})\\.([0-9]{2})\\.([0-9]{2}){1}$\", value = \"\\\\1-\\\\2-\\\\3\", regex=True)"
   ]
  },
  {
   "cell_type": "code",
   "execution_count": 14,
   "id": "277ae58e",
   "metadata": {},
   "outputs": [
    {
     "data": {
      "text/html": [
       "<div>\n",
       "<style scoped>\n",
       "    .dataframe tbody tr th:only-of-type {\n",
       "        vertical-align: middle;\n",
       "    }\n",
       "\n",
       "    .dataframe tbody tr th {\n",
       "        vertical-align: top;\n",
       "    }\n",
       "\n",
       "    .dataframe thead th {\n",
       "        text-align: right;\n",
       "    }\n",
       "</style>\n",
       "<table border=\"1\" class=\"dataframe\">\n",
       "  <thead>\n",
       "    <tr style=\"text-align: right;\">\n",
       "      <th></th>\n",
       "      <th>id</th>\n",
       "      <th>date</th>\n",
       "      <th>county</th>\n",
       "      <th>state</th>\n",
       "      <th>fips</th>\n",
       "      <th>cases</th>\n",
       "      <th>deaths</th>\n",
       "    </tr>\n",
       "  </thead>\n",
       "  <tbody>\n",
       "  </tbody>\n",
       "</table>\n",
       "</div>"
      ],
      "text/plain": [
       "Empty DataFrame\n",
       "Columns: [id, date, county, state, fips, cases, deaths]\n",
       "Index: []"
      ]
     },
     "execution_count": 14,
     "metadata": {},
     "output_type": "execute_result"
    }
   ],
   "source": [
    "cleanedDataFrame[cleanedDataFrame['date'].str.contains('^[0-9]{4}\\.[0-9]{2}\\.[0-9]{2}$', regex = True, na = False)]"
   ]
  },
  {
   "cell_type": "code",
   "execution_count": 15,
   "id": "b8b77fc7",
   "metadata": {},
   "outputs": [
    {
     "data": {
      "text/plain": [
       "0"
      ]
     },
     "execution_count": 15,
     "metadata": {},
     "output_type": "execute_result"
    }
   ],
   "source": [
    "len(cleanedDataFrame[cleanedDataFrame['date'].str.contains('^[0-9]{4}\\.[0-9]{2}\\.[0-9]{2}$', regex = True, na = False)]['date'])"
   ]
  },
  {
   "cell_type": "markdown",
   "id": "35b3f731",
   "metadata": {},
   "source": [
    "#### Suppression des \"-\" dans les colonnes quantitatives (fips, cases, deaths)"
   ]
  },
  {
   "cell_type": "code",
   "execution_count": 16,
   "id": "1bd00b9b",
   "metadata": {},
   "outputs": [],
   "source": [
    "cleanedDataFrame['fips'] = cleanedDataFrame['fips'].apply(str).replace(to_replace = \"^(-)(.+)$\", value = \"\\\\2\", regex=True)"
   ]
  },
  {
   "cell_type": "code",
   "execution_count": 17,
   "id": "d6a0351f",
   "metadata": {},
   "outputs": [
    {
     "data": {
      "text/plain": [
       "Series([], Name: fips, dtype: object)"
      ]
     },
     "execution_count": 17,
     "metadata": {},
     "output_type": "execute_result"
    }
   ],
   "source": [
    "cleanedDataFrame[cleanedDataFrame['fips'].apply(str).str.contains('^-.+$', regex = True, na = False)]['fips']"
   ]
  },
  {
   "cell_type": "code",
   "execution_count": 18,
   "id": "9aeefb01",
   "metadata": {},
   "outputs": [],
   "source": [
    "cleanedDataFrame['cases'] = cleanedDataFrame['cases'].apply(str).replace(to_replace = \"^(-)(.+)$\", value = \"\\\\2\", regex=True)"
   ]
  },
  {
   "cell_type": "code",
   "execution_count": 19,
   "id": "c7b9941e",
   "metadata": {},
   "outputs": [
    {
     "data": {
      "text/plain": [
       "Series([], Name: cases, dtype: object)"
      ]
     },
     "execution_count": 19,
     "metadata": {},
     "output_type": "execute_result"
    }
   ],
   "source": [
    "cleanedDataFrame[cleanedDataFrame['cases'].apply(str).str.contains('^-.+$', regex = True, na = False)]['cases']"
   ]
  },
  {
   "cell_type": "code",
   "execution_count": 20,
   "id": "f5223272",
   "metadata": {},
   "outputs": [],
   "source": [
    "cleanedDataFrame['deaths'] = cleanedDataFrame['deaths'].apply(str).replace(to_replace = \"^(-)(.+)$\", value = \"\\\\2\", regex=True)"
   ]
  },
  {
   "cell_type": "code",
   "execution_count": 21,
   "id": "0736cd93",
   "metadata": {},
   "outputs": [
    {
     "data": {
      "text/plain": [
       "Series([], Name: deaths, dtype: object)"
      ]
     },
     "execution_count": 21,
     "metadata": {},
     "output_type": "execute_result"
    }
   ],
   "source": [
    "cleanedDataFrame[cleanedDataFrame['deaths'].apply(str).str.contains('^-.+$', regex = True, na = False)]['deaths']"
   ]
  },
  {
   "cell_type": "markdown",
   "id": "6bce3d44",
   "metadata": {},
   "source": [
    "#### Transformation des colonnes quantitatives en entiers (fips, cases, deaths)"
   ]
  },
  {
   "cell_type": "code",
   "execution_count": 22,
   "id": "4ec17b22",
   "metadata": {},
   "outputs": [],
   "source": [
    "cleanedDataFrame[\"fips\"] = pandas.to_numeric(cleanedDataFrame[\"fips\"], downcast='integer')"
   ]
  },
  {
   "cell_type": "code",
   "execution_count": 23,
   "id": "bb88d2f1",
   "metadata": {},
   "outputs": [
    {
     "data": {
      "text/plain": [
       "0         53061\n",
       "1         53061\n",
       "2         53061\n",
       "3         17031\n",
       "4         53061\n",
       "          ...  \n",
       "800432    56037\n",
       "800433    56039\n",
       "800434    56041\n",
       "800435    56043\n",
       "800436    56045\n",
       "Name: fips, Length: 775346, dtype: int32"
      ]
     },
     "execution_count": 23,
     "metadata": {},
     "output_type": "execute_result"
    }
   ],
   "source": [
    "cleanedDataFrame[\"fips\"]"
   ]
  },
  {
   "cell_type": "code",
   "execution_count": 24,
   "id": "a2062407",
   "metadata": {},
   "outputs": [],
   "source": [
    "cleanedDataFrame[\"cases\"] = pandas.to_numeric(cleanedDataFrame[\"cases\"], downcast='integer')"
   ]
  },
  {
   "cell_type": "code",
   "execution_count": 25,
   "id": "e26f4f50",
   "metadata": {},
   "outputs": [
    {
     "data": {
      "text/plain": [
       "0            1\n",
       "1            1\n",
       "2            1\n",
       "3            1\n",
       "4            1\n",
       "          ... \n",
       "800432    2098\n",
       "800433    1739\n",
       "800434    1187\n",
       "800435     519\n",
       "800436     419\n",
       "Name: cases, Length: 775346, dtype: int32"
      ]
     },
     "execution_count": 25,
     "metadata": {},
     "output_type": "execute_result"
    }
   ],
   "source": [
    "cleanedDataFrame[\"cases\"]"
   ]
  },
  {
   "cell_type": "code",
   "execution_count": 26,
   "id": "0311222d",
   "metadata": {},
   "outputs": [],
   "source": [
    "cleanedDataFrame[\"deaths\"] = pandas.to_numeric(cleanedDataFrame[\"deaths\"], downcast='integer')"
   ]
  },
  {
   "cell_type": "code",
   "execution_count": 27,
   "id": "7b11e1ee",
   "metadata": {},
   "outputs": [
    {
     "data": {
      "text/plain": [
       "0          0\n",
       "1          0\n",
       "2          0\n",
       "3          0\n",
       "4          0\n",
       "          ..\n",
       "800432    10\n",
       "800433     2\n",
       "800434     5\n",
       "800435     8\n",
       "800436     2\n",
       "Name: deaths, Length: 775346, dtype: int16"
      ]
     },
     "execution_count": 27,
     "metadata": {},
     "output_type": "execute_result"
    }
   ],
   "source": [
    "cleanedDataFrame[\"deaths\"]"
   ]
  },
  {
   "cell_type": "markdown",
   "id": "f220856d",
   "metadata": {},
   "source": [
    "### Export des données nettoyées"
   ]
  },
  {
   "cell_type": "code",
   "execution_count": 28,
   "id": "c5641dfc",
   "metadata": {},
   "outputs": [],
   "source": [
    "cleanedDataFrame.to_csv(\"..\\data\\cleaned_data.csv\", index = False)"
   ]
  }
 ],
 "metadata": {
  "kernelspec": {
   "display_name": "Python 3 (ipykernel)",
   "language": "python",
   "name": "python3"
  },
  "language_info": {
   "codemirror_mode": {
    "name": "ipython",
    "version": 3
   },
   "file_extension": ".py",
   "mimetype": "text/x-python",
   "name": "python",
   "nbconvert_exporter": "python",
   "pygments_lexer": "ipython3",
   "version": "3.10.2"
  }
 },
 "nbformat": 4,
 "nbformat_minor": 5
}
