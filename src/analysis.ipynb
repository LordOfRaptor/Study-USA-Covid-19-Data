{
 "cells": [
  {
   "cell_type": "code",
   "execution_count": 7,
   "id": "4c4c9fe3",
   "metadata": {},
   "outputs": [
    {
     "name": "stdout",
     "output_type": "stream",
     "text": [
      "Modified Dataframe : \n",
      "              date      county       state     fips   cases  deaths\n",
      "0       2020-01-21   Snohomish  Washington  53061.0     1.0     0.0\n",
      "1       2020-01-22   Snohomish  Washington  53061.0     1.0     0.0\n",
      "2       2020-01-23   Snohomish  Washington  53061.0     1.0     0.0\n",
      "3       2020-01-24        Cook    Illinois  17031.0     1.0     0.0\n",
      "4       2020-01-24   Snohomish  Washington  53061.0     1.0     0.0\n",
      "...            ...         ...         ...      ...     ...     ...\n",
      "800432  2020-12-05  Sweetwater     Wyoming  56037.0  2098.0    10.0\n",
      "800433  2020-12-05       Teton     Wyoming  56039.0  1739.0     2.0\n",
      "800434  2020-12-05       Uinta     Wyoming  56041.0  1187.0     5.0\n",
      "800435  2020-12-05    Washakie     Wyoming  56043.0   519.0     8.0\n",
      "800436  2020-12-05      Weston     Wyoming  56045.0   419.0     2.0\n",
      "\n",
      "[800437 rows x 6 columns]\n"
     ]
    }
   ],
   "source": [
    "import pandas as pd\n",
    "\n",
    "data = pd.read_csv(\"../data/corrupted_data.csv\")\n",
    "df = pd.DataFrame(data)\n",
    "# Drop first column of dataframe\n",
    "df = df.iloc[: , 1:]\n",
    "print(\"Modified Dataframe : \")\n",
    "print(df)"
   ]
  },
  {
   "cell_type": "code",
   "execution_count": null,
   "id": "5084b744",
   "metadata": {},
   "outputs": [],
   "source": []
  }
 ],
 "metadata": {
  "kernelspec": {
   "display_name": "Python 3 (ipykernel)",
   "language": "python",
   "name": "python3"
  },
  "language_info": {
   "codemirror_mode": {
    "name": "ipython",
    "version": 3
   },
   "file_extension": ".py",
   "mimetype": "text/x-python",
   "name": "python",
   "nbconvert_exporter": "python",
   "pygments_lexer": "ipython3",
   "version": "3.10.1"
  }
 },
 "nbformat": 4,
 "nbformat_minor": 5
}
