{
 "cells": [
  {
   "cell_type": "code",
   "execution_count": 76,
   "id": "289c9b1a-3a0b-44fe-aad8-ac7c461c2e11",
   "metadata": {},
   "outputs": [],
   "source": [
    "import matplotlib.pyplot as plt\n",
    "from sklearn import datasets\n",
    "from sklearn.model_selection import train_test_split\n",
    "from sklearn.preprocessing import OneHotEncoder\n",
    "from tensorflow import keras\n",
    "from sklearn import preprocessing"
   ]
  },
  {
   "cell_type": "code",
   "execution_count": 77,
   "id": "59d286b1-9802-49d5-b355-555b2b407460",
   "metadata": {},
   "outputs": [
    {
     "name": "stdout",
     "output_type": "stream",
     "text": [
      "Modified Dataframe : \n",
      "              date      county       state     fips   cases  deaths\n",
      "0       2020-01-21   Snohomish  Washington  53061.0     1.0     0.0\n",
      "1       2020-01-22   Snohomish  Washington  53061.0     1.0     0.0\n",
      "2       2020-01-23   Snohomish  Washington  53061.0     1.0     0.0\n",
      "3       2020-01-24        Cook    Illinois  17031.0     1.0     0.0\n",
      "4       2020-01-24   Snohomish  Washington  53061.0     1.0     0.0\n",
      "...            ...         ...         ...      ...     ...     ...\n",
      "775614  2020-12-05  Sweetwater     Wyoming  56037.0  2098.0    10.0\n",
      "775615  2020-12-05       Teton     Wyoming  56039.0  1739.0     2.0\n",
      "775616  2020-12-05       Uinta     Wyoming  56041.0  1187.0     5.0\n",
      "775617  2020-12-05    Washakie     Wyoming  56043.0   519.0     8.0\n",
      "775618  2020-12-05      Weston     Wyoming  56045.0   419.0     2.0\n",
      "\n",
      "[775619 rows x 6 columns]\n",
      "Data type of each column of Dataframe :\n",
      "date       object\n",
      "county     object\n",
      "state      object\n",
      "fips      float64\n",
      "cases     float64\n",
      "deaths    float64\n",
      "dtype: object\n"
     ]
    }
   ],
   "source": [
    "import pandas as pd\n",
    "import numpy as np\n",
    "data = pd.read_csv(\"../data/data.csv\")\n",
    "df = pd.DataFrame(data)\n",
    "df = df.iloc[: , 1:]\n",
    "print(\"Modified Dataframe : \")\n",
    "print(df)\n",
    "dataTypeSeries = df.dtypes\n",
    "print('Data type of each column of Dataframe :')\n",
    "print(dataTypeSeries)"
   ]
  },
  {
   "cell_type": "code",
   "execution_count": 78,
   "id": "d00edfd0-9cd0-42ce-abe3-c232bf37aac7",
   "metadata": {},
   "outputs": [
    {
     "name": "stdout",
     "output_type": "stream",
     "text": [
      "              date      county       state   fips  cases  deaths\n",
      "0       2020-01-21   Snohomish  Washington  53061      1       0\n",
      "1       2020-01-22   Snohomish  Washington  53061      1       0\n",
      "2       2020-01-23   Snohomish  Washington  53061      1       0\n",
      "3       2020-01-24        Cook    Illinois  17031      1       0\n",
      "4       2020-01-24   Snohomish  Washington  53061      1       0\n",
      "...            ...         ...         ...    ...    ...     ...\n",
      "775614  2020-12-05  Sweetwater     Wyoming  56037   2098      10\n",
      "775615  2020-12-05       Teton     Wyoming  56039   1739       2\n",
      "775616  2020-12-05       Uinta     Wyoming  56041   1187       5\n",
      "775617  2020-12-05    Washakie     Wyoming  56043    519       8\n",
      "775618  2020-12-05      Weston     Wyoming  56045    419       2\n",
      "\n",
      "[775619 rows x 6 columns]\n",
      "date      datetime64[ns]\n",
      "county            string\n",
      "state             string\n",
      "fips               Int64\n",
      "cases              Int64\n",
      "deaths             Int64\n",
      "dtype: object\n",
      "Data type of each column of Dataframe :\n",
      "date       int64\n",
      "county    string\n",
      "state     string\n",
      "fips       Int64\n",
      "cases      Int64\n",
      "deaths     Int64\n",
      "dtype: object\n"
     ]
    }
   ],
   "source": [
    "import time\n",
    "import datetime\n",
    "df = df.convert_dtypes()\n",
    "print(df)\n",
    "df['date'] = pd.to_datetime(df['date'])\n",
    "dataTypeSeries = df.dtypes\n",
    "print(dataTypeSeries)\n",
    "df['date'] = (pd.to_datetime(df['date']).astype(np.int64)/100000000000).astype(np.int64)\n",
    "\n",
    "dataTypeSeries = df.dtypes\n",
    "#value - min/max - min\n",
    "print('Data type of each column of Dataframe :')\n",
    "print(dataTypeSeries)\n"
   ]
  },
  {
   "cell_type": "code",
   "execution_count": 79,
   "id": "eefaaac5-6f23-432c-8008-0341427a4cad",
   "metadata": {},
   "outputs": [
    {
     "data": {
      "text/html": [
       "<div>\n",
       "<style scoped>\n",
       "    .dataframe tbody tr th:only-of-type {\n",
       "        vertical-align: middle;\n",
       "    }\n",
       "\n",
       "    .dataframe tbody tr th {\n",
       "        vertical-align: top;\n",
       "    }\n",
       "\n",
       "    .dataframe thead th {\n",
       "        text-align: right;\n",
       "    }\n",
       "</style>\n",
       "<table border=\"1\" class=\"dataframe\">\n",
       "  <thead>\n",
       "    <tr style=\"text-align: right;\">\n",
       "      <th></th>\n",
       "      <th>date</th>\n",
       "      <th>county</th>\n",
       "      <th>state</th>\n",
       "      <th>fips</th>\n",
       "      <th>cases</th>\n",
       "      <th>deaths</th>\n",
       "    </tr>\n",
       "  </thead>\n",
       "  <tbody>\n",
       "    <tr>\n",
       "      <th>0</th>\n",
       "      <td>15795648</td>\n",
       "      <td>Snohomish</td>\n",
       "      <td>Washington</td>\n",
       "      <td>53061</td>\n",
       "      <td>1</td>\n",
       "      <td>0</td>\n",
       "    </tr>\n",
       "    <tr>\n",
       "      <th>1</th>\n",
       "      <td>15796512</td>\n",
       "      <td>Snohomish</td>\n",
       "      <td>Washington</td>\n",
       "      <td>53061</td>\n",
       "      <td>1</td>\n",
       "      <td>0</td>\n",
       "    </tr>\n",
       "    <tr>\n",
       "      <th>2</th>\n",
       "      <td>15797376</td>\n",
       "      <td>Snohomish</td>\n",
       "      <td>Washington</td>\n",
       "      <td>53061</td>\n",
       "      <td>1</td>\n",
       "      <td>0</td>\n",
       "    </tr>\n",
       "    <tr>\n",
       "      <th>3</th>\n",
       "      <td>15798240</td>\n",
       "      <td>Cook</td>\n",
       "      <td>Illinois</td>\n",
       "      <td>17031</td>\n",
       "      <td>1</td>\n",
       "      <td>0</td>\n",
       "    </tr>\n",
       "    <tr>\n",
       "      <th>4</th>\n",
       "      <td>15798240</td>\n",
       "      <td>Snohomish</td>\n",
       "      <td>Washington</td>\n",
       "      <td>53061</td>\n",
       "      <td>1</td>\n",
       "      <td>0</td>\n",
       "    </tr>\n",
       "    <tr>\n",
       "      <th>...</th>\n",
       "      <td>...</td>\n",
       "      <td>...</td>\n",
       "      <td>...</td>\n",
       "      <td>...</td>\n",
       "      <td>...</td>\n",
       "      <td>...</td>\n",
       "    </tr>\n",
       "    <tr>\n",
       "      <th>775614</th>\n",
       "      <td>16071264</td>\n",
       "      <td>Sweetwater</td>\n",
       "      <td>Wyoming</td>\n",
       "      <td>56037</td>\n",
       "      <td>2098</td>\n",
       "      <td>10</td>\n",
       "    </tr>\n",
       "    <tr>\n",
       "      <th>775615</th>\n",
       "      <td>16071264</td>\n",
       "      <td>Teton</td>\n",
       "      <td>Wyoming</td>\n",
       "      <td>56039</td>\n",
       "      <td>1739</td>\n",
       "      <td>2</td>\n",
       "    </tr>\n",
       "    <tr>\n",
       "      <th>775616</th>\n",
       "      <td>16071264</td>\n",
       "      <td>Uinta</td>\n",
       "      <td>Wyoming</td>\n",
       "      <td>56041</td>\n",
       "      <td>1187</td>\n",
       "      <td>5</td>\n",
       "    </tr>\n",
       "    <tr>\n",
       "      <th>775617</th>\n",
       "      <td>16071264</td>\n",
       "      <td>Washakie</td>\n",
       "      <td>Wyoming</td>\n",
       "      <td>56043</td>\n",
       "      <td>519</td>\n",
       "      <td>8</td>\n",
       "    </tr>\n",
       "    <tr>\n",
       "      <th>775618</th>\n",
       "      <td>16071264</td>\n",
       "      <td>Weston</td>\n",
       "      <td>Wyoming</td>\n",
       "      <td>56045</td>\n",
       "      <td>419</td>\n",
       "      <td>2</td>\n",
       "    </tr>\n",
       "  </tbody>\n",
       "</table>\n",
       "<p>775619 rows × 6 columns</p>\n",
       "</div>"
      ],
      "text/plain": [
       "            date      county       state   fips  cases  deaths\n",
       "0       15795648   Snohomish  Washington  53061      1       0\n",
       "1       15796512   Snohomish  Washington  53061      1       0\n",
       "2       15797376   Snohomish  Washington  53061      1       0\n",
       "3       15798240        Cook    Illinois  17031      1       0\n",
       "4       15798240   Snohomish  Washington  53061      1       0\n",
       "...          ...         ...         ...    ...    ...     ...\n",
       "775614  16071264  Sweetwater     Wyoming  56037   2098      10\n",
       "775615  16071264       Teton     Wyoming  56039   1739       2\n",
       "775616  16071264       Uinta     Wyoming  56041   1187       5\n",
       "775617  16071264    Washakie     Wyoming  56043    519       8\n",
       "775618  16071264      Weston     Wyoming  56045    419       2\n",
       "\n",
       "[775619 rows x 6 columns]"
      ]
     },
     "execution_count": 79,
     "metadata": {},
     "output_type": "execute_result"
    }
   ],
   "source": [
    "df"
   ]
  },
  {
   "cell_type": "code",
   "execution_count": 80,
   "id": "29501e39-5776-46a2-bef3-b0d736e7e497",
   "metadata": {},
   "outputs": [
    {
     "name": "stdout",
     "output_type": "stream",
     "text": [
      "            date      county  state   fips  cases  deaths\n",
      "0       15795648   Snohomish     53  53061      1       0\n",
      "1       15796512   Snohomish     53  53061      1       0\n",
      "2       15797376   Snohomish     53  53061      1       0\n",
      "3       15798240        Cook     17  17031      1       0\n",
      "4       15798240   Snohomish     53  53061      1       0\n",
      "...          ...         ...    ...    ...    ...     ...\n",
      "775614  16071264  Sweetwater     56  56037   2098      10\n",
      "775615  16071264       Teton     56  56039   1739       2\n",
      "775616  16071264       Uinta     56  56041   1187       5\n",
      "775617  16071264    Washakie     56  56043    519       8\n",
      "775618  16071264      Weston     56  56045    419       2\n",
      "\n",
      "[775619 rows x 6 columns]\n"
     ]
    }
   ],
   "source": [
    "\n",
    "df['state'] = (df['fips']/1000).astype(np.int64)\n",
    "\n",
    "df = df.convert_dtypes()\n",
    "print(df)"
   ]
  },
  {
   "cell_type": "code",
   "execution_count": 81,
   "id": "af3f2409-c06e-4b4f-952a-aa78cab06734",
   "metadata": {},
   "outputs": [
    {
     "data": {
      "text/html": [
       "<div>\n",
       "<style scoped>\n",
       "    .dataframe tbody tr th:only-of-type {\n",
       "        vertical-align: middle;\n",
       "    }\n",
       "\n",
       "    .dataframe tbody tr th {\n",
       "        vertical-align: top;\n",
       "    }\n",
       "\n",
       "    .dataframe thead th {\n",
       "        text-align: right;\n",
       "    }\n",
       "</style>\n",
       "<table border=\"1\" class=\"dataframe\">\n",
       "  <thead>\n",
       "    <tr style=\"text-align: right;\">\n",
       "      <th></th>\n",
       "      <th>date</th>\n",
       "      <th>state</th>\n",
       "      <th>fips</th>\n",
       "      <th>cases</th>\n",
       "      <th>deaths</th>\n",
       "    </tr>\n",
       "  </thead>\n",
       "  <tbody>\n",
       "    <tr>\n",
       "      <th>0</th>\n",
       "      <td>15795648</td>\n",
       "      <td>53</td>\n",
       "      <td>53061</td>\n",
       "      <td>1</td>\n",
       "      <td>0</td>\n",
       "    </tr>\n",
       "    <tr>\n",
       "      <th>1</th>\n",
       "      <td>15796512</td>\n",
       "      <td>53</td>\n",
       "      <td>53061</td>\n",
       "      <td>1</td>\n",
       "      <td>0</td>\n",
       "    </tr>\n",
       "    <tr>\n",
       "      <th>2</th>\n",
       "      <td>15797376</td>\n",
       "      <td>53</td>\n",
       "      <td>53061</td>\n",
       "      <td>1</td>\n",
       "      <td>0</td>\n",
       "    </tr>\n",
       "    <tr>\n",
       "      <th>3</th>\n",
       "      <td>15798240</td>\n",
       "      <td>17</td>\n",
       "      <td>17031</td>\n",
       "      <td>1</td>\n",
       "      <td>0</td>\n",
       "    </tr>\n",
       "    <tr>\n",
       "      <th>4</th>\n",
       "      <td>15798240</td>\n",
       "      <td>53</td>\n",
       "      <td>53061</td>\n",
       "      <td>1</td>\n",
       "      <td>0</td>\n",
       "    </tr>\n",
       "    <tr>\n",
       "      <th>...</th>\n",
       "      <td>...</td>\n",
       "      <td>...</td>\n",
       "      <td>...</td>\n",
       "      <td>...</td>\n",
       "      <td>...</td>\n",
       "    </tr>\n",
       "    <tr>\n",
       "      <th>775614</th>\n",
       "      <td>16071264</td>\n",
       "      <td>56</td>\n",
       "      <td>56037</td>\n",
       "      <td>2098</td>\n",
       "      <td>10</td>\n",
       "    </tr>\n",
       "    <tr>\n",
       "      <th>775615</th>\n",
       "      <td>16071264</td>\n",
       "      <td>56</td>\n",
       "      <td>56039</td>\n",
       "      <td>1739</td>\n",
       "      <td>2</td>\n",
       "    </tr>\n",
       "    <tr>\n",
       "      <th>775616</th>\n",
       "      <td>16071264</td>\n",
       "      <td>56</td>\n",
       "      <td>56041</td>\n",
       "      <td>1187</td>\n",
       "      <td>5</td>\n",
       "    </tr>\n",
       "    <tr>\n",
       "      <th>775617</th>\n",
       "      <td>16071264</td>\n",
       "      <td>56</td>\n",
       "      <td>56043</td>\n",
       "      <td>519</td>\n",
       "      <td>8</td>\n",
       "    </tr>\n",
       "    <tr>\n",
       "      <th>775618</th>\n",
       "      <td>16071264</td>\n",
       "      <td>56</td>\n",
       "      <td>56045</td>\n",
       "      <td>419</td>\n",
       "      <td>2</td>\n",
       "    </tr>\n",
       "  </tbody>\n",
       "</table>\n",
       "<p>775619 rows × 5 columns</p>\n",
       "</div>"
      ],
      "text/plain": [
       "            date  state   fips  cases  deaths\n",
       "0       15795648     53  53061      1       0\n",
       "1       15796512     53  53061      1       0\n",
       "2       15797376     53  53061      1       0\n",
       "3       15798240     17  17031      1       0\n",
       "4       15798240     53  53061      1       0\n",
       "...          ...    ...    ...    ...     ...\n",
       "775614  16071264     56  56037   2098      10\n",
       "775615  16071264     56  56039   1739       2\n",
       "775616  16071264     56  56041   1187       5\n",
       "775617  16071264     56  56043    519       8\n",
       "775618  16071264     56  56045    419       2\n",
       "\n",
       "[775619 rows x 5 columns]"
      ]
     },
     "execution_count": 81,
     "metadata": {},
     "output_type": "execute_result"
    }
   ],
   "source": [
    "df_no_county = df.iloc[:,[0,2,3,4,5]]\n",
    "df_no_county\n"
   ]
  },
  {
   "cell_type": "code",
   "execution_count": 82,
   "id": "ac508a0b-f0cf-4ec3-8c98-7e0daab10340",
   "metadata": {},
   "outputs": [
    {
     "name": "stdout",
     "output_type": "stream",
     "text": [
      "            date  state   fips  cases\n",
      "0       15795648     53  53061      1\n",
      "1       15796512     53  53061      1\n",
      "2       15797376     53  53061      1\n",
      "3       15798240     17  17031      1\n",
      "4       15798240     53  53061      1\n",
      "...          ...    ...    ...    ...\n",
      "775614  16071264     56  56037   2098\n",
      "775615  16071264     56  56039   1739\n",
      "775616  16071264     56  56041   1187\n",
      "775617  16071264     56  56043    519\n",
      "775618  16071264     56  56045    419\n",
      "\n",
      "[775619 rows x 4 columns]\n"
     ]
    }
   ],
   "source": [
    "df_data = df_no_county.iloc[:,:4]\n",
    "print(df_data)"
   ]
  },
  {
   "cell_type": "code",
   "execution_count": 83,
   "id": "e668b074-7669-459e-8f85-65335a4f9d19",
   "metadata": {},
   "outputs": [
    {
     "name": "stdout",
     "output_type": "stream",
     "text": [
      "[[0.]\n",
      " [0.]\n",
      " [0.]\n",
      " ...\n",
      " [5.]\n",
      " [8.]\n",
      " [2.]]\n"
     ]
    }
   ],
   "source": [
    "df_result = df_no_county.iloc[:,4:]\n",
    "df_result=np.asarray(df_result).astype(np.float64)\n",
    "print(df_result)"
   ]
  },
  {
   "cell_type": "code",
   "execution_count": 84,
   "id": "3cb84acf-7f92-4828-a846-0b192ffb0c75",
   "metadata": {},
   "outputs": [],
   "source": [
    "df_data_train, df_data_test,df_result_train,df_result_test = train_test_split(df_data,df_result, test_size=0.25, random_state=1)"
   ]
  },
  {
   "cell_type": "code",
   "execution_count": 99,
   "id": "1a03c3fe-b78a-49d8-8fa9-0f99509ee655",
   "metadata": {},
   "outputs": [
    {
     "name": "stdout",
     "output_type": "stream",
     "text": [
      "            date     state      fips     cases\n",
      "0       0.063130  1.161892  1.178209 -0.039538\n",
      "1       0.039891 -0.931710 -0.934291 -0.173574\n",
      "2       0.078419  1.685292  1.679181 -0.039268\n",
      "3       0.059461  0.442216  0.446813 -0.054475\n",
      "4       0.020933 -0.604585 -0.600092 -0.200219\n",
      "...          ...       ...       ...       ...\n",
      "581709  0.010537  1.096467  1.089595 -0.187031\n",
      "581710  0.034387 -0.800860 -0.804245 -0.090272\n",
      "581711  0.030107  0.769341  0.762061 -0.165634\n",
      "581712  0.034387 -0.408310 -0.412668 -0.170747\n",
      "581713 -0.038999  1.358167  1.393014 -0.129971\n",
      "\n",
      "[581714 rows x 4 columns]             date     state      fips     cases\n",
      "0      -0.056992 -0.803132 -0.802465 -0.202267\n",
      "1      -0.046435  0.568914  0.570969 -0.203725\n",
      "2      -0.001101  1.156933  1.160646 -0.107853\n",
      "3      -0.012900 -0.607125 -0.605384 -0.204256\n",
      "4       0.090188 -1.913835 -1.917344  0.727019\n",
      "...          ...       ...       ...       ...\n",
      "193900 -0.015384 -0.868467 -0.869160 -0.162220\n",
      "193901 -0.025942  1.548946  1.543845 -0.202797\n",
      "193902  0.061000 -1.652493 -1.651742 -0.001903\n",
      "193903 -0.039604 -1.195145 -1.198977 -0.191128\n",
      "193904  0.005730 -0.868467 -0.861459 -0.171635\n",
      "\n",
      "[193905 rows x 4 columns]\n"
     ]
    }
   ],
   "source": [
    "print(df_data_train, df_data_test)"
   ]
  },
  {
   "cell_type": "code",
   "execution_count": 100,
   "id": "72623cc8-c53b-4be9-90c6-519dc44fcf5b",
   "metadata": {},
   "outputs": [
    {
     "name": "stdout",
     "output_type": "stream",
     "text": [
      "[[32.]\n",
      " [ 0.]\n",
      " [ 2.]\n",
      " ...\n",
      " [ 9.]\n",
      " [24.]\n",
      " [21.]] [[ 0.]\n",
      " [ 0.]\n",
      " [ 7.]\n",
      " ...\n",
      " [23.]\n",
      " [ 2.]\n",
      " [16.]]\n"
     ]
    }
   ],
   "source": [
    "print(df_result_train,df_result_test)"
   ]
  },
  {
   "cell_type": "code",
   "execution_count": 109,
   "id": "9e82182c-2c70-4ba9-993a-b9bfd2569faa",
   "metadata": {},
   "outputs": [
    {
     "name": "stdout",
     "output_type": "stream",
     "text": [
      "            date     state      fips     cases\n",
      "0       0.063130  1.161892  1.178209 -0.039538\n",
      "1       0.039891 -0.931710 -0.934291 -0.173574\n",
      "2       0.078419  1.685292  1.679181 -0.039268\n",
      "3       0.059461  0.442216  0.446813 -0.054475\n",
      "4       0.020933 -0.604585 -0.600092 -0.200219\n",
      "...          ...       ...       ...       ...\n",
      "581709  0.010537  1.096467  1.089595 -0.187031\n",
      "581710  0.034387 -0.800860 -0.804245 -0.090272\n",
      "581711  0.030107  0.769341  0.762061 -0.165634\n",
      "581712  0.034387 -0.408310 -0.412668 -0.170747\n",
      "581713 -0.038999  1.358167  1.393014 -0.129971\n",
      "\n",
      "[581714 rows x 4 columns]\n",
      "            date     state      fips     cases\n",
      "0      -0.056992 -0.803132 -0.802465 -0.202267\n",
      "1      -0.046435  0.568914  0.570969 -0.203725\n",
      "2      -0.001101  1.156933  1.160646 -0.107853\n",
      "3      -0.012900 -0.607125 -0.605384 -0.204256\n",
      "4       0.090188 -1.913835 -1.917344  0.727019\n",
      "...          ...       ...       ...       ...\n",
      "193900 -0.015384 -0.868467 -0.869160 -0.162220\n",
      "193901 -0.025942  1.548946  1.543845 -0.202797\n",
      "193902  0.061000 -1.652493 -1.651742 -0.001903\n",
      "193903 -0.039604 -1.195145 -1.198977 -0.191128\n",
      "193904  0.005730 -0.868467 -0.861459 -0.171635\n",
      "\n",
      "[193905 rows x 4 columns]\n"
     ]
    }
   ],
   "source": [
    "from sklearn.preprocessing import MinMaxScaler\n",
    "df_data_train = pd.DataFrame(preprocessing.StandardScaler().fit_transform(df_data_train), columns = df_data_train.columns)\n",
    "print(df_data_train)\n",
    "df_data_test = pd.DataFrame(preprocessing.StandardScaler().fit_transform(df_data_test), columns = df_data_test.columns)\n",
    "print(df_data_test)"
   ]
  },
  {
   "cell_type": "code",
   "execution_count": 137,
   "id": "8300fd63-8aff-4466-92a6-43c994a5406f",
   "metadata": {},
   "outputs": [],
   "source": [
    "def create_model():\n",
    "    '''\n",
    "    Create a fully connected neural network with one input layer, one hidden layer and one output layer with softmax activation.\n",
    "    '''\n",
    "    input_layer = keras.layers.Input(shape=(4,)) # Input layer\n",
    "    h = keras.layers.Dense(16, activation=\"relu\")(input_layer)\n",
    "    h = keras.layers.Dense(16, activation=\"relu\")(h)# Hidden layer\n",
    "    h = keras.layers.Dense(16, activation=\"relu\")(h)\n",
    "    h = keras.layers.Dense(1)(h) # Output layer\n",
    "    model = keras.models.Model(inputs=input_layer, outputs=h)\n",
    "    return model"
   ]
  },
  {
   "cell_type": "code",
   "execution_count": 138,
   "id": "88b44876-4be5-4ec8-beb0-276c8d2a2db0",
   "metadata": {},
   "outputs": [],
   "source": [
    "model = create_model() # We create the model\n",
    "model.compile(optimizer=keras.optimizers.SGD(learning_rate=1e-2), loss='mean_squared_error', metrics=['accuracy']) # Compile the model: define optimizer, loss and eventual metrics\n"
   ]
  },
  {
   "cell_type": "code",
   "execution_count": 139,
   "id": "5677f655-228c-4767-ad75-448cadb0f10b",
   "metadata": {},
   "outputs": [
    {
     "name": "stdout",
     "output_type": "stream",
     "text": [
      "Data type of each column of Dataframe :\n",
      "date     Int64\n",
      "state    Int64\n",
      "fips     Int64\n",
      "cases    Int64\n",
      "dtype: object\n"
     ]
    }
   ],
   "source": [
    "\n",
    "dataTypeSeries = df_data.dtypes\n",
    "\n",
    "print('Data type of each column of Dataframe :')\n",
    "print(dataTypeSeries)"
   ]
  },
  {
   "cell_type": "code",
   "execution_count": 140,
   "id": "9986561e-48aa-4235-a395-929a5d5e212f",
   "metadata": {},
   "outputs": [
    {
     "name": "stdout",
     "output_type": "stream",
     "text": [
      "Epoch 1/250\n",
      "3823/4545 [========================>.....] - ETA: 0s - loss: nan - accuracy: 0.2987"
     ]
    },
    {
     "ename": "KeyboardInterrupt",
     "evalue": "",
     "output_type": "error",
     "traceback": [
      "\u001b[1;31m---------------------------------------------------------------------------\u001b[0m",
      "\u001b[1;31mKeyboardInterrupt\u001b[0m                         Traceback (most recent call last)",
      "Input \u001b[1;32mIn [140]\u001b[0m, in \u001b[0;36m<cell line: 1>\u001b[1;34m()\u001b[0m\n\u001b[1;32m----> 1\u001b[0m model_history \u001b[38;5;241m=\u001b[39m \u001b[43mmodel\u001b[49m\u001b[38;5;241;43m.\u001b[39;49m\u001b[43mfit\u001b[49m\u001b[43m(\u001b[49m\u001b[43mdf_data_train\u001b[49m\u001b[38;5;241;43m.\u001b[39;49m\u001b[43mto_numpy\u001b[49m\u001b[43m(\u001b[49m\u001b[43m)\u001b[49m\u001b[43m,\u001b[49m\u001b[43mdf_result_train\u001b[49m\u001b[43m,\u001b[49m\n\u001b[0;32m      2\u001b[0m \u001b[43m                          \u001b[49m\u001b[43mbatch_size\u001b[49m\u001b[38;5;241;43m=\u001b[39;49m\u001b[38;5;241;43m128\u001b[39;49m\u001b[43m,\u001b[49m\n\u001b[0;32m      3\u001b[0m \u001b[43m                          \u001b[49m\u001b[43mepochs\u001b[49m\u001b[38;5;241;43m=\u001b[39;49m\u001b[38;5;241;43m250\u001b[39;49m\u001b[43m,\u001b[49m\n\u001b[0;32m      4\u001b[0m \u001b[43m                          \u001b[49m\u001b[43mvalidation_data\u001b[49m\u001b[38;5;241;43m=\u001b[39;49m\u001b[43m(\u001b[49m\u001b[43mdf_data_test\u001b[49m\u001b[38;5;241;43m.\u001b[39;49m\u001b[43mto_numpy\u001b[49m\u001b[43m(\u001b[49m\u001b[43m)\u001b[49m\u001b[43m,\u001b[49m\u001b[43mdf_result_test\u001b[49m\u001b[43m)\u001b[49m\u001b[43m)\u001b[49m\n",
      "File \u001b[1;32m~\\AppData\\Local\\Programs\\Python\\Python310\\lib\\site-packages\\keras\\utils\\traceback_utils.py:64\u001b[0m, in \u001b[0;36mfilter_traceback.<locals>.error_handler\u001b[1;34m(*args, **kwargs)\u001b[0m\n\u001b[0;32m     62\u001b[0m filtered_tb \u001b[38;5;241m=\u001b[39m \u001b[38;5;28;01mNone\u001b[39;00m\n\u001b[0;32m     63\u001b[0m \u001b[38;5;28;01mtry\u001b[39;00m:\n\u001b[1;32m---> 64\u001b[0m   \u001b[38;5;28;01mreturn\u001b[39;00m fn(\u001b[38;5;241m*\u001b[39margs, \u001b[38;5;241m*\u001b[39m\u001b[38;5;241m*\u001b[39mkwargs)\n\u001b[0;32m     65\u001b[0m \u001b[38;5;28;01mexcept\u001b[39;00m \u001b[38;5;167;01mException\u001b[39;00m \u001b[38;5;28;01mas\u001b[39;00m e:  \u001b[38;5;66;03m# pylint: disable=broad-except\u001b[39;00m\n\u001b[0;32m     66\u001b[0m   filtered_tb \u001b[38;5;241m=\u001b[39m _process_traceback_frames(e\u001b[38;5;241m.\u001b[39m__traceback__)\n",
      "File \u001b[1;32m~\\AppData\\Local\\Programs\\Python\\Python310\\lib\\site-packages\\keras\\engine\\training.py:1376\u001b[0m, in \u001b[0;36mModel.fit\u001b[1;34m(self, x, y, batch_size, epochs, verbose, callbacks, validation_split, validation_data, shuffle, class_weight, sample_weight, initial_epoch, steps_per_epoch, validation_steps, validation_batch_size, validation_freq, max_queue_size, workers, use_multiprocessing)\u001b[0m\n\u001b[0;32m   1374\u001b[0m callbacks\u001b[38;5;241m.\u001b[39mon_epoch_begin(epoch)\n\u001b[0;32m   1375\u001b[0m \u001b[38;5;28;01mwith\u001b[39;00m data_handler\u001b[38;5;241m.\u001b[39mcatch_stop_iteration():\n\u001b[1;32m-> 1376\u001b[0m   \u001b[38;5;28;01mfor\u001b[39;00m step \u001b[38;5;129;01min\u001b[39;00m data_handler\u001b[38;5;241m.\u001b[39msteps():\n\u001b[0;32m   1377\u001b[0m     \u001b[38;5;28;01mwith\u001b[39;00m tf\u001b[38;5;241m.\u001b[39mprofiler\u001b[38;5;241m.\u001b[39mexperimental\u001b[38;5;241m.\u001b[39mTrace(\n\u001b[0;32m   1378\u001b[0m         \u001b[38;5;124m'\u001b[39m\u001b[38;5;124mtrain\u001b[39m\u001b[38;5;124m'\u001b[39m,\n\u001b[0;32m   1379\u001b[0m         epoch_num\u001b[38;5;241m=\u001b[39mepoch,\n\u001b[0;32m   1380\u001b[0m         step_num\u001b[38;5;241m=\u001b[39mstep,\n\u001b[0;32m   1381\u001b[0m         batch_size\u001b[38;5;241m=\u001b[39mbatch_size,\n\u001b[0;32m   1382\u001b[0m         _r\u001b[38;5;241m=\u001b[39m\u001b[38;5;241m1\u001b[39m):\n\u001b[0;32m   1383\u001b[0m       callbacks\u001b[38;5;241m.\u001b[39mon_train_batch_begin(step)\n",
      "File \u001b[1;32m~\\AppData\\Local\\Programs\\Python\\Python310\\lib\\site-packages\\keras\\engine\\data_adapter.py:1246\u001b[0m, in \u001b[0;36mDataHandler.steps\u001b[1;34m(self)\u001b[0m\n\u001b[0;32m   1244\u001b[0m \u001b[38;5;28;01mif\u001b[39;00m \u001b[38;5;28mself\u001b[39m\u001b[38;5;241m.\u001b[39m_insufficient_data:  \u001b[38;5;66;03m# Set by `catch_stop_iteration`.\u001b[39;00m\n\u001b[0;32m   1245\u001b[0m   \u001b[38;5;28;01mbreak\u001b[39;00m\n\u001b[1;32m-> 1246\u001b[0m original_spe \u001b[38;5;241m=\u001b[39m \u001b[38;5;28;43mself\u001b[39;49m\u001b[38;5;241;43m.\u001b[39;49m\u001b[43m_steps_per_execution\u001b[49m\u001b[38;5;241;43m.\u001b[39;49m\u001b[43mnumpy\u001b[49m\u001b[43m(\u001b[49m\u001b[43m)\u001b[49m\u001b[38;5;241m.\u001b[39mitem()\n\u001b[0;32m   1247\u001b[0m can_run_full_execution \u001b[38;5;241m=\u001b[39m (\n\u001b[0;32m   1248\u001b[0m     original_spe \u001b[38;5;241m==\u001b[39m \u001b[38;5;241m1\u001b[39m \u001b[38;5;129;01mor\u001b[39;00m\n\u001b[0;32m   1249\u001b[0m     \u001b[38;5;28mself\u001b[39m\u001b[38;5;241m.\u001b[39m_inferred_steps \u001b[38;5;129;01mis\u001b[39;00m \u001b[38;5;28;01mNone\u001b[39;00m \u001b[38;5;129;01mor\u001b[39;00m\n\u001b[0;32m   1250\u001b[0m     \u001b[38;5;28mself\u001b[39m\u001b[38;5;241m.\u001b[39m_inferred_steps \u001b[38;5;241m-\u001b[39m \u001b[38;5;28mself\u001b[39m\u001b[38;5;241m.\u001b[39m_current_step \u001b[38;5;241m>\u001b[39m\u001b[38;5;241m=\u001b[39m\n\u001b[0;32m   1251\u001b[0m     original_spe)\n\u001b[0;32m   1253\u001b[0m \u001b[38;5;28;01mif\u001b[39;00m can_run_full_execution:\n",
      "File \u001b[1;32m~\\AppData\\Local\\Programs\\Python\\Python310\\lib\\site-packages\\tensorflow\\python\\ops\\resource_variable_ops.py:674\u001b[0m, in \u001b[0;36mBaseResourceVariable.numpy\u001b[1;34m(self)\u001b[0m\n\u001b[0;32m    672\u001b[0m \u001b[38;5;28;01mdef\u001b[39;00m \u001b[38;5;21mnumpy\u001b[39m(\u001b[38;5;28mself\u001b[39m):\n\u001b[0;32m    673\u001b[0m   \u001b[38;5;28;01mif\u001b[39;00m context\u001b[38;5;241m.\u001b[39mexecuting_eagerly():\n\u001b[1;32m--> 674\u001b[0m     \u001b[38;5;28;01mreturn\u001b[39;00m \u001b[38;5;28;43mself\u001b[39;49m\u001b[38;5;241;43m.\u001b[39;49m\u001b[43mread_value\u001b[49m\u001b[43m(\u001b[49m\u001b[43m)\u001b[49m\u001b[38;5;241m.\u001b[39mnumpy()\n\u001b[0;32m    675\u001b[0m   \u001b[38;5;28;01mraise\u001b[39;00m \u001b[38;5;167;01mNotImplementedError\u001b[39;00m(\n\u001b[0;32m    676\u001b[0m       \u001b[38;5;124m\"\u001b[39m\u001b[38;5;124mnumpy() is only available when eager execution is enabled.\u001b[39m\u001b[38;5;124m\"\u001b[39m)\n",
      "File \u001b[1;32m~\\AppData\\Local\\Programs\\Python\\Python310\\lib\\site-packages\\tensorflow\\python\\ops\\resource_variable_ops.py:749\u001b[0m, in \u001b[0;36mBaseResourceVariable.read_value\u001b[1;34m(self)\u001b[0m\n\u001b[0;32m    740\u001b[0m \u001b[38;5;124;03m\"\"\"Constructs an op which reads the value of this variable.\u001b[39;00m\n\u001b[0;32m    741\u001b[0m \n\u001b[0;32m    742\u001b[0m \u001b[38;5;124;03mShould be used when there are multiple reads, or when it is desirable to\u001b[39;00m\n\u001b[1;32m   (...)\u001b[0m\n\u001b[0;32m    746\u001b[0m \u001b[38;5;124;03m the read operation.\u001b[39;00m\n\u001b[0;32m    747\u001b[0m \u001b[38;5;124;03m\"\"\"\u001b[39;00m\n\u001b[0;32m    748\u001b[0m \u001b[38;5;28;01mwith\u001b[39;00m ops\u001b[38;5;241m.\u001b[39mname_scope(\u001b[38;5;124m\"\u001b[39m\u001b[38;5;124mRead\u001b[39m\u001b[38;5;124m\"\u001b[39m):\n\u001b[1;32m--> 749\u001b[0m   value \u001b[38;5;241m=\u001b[39m \u001b[38;5;28;43mself\u001b[39;49m\u001b[38;5;241;43m.\u001b[39;49m\u001b[43m_read_variable_op\u001b[49m\u001b[43m(\u001b[49m\u001b[43m)\u001b[49m\n\u001b[0;32m    750\u001b[0m \u001b[38;5;66;03m# Return an identity so it can get placed on whatever device the context\u001b[39;00m\n\u001b[0;32m    751\u001b[0m \u001b[38;5;66;03m# specifies instead of the device where the variable is.\u001b[39;00m\n\u001b[0;32m    752\u001b[0m \u001b[38;5;28;01mreturn\u001b[39;00m array_ops\u001b[38;5;241m.\u001b[39midentity(value)\n",
      "File \u001b[1;32m~\\AppData\\Local\\Programs\\Python\\Python310\\lib\\site-packages\\tensorflow\\python\\ops\\resource_variable_ops.py:728\u001b[0m, in \u001b[0;36mBaseResourceVariable._read_variable_op\u001b[1;34m(self)\u001b[0m\n\u001b[0;32m    726\u001b[0m       result \u001b[38;5;241m=\u001b[39m read_and_set_handle()\n\u001b[0;32m    727\u001b[0m \u001b[38;5;28;01melse\u001b[39;00m:\n\u001b[1;32m--> 728\u001b[0m   result \u001b[38;5;241m=\u001b[39m \u001b[43mread_and_set_handle\u001b[49m\u001b[43m(\u001b[49m\u001b[43m)\u001b[49m\n\u001b[0;32m    730\u001b[0m \u001b[38;5;28;01mif\u001b[39;00m \u001b[38;5;129;01mnot\u001b[39;00m context\u001b[38;5;241m.\u001b[39mexecuting_eagerly():\n\u001b[0;32m    731\u001b[0m   \u001b[38;5;66;03m# Note that if a control flow context is active the input of the read op\u001b[39;00m\n\u001b[0;32m    732\u001b[0m   \u001b[38;5;66;03m# might not actually be the handle. This line bypasses it.\u001b[39;00m\n\u001b[0;32m    733\u001b[0m   tape\u001b[38;5;241m.\u001b[39mrecord_operation(\n\u001b[0;32m    734\u001b[0m       \u001b[38;5;124m\"\u001b[39m\u001b[38;5;124mReadVariableOp\u001b[39m\u001b[38;5;124m\"\u001b[39m, [result], [\u001b[38;5;28mself\u001b[39m\u001b[38;5;241m.\u001b[39mhandle],\n\u001b[0;32m    735\u001b[0m       backward_function\u001b[38;5;241m=\u001b[39m\u001b[38;5;28;01mlambda\u001b[39;00m x: [x],\n\u001b[0;32m    736\u001b[0m       forward_function\u001b[38;5;241m=\u001b[39m\u001b[38;5;28;01mlambda\u001b[39;00m x: [x])\n",
      "File \u001b[1;32m~\\AppData\\Local\\Programs\\Python\\Python310\\lib\\site-packages\\tensorflow\\python\\ops\\resource_variable_ops.py:718\u001b[0m, in \u001b[0;36mBaseResourceVariable._read_variable_op.<locals>.read_and_set_handle\u001b[1;34m()\u001b[0m\n\u001b[0;32m    717\u001b[0m \u001b[38;5;28;01mdef\u001b[39;00m \u001b[38;5;21mread_and_set_handle\u001b[39m():\n\u001b[1;32m--> 718\u001b[0m   result \u001b[38;5;241m=\u001b[39m \u001b[43mgen_resource_variable_ops\u001b[49m\u001b[38;5;241;43m.\u001b[39;49m\u001b[43mread_variable_op\u001b[49m\u001b[43m(\u001b[49m\n\u001b[0;32m    719\u001b[0m \u001b[43m      \u001b[49m\u001b[38;5;28;43mself\u001b[39;49m\u001b[38;5;241;43m.\u001b[39;49m\u001b[43mhandle\u001b[49m\u001b[43m,\u001b[49m\u001b[43m \u001b[49m\u001b[38;5;28;43mself\u001b[39;49m\u001b[38;5;241;43m.\u001b[39;49m\u001b[43m_dtype\u001b[49m\u001b[43m)\u001b[49m\n\u001b[0;32m    720\u001b[0m   _maybe_set_handle_data(\u001b[38;5;28mself\u001b[39m\u001b[38;5;241m.\u001b[39m_dtype, \u001b[38;5;28mself\u001b[39m\u001b[38;5;241m.\u001b[39mhandle, result)\n\u001b[0;32m    721\u001b[0m   \u001b[38;5;28;01mreturn\u001b[39;00m result\n",
      "File \u001b[1;32m~\\AppData\\Local\\Programs\\Python\\Python310\\lib\\site-packages\\tensorflow\\python\\ops\\gen_resource_variable_ops.py:478\u001b[0m, in \u001b[0;36mread_variable_op\u001b[1;34m(resource, dtype, name)\u001b[0m\n\u001b[0;32m    476\u001b[0m \u001b[38;5;28;01mif\u001b[39;00m tld\u001b[38;5;241m.\u001b[39mis_eager:\n\u001b[0;32m    477\u001b[0m   \u001b[38;5;28;01mtry\u001b[39;00m:\n\u001b[1;32m--> 478\u001b[0m     _result \u001b[38;5;241m=\u001b[39m \u001b[43mpywrap_tfe\u001b[49m\u001b[38;5;241;43m.\u001b[39;49m\u001b[43mTFE_Py_FastPathExecute\u001b[49m\u001b[43m(\u001b[49m\n\u001b[0;32m    479\u001b[0m \u001b[43m      \u001b[49m\u001b[43m_ctx\u001b[49m\u001b[43m,\u001b[49m\u001b[43m \u001b[49m\u001b[38;5;124;43m\"\u001b[39;49m\u001b[38;5;124;43mReadVariableOp\u001b[39;49m\u001b[38;5;124;43m\"\u001b[39;49m\u001b[43m,\u001b[49m\u001b[43m \u001b[49m\u001b[43mname\u001b[49m\u001b[43m,\u001b[49m\u001b[43m \u001b[49m\u001b[43mresource\u001b[49m\u001b[43m,\u001b[49m\u001b[43m \u001b[49m\u001b[38;5;124;43m\"\u001b[39;49m\u001b[38;5;124;43mdtype\u001b[39;49m\u001b[38;5;124;43m\"\u001b[39;49m\u001b[43m,\u001b[49m\u001b[43m \u001b[49m\u001b[43mdtype\u001b[49m\u001b[43m)\u001b[49m\n\u001b[0;32m    480\u001b[0m     \u001b[38;5;28;01mreturn\u001b[39;00m _result\n\u001b[0;32m    481\u001b[0m   \u001b[38;5;28;01mexcept\u001b[39;00m _core\u001b[38;5;241m.\u001b[39m_NotOkStatusException \u001b[38;5;28;01mas\u001b[39;00m e:\n",
      "\u001b[1;31mKeyboardInterrupt\u001b[0m: "
     ]
    }
   ],
   "source": [
    "model_history = model.fit(df_data_train.to_numpy(),df_result_train,\n",
    "                          batch_size=128,\n",
    "                          epochs=250,\n",
    "                          validation_data=(df_data_test.to_numpy(),df_result_test))"
   ]
  },
  {
   "cell_type": "code",
   "execution_count": null,
   "id": "89711d89-876e-4591-956e-9d5cffa24adb",
   "metadata": {},
   "outputs": [],
   "source": []
  }
 ],
 "metadata": {
  "kernelspec": {
   "display_name": "Python 3 (ipykernel)",
   "language": "python",
   "name": "python3"
  },
  "language_info": {
   "codemirror_mode": {
    "name": "ipython",
    "version": 3
   },
   "file_extension": ".py",
   "mimetype": "text/x-python",
   "name": "python",
   "nbconvert_exporter": "python",
   "pygments_lexer": "ipython3",
   "version": "3.10.1"
  }
 },
 "nbformat": 4,
 "nbformat_minor": 5
}
