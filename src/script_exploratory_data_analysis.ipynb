{
 "cells": [
  {
   "cell_type": "markdown",
   "id": "586ebd78",
   "metadata": {},
   "source": [
    "# Projet de Fouille de données"
   ]
  },
  {
   "cell_type": "markdown",
   "id": "f2d54eb4",
   "metadata": {},
   "source": [
    "## Etape I : Analyse exploratoire des données"
   ]
  },
  {
   "cell_type": "markdown",
   "id": "af1a1f5a",
   "metadata": {},
   "source": [
    "### Import des librairies"
   ]
  },
  {
   "cell_type": "markdown",
   "id": "6779cb3a",
   "metadata": {},
   "source": [
    "On commence par importer les librairies."
   ]
  },
  {
   "cell_type": "code",
   "execution_count": 1,
   "id": "33c7ffab",
   "metadata": {},
   "outputs": [],
   "source": [
    "import pandas\n",
    "import numpy"
   ]
  },
  {
   "cell_type": "markdown",
   "id": "469794bc",
   "metadata": {},
   "source": [
    "### Import des données"
   ]
  },
  {
   "cell_type": "markdown",
   "id": "aacbd643",
   "metadata": {},
   "source": [
    "Puis, on importe les données de notre jeu de données, et on les \"wrap\" dans un DataFrame de Pandas."
   ]
  },
  {
   "cell_type": "code",
   "execution_count": 2,
   "id": "9d203faa-f185-40dd-ae7b-3ed483b9e827",
   "metadata": {},
   "outputs": [],
   "source": [
    "data = pandas.read_csv(\"../data/corrupted_data.csv\")\n",
    "dataFrame = pandas.DataFrame(data)"
   ]
  },
  {
   "cell_type": "markdown",
   "id": "dda2852e",
   "metadata": {},
   "source": [
    "### Visualisation des données"
   ]
  },
  {
   "cell_type": "markdown",
   "id": "5681db05",
   "metadata": {},
   "source": [
    "On affiche les données, pour les visualiser et se faire un premier avis."
   ]
  },
  {
   "cell_type": "code",
   "execution_count": 3,
   "id": "1952228f",
   "metadata": {},
   "outputs": [
    {
     "data": {
      "text/html": [
       "<div>\n",
       "<style scoped>\n",
       "    .dataframe tbody tr th:only-of-type {\n",
       "        vertical-align: middle;\n",
       "    }\n",
       "\n",
       "    .dataframe tbody tr th {\n",
       "        vertical-align: top;\n",
       "    }\n",
       "\n",
       "    .dataframe thead th {\n",
       "        text-align: right;\n",
       "    }\n",
       "</style>\n",
       "<table border=\"1\" class=\"dataframe\">\n",
       "  <thead>\n",
       "    <tr style=\"text-align: right;\">\n",
       "      <th></th>\n",
       "      <th>Unnamed: 0</th>\n",
       "      <th>date</th>\n",
       "      <th>county</th>\n",
       "      <th>state</th>\n",
       "      <th>fips</th>\n",
       "      <th>cases</th>\n",
       "      <th>deaths</th>\n",
       "    </tr>\n",
       "  </thead>\n",
       "  <tbody>\n",
       "    <tr>\n",
       "      <th>0</th>\n",
       "      <td>0</td>\n",
       "      <td>2020-01-21</td>\n",
       "      <td>Snohomish</td>\n",
       "      <td>Washington</td>\n",
       "      <td>53061.0</td>\n",
       "      <td>1.0</td>\n",
       "      <td>0.0</td>\n",
       "    </tr>\n",
       "    <tr>\n",
       "      <th>1</th>\n",
       "      <td>1</td>\n",
       "      <td>2020-01-22</td>\n",
       "      <td>Snohomish</td>\n",
       "      <td>Washington</td>\n",
       "      <td>53061.0</td>\n",
       "      <td>1.0</td>\n",
       "      <td>0.0</td>\n",
       "    </tr>\n",
       "    <tr>\n",
       "      <th>2</th>\n",
       "      <td>2</td>\n",
       "      <td>2020-01-23</td>\n",
       "      <td>Snohomish</td>\n",
       "      <td>Washington</td>\n",
       "      <td>53061.0</td>\n",
       "      <td>1.0</td>\n",
       "      <td>0.0</td>\n",
       "    </tr>\n",
       "    <tr>\n",
       "      <th>3</th>\n",
       "      <td>3</td>\n",
       "      <td>2020-01-24</td>\n",
       "      <td>Cook</td>\n",
       "      <td>Illinois</td>\n",
       "      <td>17031.0</td>\n",
       "      <td>1.0</td>\n",
       "      <td>0.0</td>\n",
       "    </tr>\n",
       "    <tr>\n",
       "      <th>4</th>\n",
       "      <td>4</td>\n",
       "      <td>2020-01-24</td>\n",
       "      <td>Snohomish</td>\n",
       "      <td>Washington</td>\n",
       "      <td>53061.0</td>\n",
       "      <td>1.0</td>\n",
       "      <td>0.0</td>\n",
       "    </tr>\n",
       "  </tbody>\n",
       "</table>\n",
       "</div>"
      ],
      "text/plain": [
       "   Unnamed: 0        date     county       state     fips  cases  deaths\n",
       "0           0  2020-01-21  Snohomish  Washington  53061.0    1.0     0.0\n",
       "1           1  2020-01-22  Snohomish  Washington  53061.0    1.0     0.0\n",
       "2           2  2020-01-23  Snohomish  Washington  53061.0    1.0     0.0\n",
       "3           3  2020-01-24       Cook    Illinois  17031.0    1.0     0.0\n",
       "4           4  2020-01-24  Snohomish  Washington  53061.0    1.0     0.0"
      ]
     },
     "execution_count": 3,
     "metadata": {},
     "output_type": "execute_result"
    }
   ],
   "source": [
    "dataFrame.head()"
   ]
  },
  {
   "cell_type": "code",
   "execution_count": 4,
   "id": "7f744e55",
   "metadata": {},
   "outputs": [
    {
     "data": {
      "text/html": [
       "<div>\n",
       "<style scoped>\n",
       "    .dataframe tbody tr th:only-of-type {\n",
       "        vertical-align: middle;\n",
       "    }\n",
       "\n",
       "    .dataframe tbody tr th {\n",
       "        vertical-align: top;\n",
       "    }\n",
       "\n",
       "    .dataframe thead th {\n",
       "        text-align: right;\n",
       "    }\n",
       "</style>\n",
       "<table border=\"1\" class=\"dataframe\">\n",
       "  <thead>\n",
       "    <tr style=\"text-align: right;\">\n",
       "      <th></th>\n",
       "      <th>Unnamed: 0</th>\n",
       "      <th>date</th>\n",
       "      <th>county</th>\n",
       "      <th>state</th>\n",
       "      <th>fips</th>\n",
       "      <th>cases</th>\n",
       "      <th>deaths</th>\n",
       "    </tr>\n",
       "  </thead>\n",
       "  <tbody>\n",
       "    <tr>\n",
       "      <th>0</th>\n",
       "      <td>0</td>\n",
       "      <td>2020-01-21</td>\n",
       "      <td>Snohomish</td>\n",
       "      <td>Washington</td>\n",
       "      <td>53061.0</td>\n",
       "      <td>1.0</td>\n",
       "      <td>0.0</td>\n",
       "    </tr>\n",
       "    <tr>\n",
       "      <th>1</th>\n",
       "      <td>1</td>\n",
       "      <td>2020-01-22</td>\n",
       "      <td>Snohomish</td>\n",
       "      <td>Washington</td>\n",
       "      <td>53061.0</td>\n",
       "      <td>1.0</td>\n",
       "      <td>0.0</td>\n",
       "    </tr>\n",
       "    <tr>\n",
       "      <th>2</th>\n",
       "      <td>2</td>\n",
       "      <td>2020-01-23</td>\n",
       "      <td>Snohomish</td>\n",
       "      <td>Washington</td>\n",
       "      <td>53061.0</td>\n",
       "      <td>1.0</td>\n",
       "      <td>0.0</td>\n",
       "    </tr>\n",
       "    <tr>\n",
       "      <th>3</th>\n",
       "      <td>3</td>\n",
       "      <td>2020-01-24</td>\n",
       "      <td>Cook</td>\n",
       "      <td>Illinois</td>\n",
       "      <td>17031.0</td>\n",
       "      <td>1.0</td>\n",
       "      <td>0.0</td>\n",
       "    </tr>\n",
       "    <tr>\n",
       "      <th>4</th>\n",
       "      <td>4</td>\n",
       "      <td>2020-01-24</td>\n",
       "      <td>Snohomish</td>\n",
       "      <td>Washington</td>\n",
       "      <td>53061.0</td>\n",
       "      <td>1.0</td>\n",
       "      <td>0.0</td>\n",
       "    </tr>\n",
       "    <tr>\n",
       "      <th>...</th>\n",
       "      <td>...</td>\n",
       "      <td>...</td>\n",
       "      <td>...</td>\n",
       "      <td>...</td>\n",
       "      <td>...</td>\n",
       "      <td>...</td>\n",
       "      <td>...</td>\n",
       "    </tr>\n",
       "    <tr>\n",
       "      <th>800432</th>\n",
       "      <td>800432</td>\n",
       "      <td>2020-12-05</td>\n",
       "      <td>Sweetwater</td>\n",
       "      <td>Wyoming</td>\n",
       "      <td>56037.0</td>\n",
       "      <td>2098.0</td>\n",
       "      <td>10.0</td>\n",
       "    </tr>\n",
       "    <tr>\n",
       "      <th>800433</th>\n",
       "      <td>800433</td>\n",
       "      <td>2020-12-05</td>\n",
       "      <td>Teton</td>\n",
       "      <td>Wyoming</td>\n",
       "      <td>56039.0</td>\n",
       "      <td>1739.0</td>\n",
       "      <td>2.0</td>\n",
       "    </tr>\n",
       "    <tr>\n",
       "      <th>800434</th>\n",
       "      <td>800434</td>\n",
       "      <td>2020-12-05</td>\n",
       "      <td>Uinta</td>\n",
       "      <td>Wyoming</td>\n",
       "      <td>56041.0</td>\n",
       "      <td>1187.0</td>\n",
       "      <td>5.0</td>\n",
       "    </tr>\n",
       "    <tr>\n",
       "      <th>800435</th>\n",
       "      <td>800435</td>\n",
       "      <td>2020-12-05</td>\n",
       "      <td>Washakie</td>\n",
       "      <td>Wyoming</td>\n",
       "      <td>56043.0</td>\n",
       "      <td>519.0</td>\n",
       "      <td>8.0</td>\n",
       "    </tr>\n",
       "    <tr>\n",
       "      <th>800436</th>\n",
       "      <td>800436</td>\n",
       "      <td>2020-12-05</td>\n",
       "      <td>Weston</td>\n",
       "      <td>Wyoming</td>\n",
       "      <td>56045.0</td>\n",
       "      <td>419.0</td>\n",
       "      <td>2.0</td>\n",
       "    </tr>\n",
       "  </tbody>\n",
       "</table>\n",
       "<p>800437 rows × 7 columns</p>\n",
       "</div>"
      ],
      "text/plain": [
       "        Unnamed: 0        date      county       state     fips   cases  \\\n",
       "0                0  2020-01-21   Snohomish  Washington  53061.0     1.0   \n",
       "1                1  2020-01-22   Snohomish  Washington  53061.0     1.0   \n",
       "2                2  2020-01-23   Snohomish  Washington  53061.0     1.0   \n",
       "3                3  2020-01-24        Cook    Illinois  17031.0     1.0   \n",
       "4                4  2020-01-24   Snohomish  Washington  53061.0     1.0   \n",
       "...            ...         ...         ...         ...      ...     ...   \n",
       "800432      800432  2020-12-05  Sweetwater     Wyoming  56037.0  2098.0   \n",
       "800433      800433  2020-12-05       Teton     Wyoming  56039.0  1739.0   \n",
       "800434      800434  2020-12-05       Uinta     Wyoming  56041.0  1187.0   \n",
       "800435      800435  2020-12-05    Washakie     Wyoming  56043.0   519.0   \n",
       "800436      800436  2020-12-05      Weston     Wyoming  56045.0   419.0   \n",
       "\n",
       "        deaths  \n",
       "0          0.0  \n",
       "1          0.0  \n",
       "2          0.0  \n",
       "3          0.0  \n",
       "4          0.0  \n",
       "...        ...  \n",
       "800432    10.0  \n",
       "800433     2.0  \n",
       "800434     5.0  \n",
       "800435     8.0  \n",
       "800436     2.0  \n",
       "\n",
       "[800437 rows x 7 columns]"
      ]
     },
     "execution_count": 4,
     "metadata": {},
     "output_type": "execute_result"
    }
   ],
   "source": [
    "dataFrame"
   ]
  },
  {
   "cell_type": "code",
   "execution_count": 5,
   "id": "4dd9afc8-3997-40c3-b328-3f8f0ee8cb09",
   "metadata": {},
   "outputs": [
    {
     "data": {
      "text/plain": [
       "['Unnamed: 0', 'date', 'county', 'state', 'fips', 'cases', 'deaths']"
      ]
     },
     "execution_count": 5,
     "metadata": {},
     "output_type": "execute_result"
    }
   ],
   "source": [
    "list(dataFrame.columns)"
   ]
  },
  {
   "cell_type": "markdown",
   "id": "da9667c8",
   "metadata": {},
   "source": [
    "Ce jeu de données contient a priori 7 colonnes et 800 437 lignes. "
   ]
  },
  {
   "cell_type": "markdown",
   "id": "59084a6a",
   "metadata": {},
   "source": [
    "Il semble associer à une date et à un comté d'un état, un nombre de cas et un nombre de morts du Covid-19."
   ]
  },
  {
   "cell_type": "markdown",
   "id": "784ed609",
   "metadata": {},
   "source": [
    "La première colonne semble avoir un nom par défaut choisi par la librairie donc."
   ]
  },
  {
   "cell_type": "markdown",
   "id": "23d3234d",
   "metadata": {},
   "source": [
    " TODO https://fr.wikipedia.org/wiki/Federal_Information_Processing_Standard"
   ]
  },
  {
   "cell_type": "markdown",
   "id": "469f0267",
   "metadata": {},
   "source": [
    "### Renommage de la première colonne en \"id\""
   ]
  },
  {
   "cell_type": "markdown",
   "id": "885db155",
   "metadata": {},
   "source": [
    "On renomme la première colonne avec un nom correct. "
   ]
  },
  {
   "cell_type": "code",
   "execution_count": 6,
   "id": "b0098c86",
   "metadata": {},
   "outputs": [],
   "source": [
    "dataFrame = dataFrame.rename(columns={'Unnamed: 0': 'id'})"
   ]
  },
  {
   "cell_type": "code",
   "execution_count": 7,
   "id": "16aba463",
   "metadata": {},
   "outputs": [
    {
     "data": {
      "text/plain": [
       "['id', 'date', 'county', 'state', 'fips', 'cases', 'deaths']"
      ]
     },
     "execution_count": 7,
     "metadata": {},
     "output_type": "execute_result"
    }
   ],
   "source": [
    "list(dataFrame.columns)"
   ]
  },
  {
   "cell_type": "markdown",
   "id": "ff37aebe",
   "metadata": {},
   "source": [
    "### Analayse exploratoire"
   ]
  },
  {
   "cell_type": "markdown",
   "id": "e26e5eb2",
   "metadata": {},
   "source": [
    "#### Analyse exploratoire de la colonne \"id\""
   ]
  },
  {
   "cell_type": "markdown",
   "id": "9a97a83e",
   "metadata": {},
   "source": [
    "On effectue une analyse exploratoire de la colonne \"id\" des identifiants."
   ]
  },
  {
   "cell_type": "code",
   "execution_count": 42,
   "id": "9e73dce6",
   "metadata": {},
   "outputs": [
    {
     "data": {
      "text/html": [
       "<div>\n",
       "<style scoped>\n",
       "    .dataframe tbody tr th:only-of-type {\n",
       "        vertical-align: middle;\n",
       "    }\n",
       "\n",
       "    .dataframe tbody tr th {\n",
       "        vertical-align: top;\n",
       "    }\n",
       "\n",
       "    .dataframe thead th {\n",
       "        text-align: right;\n",
       "    }\n",
       "</style>\n",
       "<table border=\"1\" class=\"dataframe\">\n",
       "  <thead>\n",
       "    <tr style=\"text-align: right;\">\n",
       "      <th></th>\n",
       "      <th>id</th>\n",
       "      <th>date</th>\n",
       "      <th>county</th>\n",
       "      <th>state</th>\n",
       "      <th>fips</th>\n",
       "      <th>cases</th>\n",
       "      <th>deaths</th>\n",
       "      <th>date-fips</th>\n",
       "    </tr>\n",
       "  </thead>\n",
       "  <tbody>\n",
       "  </tbody>\n",
       "</table>\n",
       "</div>"
      ],
      "text/plain": [
       "Empty DataFrame\n",
       "Columns: [id, date, county, state, fips, cases, deaths, date-fips]\n",
       "Index: []"
      ]
     },
     "execution_count": 42,
     "metadata": {},
     "output_type": "execute_result"
    }
   ],
   "source": [
    "dataFrame[dataFrame['id']=='Unknown']"
   ]
  },
  {
   "cell_type": "code",
   "execution_count": 9,
   "id": "a7b70a36",
   "metadata": {},
   "outputs": [
    {
     "data": {
      "text/plain": [
       "0"
      ]
     },
     "execution_count": 9,
     "metadata": {},
     "output_type": "execute_result"
    }
   ],
   "source": [
    "dataFrame[dataFrame['id']=='Unknown']['id'].count()"
   ]
  },
  {
   "cell_type": "markdown",
   "id": "516b2893",
   "metadata": {},
   "source": [
    "La colonne \"id\" ne contient pas de \"Unknown\"."
   ]
  },
  {
   "cell_type": "code",
   "execution_count": 10,
   "id": "a48d88a4",
   "metadata": {},
   "outputs": [
    {
     "data": {
      "text/html": [
       "<div>\n",
       "<style scoped>\n",
       "    .dataframe tbody tr th:only-of-type {\n",
       "        vertical-align: middle;\n",
       "    }\n",
       "\n",
       "    .dataframe tbody tr th {\n",
       "        vertical-align: top;\n",
       "    }\n",
       "\n",
       "    .dataframe thead th {\n",
       "        text-align: right;\n",
       "    }\n",
       "</style>\n",
       "<table border=\"1\" class=\"dataframe\">\n",
       "  <thead>\n",
       "    <tr style=\"text-align: right;\">\n",
       "      <th></th>\n",
       "      <th>id</th>\n",
       "      <th>date</th>\n",
       "      <th>county</th>\n",
       "      <th>state</th>\n",
       "      <th>fips</th>\n",
       "      <th>cases</th>\n",
       "      <th>deaths</th>\n",
       "    </tr>\n",
       "  </thead>\n",
       "  <tbody>\n",
       "  </tbody>\n",
       "</table>\n",
       "</div>"
      ],
      "text/plain": [
       "Empty DataFrame\n",
       "Columns: [id, date, county, state, fips, cases, deaths]\n",
       "Index: []"
      ]
     },
     "execution_count": 10,
     "metadata": {},
     "output_type": "execute_result"
    }
   ],
   "source": [
    "idIsNull = pandas.isnull(dataFrame[\"id\"])\n",
    "dataFrame[idIsNull == True]"
   ]
  },
  {
   "cell_type": "code",
   "execution_count": 55,
   "id": "47bc4fcc",
   "metadata": {},
   "outputs": [
    {
     "data": {
      "text/plain": [
       "0"
      ]
     },
     "execution_count": 55,
     "metadata": {},
     "output_type": "execute_result"
    }
   ],
   "source": [
    "idIsNull.sum()"
   ]
  },
  {
   "cell_type": "markdown",
   "id": "9de730c9",
   "metadata": {},
   "source": [
    "La colonne \"id\" ne contient aucune valeur manquante."
   ]
  },
  {
   "cell_type": "code",
   "execution_count": 57,
   "id": "60b612d6",
   "metadata": {},
   "outputs": [
    {
     "data": {
      "text/plain": [
       "800437"
      ]
     },
     "execution_count": 57,
     "metadata": {},
     "output_type": "execute_result"
    }
   ],
   "source": [
    "dataFrame['id'].count()"
   ]
  },
  {
   "cell_type": "code",
   "execution_count": 13,
   "id": "0b4a6ee3",
   "metadata": {},
   "outputs": [
    {
     "data": {
      "text/plain": [
       "800437"
      ]
     },
     "execution_count": 13,
     "metadata": {},
     "output_type": "execute_result"
    }
   ],
   "source": [
    "dataFrame[dataFrame.id.apply(str).str.contains('^\\d+$', regex = True, na = False)]['id'].count()"
   ]
  },
  {
   "cell_type": "code",
   "execution_count": 60,
   "id": "927dc420",
   "metadata": {},
   "outputs": [
    {
     "data": {
      "text/plain": [
       "0"
      ]
     },
     "execution_count": 60,
     "metadata": {},
     "output_type": "execute_result"
    }
   ],
   "source": [
    "(len(dataFrame.index)\n",
    " - dataFrame[dataFrame['id'].apply(str).str.contains('^\\d+$', regex = True, na = False)]['id'].count())"
   ]
  },
  {
   "cell_type": "markdown",
   "id": "a32560c6",
   "metadata": {},
   "source": [
    "La colonne \"id\" ne contient que des entiers positifs."
   ]
  },
  {
   "cell_type": "code",
   "execution_count": 15,
   "id": "49be02a6",
   "metadata": {},
   "outputs": [
    {
     "data": {
      "text/plain": [
       "id    800437\n",
       "dtype: int64"
      ]
     },
     "execution_count": 15,
     "metadata": {},
     "output_type": "execute_result"
    }
   ],
   "source": [
    " pandas.DataFrame(dataFrame['id'].unique(), columns=[\"id\"]).count()"
   ]
  },
  {
   "cell_type": "code",
   "execution_count": 16,
   "id": "d2fc4b4c",
   "metadata": {},
   "outputs": [
    {
     "data": {
      "text/plain": [
       "id    0\n",
       "dtype: int64"
      ]
     },
     "execution_count": 16,
     "metadata": {},
     "output_type": "execute_result"
    }
   ],
   "source": [
    "dataFrame['id'].count() - pandas.DataFrame(dataFrame['id'].unique(), columns=[\"id\"]).count()"
   ]
  },
  {
   "cell_type": "markdown",
   "id": "580f48af",
   "metadata": {},
   "source": [
    "La colonne \"id\" ne contient que des valeurs uniques."
   ]
  },
  {
   "cell_type": "markdown",
   "id": "433aa255",
   "metadata": {},
   "source": [
    "Tous les identidifiants de la colonne \"id\" sont donc des nombres entiers positifs et uniques. "
   ]
  },
  {
   "cell_type": "markdown",
   "id": "a26ac02e",
   "metadata": {},
   "source": [
    "Cela correspond à la description d'identifiants corrects. "
   ]
  },
  {
   "cell_type": "markdown",
   "id": "ca97d8f5",
   "metadata": {},
   "source": [
    "<b>Pour conclure sur la colonne \"id\" : cette dernière ne contient aucune donnée erronée : pas de données manquantes, et pas de données incohérentes.</b>"
   ]
  },
  {
   "cell_type": "markdown",
   "id": "3d102128",
   "metadata": {},
   "source": [
    "#### Analyse  exploratoire de la colonne \"date\""
   ]
  },
  {
   "cell_type": "markdown",
   "id": "d89847a7",
   "metadata": {},
   "source": [
    "On effectue une analyse exploratoire de la colonne \"date\"."
   ]
  },
  {
   "cell_type": "code",
   "execution_count": 43,
   "id": "99ebbd5e",
   "metadata": {},
   "outputs": [
    {
     "data": {
      "text/html": [
       "<div>\n",
       "<style scoped>\n",
       "    .dataframe tbody tr th:only-of-type {\n",
       "        vertical-align: middle;\n",
       "    }\n",
       "\n",
       "    .dataframe tbody tr th {\n",
       "        vertical-align: top;\n",
       "    }\n",
       "\n",
       "    .dataframe thead th {\n",
       "        text-align: right;\n",
       "    }\n",
       "</style>\n",
       "<table border=\"1\" class=\"dataframe\">\n",
       "  <thead>\n",
       "    <tr style=\"text-align: right;\">\n",
       "      <th></th>\n",
       "      <th>id</th>\n",
       "      <th>date</th>\n",
       "      <th>county</th>\n",
       "      <th>state</th>\n",
       "      <th>fips</th>\n",
       "      <th>cases</th>\n",
       "      <th>deaths</th>\n",
       "      <th>date-fips</th>\n",
       "    </tr>\n",
       "  </thead>\n",
       "  <tbody>\n",
       "  </tbody>\n",
       "</table>\n",
       "</div>"
      ],
      "text/plain": [
       "Empty DataFrame\n",
       "Columns: [id, date, county, state, fips, cases, deaths, date-fips]\n",
       "Index: []"
      ]
     },
     "execution_count": 43,
     "metadata": {},
     "output_type": "execute_result"
    }
   ],
   "source": [
    "dataFrame[dataFrame[\"date\"]==\"Unknown\"]"
   ]
  },
  {
   "cell_type": "code",
   "execution_count": 18,
   "id": "56cc2042",
   "metadata": {},
   "outputs": [
    {
     "data": {
      "text/plain": [
       "0"
      ]
     },
     "execution_count": 18,
     "metadata": {},
     "output_type": "execute_result"
    }
   ],
   "source": [
    "dataFrame[dataFrame[\"date\"]==\"Unknown\"][\"date\"].count()"
   ]
  },
  {
   "cell_type": "markdown",
   "id": "848e330a",
   "metadata": {},
   "source": [
    "La colonne \"date\" ne contient aucune valeur \"Unknown\"."
   ]
  },
  {
   "cell_type": "code",
   "execution_count": 44,
   "id": "a19fcef0",
   "metadata": {},
   "outputs": [
    {
     "data": {
      "text/plain": [
       "18243     NaN\n",
       "25438     NaN\n",
       "26345     NaN\n",
       "28217     NaN\n",
       "29487     NaN\n",
       "         ... \n",
       "757800    NaN\n",
       "768876    NaN\n",
       "775081    NaN\n",
       "785062    NaN\n",
       "786772    NaN\n",
       "Name: date, Length: 138, dtype: object"
      ]
     },
     "execution_count": 44,
     "metadata": {},
     "output_type": "execute_result"
    }
   ],
   "source": [
    "dateIsNull = pandas.isnull(dataFrame[\"date\"])\n",
    "dataFrame[dateIsNull == True][\"date\"]"
   ]
  },
  {
   "cell_type": "code",
   "execution_count": 52,
   "id": "7f4980c6",
   "metadata": {},
   "outputs": [
    {
     "data": {
      "text/plain": [
       "138"
      ]
     },
     "execution_count": 52,
     "metadata": {},
     "output_type": "execute_result"
    }
   ],
   "source": [
    "dateIsNull.sum()"
   ]
  },
  {
   "cell_type": "markdown",
   "id": "4197d1f7",
   "metadata": {},
   "source": [
    "La colonne \"date\" contient des valeurs manquantes."
   ]
  },
  {
   "cell_type": "code",
   "execution_count": 61,
   "id": "ad7dc3f3",
   "metadata": {},
   "outputs": [
    {
     "data": {
      "text/plain": [
       "800299"
      ]
     },
     "execution_count": 61,
     "metadata": {},
     "output_type": "execute_result"
    }
   ],
   "source": [
    " dataFrame['date'].count()"
   ]
  },
  {
   "cell_type": "code",
   "execution_count": 21,
   "id": "5edf9626",
   "metadata": {},
   "outputs": [
    {
     "data": {
      "text/plain": [
       "799042"
      ]
     },
     "execution_count": 21,
     "metadata": {},
     "output_type": "execute_result"
    }
   ],
   "source": [
    " dataFrame[dataFrame['date'].str.contains('^\\d{4}-\\d{2}-\\d{2}$', regex = True, na = False)]['date'].count()"
   ]
  },
  {
   "cell_type": "code",
   "execution_count": 22,
   "id": "5aeebda7",
   "metadata": {},
   "outputs": [
    {
     "data": {
      "text/plain": [
       "1257"
      ]
     },
     "execution_count": 22,
     "metadata": {},
     "output_type": "execute_result"
    }
   ],
   "source": [
    "(dataFrame['date'].count() \n",
    "- dataFrame[dataFrame['date'].str.contains('^\\d{4}-\\d{2}-\\d{2}$', regex = True, na = False)]['date'].count())"
   ]
  },
  {
   "cell_type": "markdown",
   "id": "e2594a0b",
   "metadata": {},
   "source": [
    "La colonne \"date\" contient quasiment que des dates matchant avec ce format \"YYYY-MM-DD\" (799042)."
   ]
  },
  {
   "cell_type": "code",
   "execution_count": 23,
   "id": "cb71789c",
   "metadata": {},
   "outputs": [
    {
     "data": {
      "text/plain": [
       "1008      2020.03.10\n",
       "2242      2020.03.14\n",
       "2836      2020.03.16\n",
       "3774      2020.03.18\n",
       "4514      2020.03.19\n",
       "             ...    \n",
       "795819    2020.12.04\n",
       "796123    2020.12.04\n",
       "796776    2020.12.04\n",
       "796794    2020.12.04\n",
       "799827    2020.12.05\n",
       "Name: date, Length: 1395, dtype: object"
      ]
     },
     "execution_count": 23,
     "metadata": {},
     "output_type": "execute_result"
    }
   ],
   "source": [
    "dataFrame[dataFrame['date'].str.contains('^\\d{4}-\\d{2}-\\d{2}$', regex = True, na = False) == False]['date']"
   ]
  },
  {
   "cell_type": "code",
   "execution_count": 24,
   "id": "480fbf89",
   "metadata": {},
   "outputs": [
    {
     "data": {
      "text/plain": [
       "1257"
      ]
     },
     "execution_count": 24,
     "metadata": {},
     "output_type": "execute_result"
    }
   ],
   "source": [
    "dataFrame[dataFrame['date'].str.contains('^\\d{4}\\.\\d{2}\\.\\d{2}$', regex = True, na = False)]['date'].count()"
   ]
  },
  {
   "cell_type": "code",
   "execution_count": 25,
   "id": "6caf9b8d",
   "metadata": {},
   "outputs": [
    {
     "data": {
      "text/plain": [
       "0"
      ]
     },
     "execution_count": 25,
     "metadata": {},
     "output_type": "execute_result"
    }
   ],
   "source": [
    "(dataFrame['date'].count()\n",
    "- dataFrame[dataFrame['date'].str.contains('^\\d{4}-\\d{2}-\\d{2}$', regex = True, na = False)]['date'].count() \n",
    "- dataFrame[dataFrame['date'].str.contains('^\\d{4}\\.\\d{2}\\.\\d{2}$', regex = True, na = False)]['date'].count())"
   ]
  },
  {
   "cell_type": "markdown",
   "id": "ae20410d",
   "metadata": {},
   "source": [
    "La colonne \"date\" contient également des dates matchant avec le format \"YYYY.MM.DD\" (1257), et toutes les dates renseignées de la colonne \"date\" matche soit avec ce format : \"YYYY-MM-DD\" (799042), soit avec celui-ci : \"YYYY.MM.DD\" (1257)."
   ]
  },
  {
   "cell_type": "markdown",
   "id": "134bca66",
   "metadata": {},
   "source": [
    "<b>Pour conlure sur la colonne \"date\" : cette dernière contient des données manquantes (138), et également des données incohérentes (1257) puisque deux formats différents sont utilisés pour réprésenter les dates.</b>"
   ]
  },
  {
   "cell_type": "markdown",
   "id": "12484c85",
   "metadata": {},
   "source": [
    "#### Analyse exploratoire de la colonne \"county\""
   ]
  },
  {
   "cell_type": "markdown",
   "id": "a72d8100",
   "metadata": {},
   "source": [
    "On effectue une analyse exploratoire de la colonne \"county\"."
   ]
  },
  {
   "cell_type": "code",
   "execution_count": 26,
   "id": "a3e159a2",
   "metadata": {},
   "outputs": [
    {
     "data": {
      "text/plain": [
       "418       Unknown\n",
       "450       Unknown\n",
       "485       Unknown\n",
       "522       Unknown\n",
       "569       Unknown\n",
       "           ...   \n",
       "799602    Unknown\n",
       "799803    Unknown\n",
       "800090    Unknown\n",
       "800107    Unknown\n",
       "800281    Unknown\n",
       "Name: county, Length: 6870, dtype: object"
      ]
     },
     "execution_count": 26,
     "metadata": {},
     "output_type": "execute_result"
    }
   ],
   "source": [
    "dataFrame[dataFrame[\"county\"]==\"Unknown\"][\"county\"]"
   ]
  },
  {
   "cell_type": "code",
   "execution_count": 27,
   "id": "e3c0dc69",
   "metadata": {},
   "outputs": [
    {
     "data": {
      "text/plain": [
       "6870"
      ]
     },
     "execution_count": 27,
     "metadata": {},
     "output_type": "execute_result"
    }
   ],
   "source": [
    "dataFrame[dataFrame[\"county\"]==\"Unknown\"][\"county\"].count()"
   ]
  },
  {
   "cell_type": "markdown",
   "id": "96fa254c",
   "metadata": {},
   "source": [
    " La colonne \"county\" contient des valeurs \"Unknown\", des données de cette colonne sont donc pas renseignées."
   ]
  },
  {
   "cell_type": "code",
   "execution_count": 28,
   "id": "e817941a",
   "metadata": {},
   "outputs": [
    {
     "data": {
      "text/plain": [
       "7877      NaN\n",
       "9410      NaN\n",
       "16113     NaN\n",
       "36581     NaN\n",
       "40683     NaN\n",
       "         ... \n",
       "776385    NaN\n",
       "783350    NaN\n",
       "790449    NaN\n",
       "794963    NaN\n",
       "800247    NaN\n",
       "Name: county, Length: 130, dtype: object"
      ]
     },
     "execution_count": 28,
     "metadata": {},
     "output_type": "execute_result"
    }
   ],
   "source": [
    "countyIsNull = pandas.isnull(dataFrame[\"county\"])\n",
    "dataFrame[countyIsNull == True][\"county\"]"
   ]
  },
  {
   "cell_type": "code",
   "execution_count": 51,
   "id": "2d6db4fb",
   "metadata": {},
   "outputs": [
    {
     "data": {
      "text/plain": [
       "130"
      ]
     },
     "execution_count": 51,
     "metadata": {},
     "output_type": "execute_result"
    }
   ],
   "source": [
    "countyIsNull.sum()"
   ]
  },
  {
   "cell_type": "markdown",
   "id": "37852762",
   "metadata": {},
   "source": [
    "La colonne \"county\" contient des valeurs manquantes."
   ]
  },
  {
   "cell_type": "code",
   "execution_count": 30,
   "id": "2ee2da52",
   "metadata": {},
   "outputs": [
    {
     "data": {
      "text/plain": [
       "800307"
      ]
     },
     "execution_count": 30,
     "metadata": {},
     "output_type": "execute_result"
    }
   ],
   "source": [
    "dataFrame[dataFrame['county'].str.contains('^.+$', regex = True, na = False)]['county'].count()"
   ]
  },
  {
   "cell_type": "code",
   "execution_count": 31,
   "id": "10495eb7",
   "metadata": {},
   "outputs": [
    {
     "data": {
      "text/plain": [
       "6870"
      ]
     },
     "execution_count": 31,
     "metadata": {},
     "output_type": "execute_result"
    }
   ],
   "source": [
    "dataFrame[dataFrame['county'].str.contains('^Unknown$', regex = True, na = False)]['county'].count()"
   ]
  },
  {
   "cell_type": "code",
   "execution_count": 32,
   "id": "1a136cf1",
   "metadata": {},
   "outputs": [
    {
     "data": {
      "text/plain": [
       "793437"
      ]
     },
     "execution_count": 32,
     "metadata": {},
     "output_type": "execute_result"
    }
   ],
   "source": [
    "(dataFrame[dataFrame['county'].str.contains('^.+$', regex = True, na = False)]['county'].count()\n",
    " -  dataFrame[dataFrame['county'].str.contains('^Unknown$', regex = True, na = False)]['county'].count())"
   ]
  },
  {
   "cell_type": "code",
   "execution_count": 33,
   "id": "02f8eb3e",
   "metadata": {},
   "outputs": [
    {
     "data": {
      "text/plain": [
       "RangeIndex(start=0, stop=800437, step=1)"
      ]
     },
     "execution_count": 33,
     "metadata": {},
     "output_type": "execute_result"
    }
   ],
   "source": [
    "dataFrame.index"
   ]
  },
  {
   "cell_type": "code",
   "execution_count": 34,
   "id": "3bca1b8b",
   "metadata": {},
   "outputs": [
    {
     "data": {
      "text/plain": [
       "130"
      ]
     },
     "execution_count": 34,
     "metadata": {},
     "output_type": "execute_result"
    }
   ],
   "source": [
    "(len(dataFrame.index)\n",
    "- dataFrame[dataFrame['county'].str.contains('^.+$', regex = True, na = False)]['county'].count())"
   ]
  },
  {
   "cell_type": "code",
   "execution_count": 35,
   "id": "07cd383c",
   "metadata": {},
   "outputs": [
    {
     "data": {
      "text/plain": [
       "800307"
      ]
     },
     "execution_count": 35,
     "metadata": {},
     "output_type": "execute_result"
    }
   ],
   "source": [
    "dataFrame[\"county\"].count()"
   ]
  },
  {
   "cell_type": "markdown",
   "id": "a7811b3b",
   "metadata": {},
   "source": [
    "#### Verification de  l'unicité du couple (date, fips)"
   ]
  },
  {
   "cell_type": "code",
   "execution_count": 36,
   "id": "1f3312aa",
   "metadata": {},
   "outputs": [
    {
     "data": {
      "text/plain": [
       "date    581\n",
       "dtype: int64"
      ]
     },
     "execution_count": 36,
     "metadata": {},
     "output_type": "execute_result"
    }
   ],
   "source": [
    " pandas.DataFrame(dataFrame['date'].unique(), columns=[\"date\"]).count()"
   ]
  },
  {
   "cell_type": "code",
   "execution_count": 37,
   "id": "500a6f1b",
   "metadata": {},
   "outputs": [
    {
     "name": "stdout",
     "output_type": "stream",
     "text": [
      "0         2020-01-21---53061.0\n",
      "1         2020-01-22---53061.0\n",
      "2         2020-01-23---53061.0\n",
      "3         2020-01-24---17031.0\n",
      "4         2020-01-24---53061.0\n",
      "                  ...         \n",
      "800432    2020-12-05---56037.0\n",
      "800433    2020-12-05---56039.0\n",
      "800434    2020-12-05---56041.0\n",
      "800435    2020-12-05---56043.0\n",
      "800436    2020-12-05---56045.0\n",
      "Name: date-fips, Length: 800437, dtype: object\n"
     ]
    }
   ],
   "source": [
    "dataFrame['date-fips'] = dataFrame['date'].str.cat(\"---\" + dataFrame['fips'].apply(str))\n",
    "print(dataFrame['date-fips'])"
   ]
  },
  {
   "cell_type": "code",
   "execution_count": 38,
   "id": "79ad190b",
   "metadata": {},
   "outputs": [
    {
     "data": {
      "text/plain": [
       "date-fips    792899\n",
       "dtype: int64"
      ]
     },
     "execution_count": 38,
     "metadata": {},
     "output_type": "execute_result"
    }
   ],
   "source": [
    "pandas.DataFrame(dataFrame['date-fips'].unique(), columns=[\"date-fips\"]).count()"
   ]
  },
  {
   "cell_type": "code",
   "execution_count": 39,
   "id": "8c4665d0",
   "metadata": {},
   "outputs": [
    {
     "data": {
      "text/plain": [
       "date    581\n",
       "dtype: int64"
      ]
     },
     "execution_count": 39,
     "metadata": {},
     "output_type": "execute_result"
    }
   ],
   "source": [
    "pandas.DataFrame(dataFrame['date'].unique(), columns=[\"date\"]).count()"
   ]
  },
  {
   "cell_type": "code",
   "execution_count": 40,
   "id": "f07a734c",
   "metadata": {},
   "outputs": [
    {
     "data": {
      "text/plain": [
       "fips    4352\n",
       "dtype: int64"
      ]
     },
     "execution_count": 40,
     "metadata": {},
     "output_type": "execute_result"
    }
   ],
   "source": [
    "pandas.DataFrame(dataFrame['fips'].unique(), columns=[\"fips\"]).count()"
   ]
  },
  {
   "cell_type": "code",
   "execution_count": 41,
   "id": "f4ece622",
   "metadata": {},
   "outputs": [
    {
     "data": {
      "text/plain": [
       "date-fips    7538\n",
       "dtype: int64"
      ]
     },
     "execution_count": 41,
     "metadata": {},
     "output_type": "execute_result"
    }
   ],
   "source": [
    "dataFrame[\"id\"].count() - pandas.DataFrame(dataFrame['date-fips'].unique(), columns=[\"date-fips\"]).count()"
   ]
  }
 ],
 "metadata": {
  "kernelspec": {
   "display_name": "Python 3 (ipykernel)",
   "language": "python",
   "name": "python3"
  },
  "language_info": {
   "codemirror_mode": {
    "name": "ipython",
    "version": 3
   },
   "file_extension": ".py",
   "mimetype": "text/x-python",
   "name": "python",
   "nbconvert_exporter": "python",
   "pygments_lexer": "ipython3",
   "version": "3.10.2"
  }
 },
 "nbformat": 4,
 "nbformat_minor": 5
}
