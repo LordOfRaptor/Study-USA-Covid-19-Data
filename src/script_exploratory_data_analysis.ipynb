{
 "cells": [
  {
   "cell_type": "markdown",
   "id": "586ebd78",
   "metadata": {},
   "source": [
    "# Projet de Fouille de données"
   ]
  },
  {
   "cell_type": "markdown",
   "id": "f2d54eb4",
   "metadata": {},
   "source": [
    "## Etape I : Analyse exploratoire des données"
   ]
  },
  {
   "cell_type": "markdown",
   "id": "af1a1f5a",
   "metadata": {},
   "source": [
    "### Import des librairies"
   ]
  },
  {
   "cell_type": "markdown",
   "id": "6779cb3a",
   "metadata": {},
   "source": [
    "On commence par importer les librairies."
   ]
  },
  {
   "cell_type": "code",
   "execution_count": 1,
   "id": "33c7ffab",
   "metadata": {},
   "outputs": [],
   "source": [
    "import pandas\n",
    "import numpy"
   ]
  },
  {
   "cell_type": "markdown",
   "id": "469794bc",
   "metadata": {},
   "source": [
    "### Import des données"
   ]
  },
  {
   "cell_type": "markdown",
   "id": "aacbd643",
   "metadata": {},
   "source": [
    "Puis, on importe les données de notre jeu de données, et on les \"wrap\" dans un DataFrame de Pandas."
   ]
  },
  {
   "cell_type": "code",
   "execution_count": 2,
   "id": "9d203faa-f185-40dd-ae7b-3ed483b9e827",
   "metadata": {},
   "outputs": [],
   "source": [
    "data = pandas.read_csv(\"../data/corrupted_data.csv\")\n",
    "dataFrame = pandas.DataFrame(data)"
   ]
  },
  {
   "cell_type": "markdown",
   "id": "dda2852e",
   "metadata": {},
   "source": [
    "### Visualisation des données"
   ]
  },
  {
   "cell_type": "markdown",
   "id": "5681db05",
   "metadata": {},
   "source": [
    "On affiche les données, pour les visualiser et se faire un premier avis."
   ]
  },
  {
   "cell_type": "code",
   "execution_count": 3,
   "id": "1952228f",
   "metadata": {},
   "outputs": [
    {
     "data": {
      "text/html": [
       "<div>\n",
       "<style scoped>\n",
       "    .dataframe tbody tr th:only-of-type {\n",
       "        vertical-align: middle;\n",
       "    }\n",
       "\n",
       "    .dataframe tbody tr th {\n",
       "        vertical-align: top;\n",
       "    }\n",
       "\n",
       "    .dataframe thead th {\n",
       "        text-align: right;\n",
       "    }\n",
       "</style>\n",
       "<table border=\"1\" class=\"dataframe\">\n",
       "  <thead>\n",
       "    <tr style=\"text-align: right;\">\n",
       "      <th></th>\n",
       "      <th>Unnamed: 0</th>\n",
       "      <th>date</th>\n",
       "      <th>county</th>\n",
       "      <th>state</th>\n",
       "      <th>fips</th>\n",
       "      <th>cases</th>\n",
       "      <th>deaths</th>\n",
       "    </tr>\n",
       "  </thead>\n",
       "  <tbody>\n",
       "    <tr>\n",
       "      <th>0</th>\n",
       "      <td>0</td>\n",
       "      <td>2020-01-21</td>\n",
       "      <td>Snohomish</td>\n",
       "      <td>Washington</td>\n",
       "      <td>53061.0</td>\n",
       "      <td>1.0</td>\n",
       "      <td>0.0</td>\n",
       "    </tr>\n",
       "    <tr>\n",
       "      <th>1</th>\n",
       "      <td>1</td>\n",
       "      <td>2020-01-22</td>\n",
       "      <td>Snohomish</td>\n",
       "      <td>Washington</td>\n",
       "      <td>53061.0</td>\n",
       "      <td>1.0</td>\n",
       "      <td>0.0</td>\n",
       "    </tr>\n",
       "    <tr>\n",
       "      <th>2</th>\n",
       "      <td>2</td>\n",
       "      <td>2020-01-23</td>\n",
       "      <td>Snohomish</td>\n",
       "      <td>Washington</td>\n",
       "      <td>53061.0</td>\n",
       "      <td>1.0</td>\n",
       "      <td>0.0</td>\n",
       "    </tr>\n",
       "    <tr>\n",
       "      <th>3</th>\n",
       "      <td>3</td>\n",
       "      <td>2020-01-24</td>\n",
       "      <td>Cook</td>\n",
       "      <td>Illinois</td>\n",
       "      <td>17031.0</td>\n",
       "      <td>1.0</td>\n",
       "      <td>0.0</td>\n",
       "    </tr>\n",
       "    <tr>\n",
       "      <th>4</th>\n",
       "      <td>4</td>\n",
       "      <td>2020-01-24</td>\n",
       "      <td>Snohomish</td>\n",
       "      <td>Washington</td>\n",
       "      <td>53061.0</td>\n",
       "      <td>1.0</td>\n",
       "      <td>0.0</td>\n",
       "    </tr>\n",
       "  </tbody>\n",
       "</table>\n",
       "</div>"
      ],
      "text/plain": [
       "   Unnamed: 0        date     county       state     fips  cases  deaths\n",
       "0           0  2020-01-21  Snohomish  Washington  53061.0    1.0     0.0\n",
       "1           1  2020-01-22  Snohomish  Washington  53061.0    1.0     0.0\n",
       "2           2  2020-01-23  Snohomish  Washington  53061.0    1.0     0.0\n",
       "3           3  2020-01-24       Cook    Illinois  17031.0    1.0     0.0\n",
       "4           4  2020-01-24  Snohomish  Washington  53061.0    1.0     0.0"
      ]
     },
     "execution_count": 3,
     "metadata": {},
     "output_type": "execute_result"
    }
   ],
   "source": [
    "dataFrame.head()"
   ]
  },
  {
   "cell_type": "code",
   "execution_count": 4,
   "id": "7f744e55",
   "metadata": {},
   "outputs": [
    {
     "data": {
      "text/html": [
       "<div>\n",
       "<style scoped>\n",
       "    .dataframe tbody tr th:only-of-type {\n",
       "        vertical-align: middle;\n",
       "    }\n",
       "\n",
       "    .dataframe tbody tr th {\n",
       "        vertical-align: top;\n",
       "    }\n",
       "\n",
       "    .dataframe thead th {\n",
       "        text-align: right;\n",
       "    }\n",
       "</style>\n",
       "<table border=\"1\" class=\"dataframe\">\n",
       "  <thead>\n",
       "    <tr style=\"text-align: right;\">\n",
       "      <th></th>\n",
       "      <th>Unnamed: 0</th>\n",
       "      <th>date</th>\n",
       "      <th>county</th>\n",
       "      <th>state</th>\n",
       "      <th>fips</th>\n",
       "      <th>cases</th>\n",
       "      <th>deaths</th>\n",
       "    </tr>\n",
       "  </thead>\n",
       "  <tbody>\n",
       "    <tr>\n",
       "      <th>0</th>\n",
       "      <td>0</td>\n",
       "      <td>2020-01-21</td>\n",
       "      <td>Snohomish</td>\n",
       "      <td>Washington</td>\n",
       "      <td>53061.0</td>\n",
       "      <td>1.0</td>\n",
       "      <td>0.0</td>\n",
       "    </tr>\n",
       "    <tr>\n",
       "      <th>1</th>\n",
       "      <td>1</td>\n",
       "      <td>2020-01-22</td>\n",
       "      <td>Snohomish</td>\n",
       "      <td>Washington</td>\n",
       "      <td>53061.0</td>\n",
       "      <td>1.0</td>\n",
       "      <td>0.0</td>\n",
       "    </tr>\n",
       "    <tr>\n",
       "      <th>2</th>\n",
       "      <td>2</td>\n",
       "      <td>2020-01-23</td>\n",
       "      <td>Snohomish</td>\n",
       "      <td>Washington</td>\n",
       "      <td>53061.0</td>\n",
       "      <td>1.0</td>\n",
       "      <td>0.0</td>\n",
       "    </tr>\n",
       "    <tr>\n",
       "      <th>3</th>\n",
       "      <td>3</td>\n",
       "      <td>2020-01-24</td>\n",
       "      <td>Cook</td>\n",
       "      <td>Illinois</td>\n",
       "      <td>17031.0</td>\n",
       "      <td>1.0</td>\n",
       "      <td>0.0</td>\n",
       "    </tr>\n",
       "    <tr>\n",
       "      <th>4</th>\n",
       "      <td>4</td>\n",
       "      <td>2020-01-24</td>\n",
       "      <td>Snohomish</td>\n",
       "      <td>Washington</td>\n",
       "      <td>53061.0</td>\n",
       "      <td>1.0</td>\n",
       "      <td>0.0</td>\n",
       "    </tr>\n",
       "    <tr>\n",
       "      <th>...</th>\n",
       "      <td>...</td>\n",
       "      <td>...</td>\n",
       "      <td>...</td>\n",
       "      <td>...</td>\n",
       "      <td>...</td>\n",
       "      <td>...</td>\n",
       "      <td>...</td>\n",
       "    </tr>\n",
       "    <tr>\n",
       "      <th>800432</th>\n",
       "      <td>800432</td>\n",
       "      <td>2020-12-05</td>\n",
       "      <td>Sweetwater</td>\n",
       "      <td>Wyoming</td>\n",
       "      <td>56037.0</td>\n",
       "      <td>2098.0</td>\n",
       "      <td>10.0</td>\n",
       "    </tr>\n",
       "    <tr>\n",
       "      <th>800433</th>\n",
       "      <td>800433</td>\n",
       "      <td>2020-12-05</td>\n",
       "      <td>Teton</td>\n",
       "      <td>Wyoming</td>\n",
       "      <td>56039.0</td>\n",
       "      <td>1739.0</td>\n",
       "      <td>2.0</td>\n",
       "    </tr>\n",
       "    <tr>\n",
       "      <th>800434</th>\n",
       "      <td>800434</td>\n",
       "      <td>2020-12-05</td>\n",
       "      <td>Uinta</td>\n",
       "      <td>Wyoming</td>\n",
       "      <td>56041.0</td>\n",
       "      <td>1187.0</td>\n",
       "      <td>5.0</td>\n",
       "    </tr>\n",
       "    <tr>\n",
       "      <th>800435</th>\n",
       "      <td>800435</td>\n",
       "      <td>2020-12-05</td>\n",
       "      <td>Washakie</td>\n",
       "      <td>Wyoming</td>\n",
       "      <td>56043.0</td>\n",
       "      <td>519.0</td>\n",
       "      <td>8.0</td>\n",
       "    </tr>\n",
       "    <tr>\n",
       "      <th>800436</th>\n",
       "      <td>800436</td>\n",
       "      <td>2020-12-05</td>\n",
       "      <td>Weston</td>\n",
       "      <td>Wyoming</td>\n",
       "      <td>56045.0</td>\n",
       "      <td>419.0</td>\n",
       "      <td>2.0</td>\n",
       "    </tr>\n",
       "  </tbody>\n",
       "</table>\n",
       "<p>800437 rows × 7 columns</p>\n",
       "</div>"
      ],
      "text/plain": [
       "        Unnamed: 0        date      county       state     fips   cases  \\\n",
       "0                0  2020-01-21   Snohomish  Washington  53061.0     1.0   \n",
       "1                1  2020-01-22   Snohomish  Washington  53061.0     1.0   \n",
       "2                2  2020-01-23   Snohomish  Washington  53061.0     1.0   \n",
       "3                3  2020-01-24        Cook    Illinois  17031.0     1.0   \n",
       "4                4  2020-01-24   Snohomish  Washington  53061.0     1.0   \n",
       "...            ...         ...         ...         ...      ...     ...   \n",
       "800432      800432  2020-12-05  Sweetwater     Wyoming  56037.0  2098.0   \n",
       "800433      800433  2020-12-05       Teton     Wyoming  56039.0  1739.0   \n",
       "800434      800434  2020-12-05       Uinta     Wyoming  56041.0  1187.0   \n",
       "800435      800435  2020-12-05    Washakie     Wyoming  56043.0   519.0   \n",
       "800436      800436  2020-12-05      Weston     Wyoming  56045.0   419.0   \n",
       "\n",
       "        deaths  \n",
       "0          0.0  \n",
       "1          0.0  \n",
       "2          0.0  \n",
       "3          0.0  \n",
       "4          0.0  \n",
       "...        ...  \n",
       "800432    10.0  \n",
       "800433     2.0  \n",
       "800434     5.0  \n",
       "800435     8.0  \n",
       "800436     2.0  \n",
       "\n",
       "[800437 rows x 7 columns]"
      ]
     },
     "execution_count": 4,
     "metadata": {},
     "output_type": "execute_result"
    }
   ],
   "source": [
    "dataFrame"
   ]
  },
  {
   "cell_type": "code",
   "execution_count": 5,
   "id": "4dd9afc8-3997-40c3-b328-3f8f0ee8cb09",
   "metadata": {},
   "outputs": [
    {
     "data": {
      "text/plain": [
       "['Unnamed: 0', 'date', 'county', 'state', 'fips', 'cases', 'deaths']"
      ]
     },
     "execution_count": 5,
     "metadata": {},
     "output_type": "execute_result"
    }
   ],
   "source": [
    "list(dataFrame.columns)"
   ]
  },
  {
   "cell_type": "markdown",
   "id": "da9667c8",
   "metadata": {},
   "source": [
    "Ce jeu de données contient a priori 7 colonnes et 800 437 lignes. "
   ]
  },
  {
   "cell_type": "markdown",
   "id": "50b463bd",
   "metadata": {},
   "source": [
    "Il semble associer à une date et à un comté d'un état, un nombre de cas et un nombre de morts du Covid-19."
   ]
  },
  {
   "cell_type": "markdown",
   "id": "784ed609",
   "metadata": {},
   "source": [
    "La première colonne semble avoir un nom par défaut choisi par la librairie donc."
   ]
  },
  {
   "cell_type": "markdown",
   "id": "47c2b59a",
   "metadata": {},
   "source": [
    " TODO https://fr.wikipedia.org/wiki/Federal_Information_Processing_Standard"
   ]
  },
  {
   "cell_type": "markdown",
   "id": "469f0267",
   "metadata": {},
   "source": [
    "### Renommage de la première colonne en \"id\""
   ]
  },
  {
   "cell_type": "markdown",
   "id": "951b6d82",
   "metadata": {},
   "source": [
    "On renomme la première colonne avec un nom correct. "
   ]
  },
  {
   "cell_type": "code",
   "execution_count": 6,
   "id": "b0098c86",
   "metadata": {},
   "outputs": [],
   "source": [
    "dataFrame = dataFrame.rename(columns={'Unnamed: 0': 'id'})"
   ]
  },
  {
   "cell_type": "code",
   "execution_count": 7,
   "id": "ae29670a",
   "metadata": {},
   "outputs": [
    {
     "data": {
      "text/plain": [
       "['id', 'date', 'county', 'state', 'fips', 'cases', 'deaths']"
      ]
     },
     "execution_count": 7,
     "metadata": {},
     "output_type": "execute_result"
    }
   ],
   "source": [
    "list(dataFrame.columns)"
   ]
  },
  {
   "cell_type": "markdown",
   "id": "ff37aebe",
   "metadata": {},
   "source": [
    "### Analayse exploratoire"
   ]
  },
  {
   "cell_type": "markdown",
   "id": "17c12cd5",
   "metadata": {},
   "source": [
    "#### Analyse exploratoire introductive"
   ]
  },
  {
   "cell_type": "code",
   "execution_count": 8,
   "id": "3988fde6",
   "metadata": {},
   "outputs": [
    {
     "data": {
      "text/plain": [
       "800437"
      ]
     },
     "execution_count": 8,
     "metadata": {},
     "output_type": "execute_result"
    }
   ],
   "source": [
    "len(dataFrame)"
   ]
  },
  {
   "cell_type": "code",
   "execution_count": 9,
   "id": "34c3e984",
   "metadata": {},
   "outputs": [
    {
     "data": {
      "text/plain": [
       "id        800437\n",
       "date      800299\n",
       "county    800307\n",
       "state     800303\n",
       "fips      792743\n",
       "cases     800292\n",
       "deaths    783561\n",
       "dtype: int64"
      ]
     },
     "execution_count": 9,
     "metadata": {},
     "output_type": "execute_result"
    }
   ],
   "source": [
    "dataFrame.count() "
   ]
  },
  {
   "cell_type": "code",
   "execution_count": 10,
   "id": "bb26c5fc",
   "metadata": {},
   "outputs": [
    {
     "data": {
      "text/plain": [
       "id            0\n",
       "date        138\n",
       "county      130\n",
       "state       134\n",
       "fips       7694\n",
       "cases       145\n",
       "deaths    16876\n",
       "dtype: int64"
      ]
     },
     "execution_count": 10,
     "metadata": {},
     "output_type": "execute_result"
    }
   ],
   "source": [
    "len(dataFrame) - dataFrame.count() "
   ]
  },
  {
   "cell_type": "markdown",
   "id": "4119093c",
   "metadata": {},
   "source": [
    "On peut d'or et déjà observé que des colonnes comportent des valeurs manquantes (des cellules vides donc), puisque la fonction count() décompte dans les colonnes que les valeurs renseignes, les ceulles pas vides donc."
   ]
  },
  {
   "cell_type": "markdown",
   "id": "8ab1c9a0",
   "metadata": {},
   "source": [
    "A l'inverse la fonction len() décompte toutes les valeurs dans les colonnes."
   ]
  },
  {
   "cell_type": "markdown",
   "id": "568615c4",
   "metadata": {},
   "source": [
    "<b>Seule la colonne \"id\" semble ne pas comporter de données manquantes (données manquantes au sens cellules vides ici (transformées en NaN par pandas à l'import)).</b>"
   ]
  },
  {
   "cell_type": "markdown",
   "id": "e26e5eb2",
   "metadata": {},
   "source": [
    "#### Analyse exploratoire de la colonne \"id\""
   ]
  },
  {
   "cell_type": "markdown",
   "id": "9a97a83e",
   "metadata": {},
   "source": [
    "On effectue une analyse exploratoire de la colonne \"id\" des identifiants."
   ]
  },
  {
   "cell_type": "code",
   "execution_count": 11,
   "id": "a5ef46c6",
   "metadata": {},
   "outputs": [
    {
     "data": {
      "text/html": [
       "<div>\n",
       "<style scoped>\n",
       "    .dataframe tbody tr th:only-of-type {\n",
       "        vertical-align: middle;\n",
       "    }\n",
       "\n",
       "    .dataframe tbody tr th {\n",
       "        vertical-align: top;\n",
       "    }\n",
       "\n",
       "    .dataframe thead th {\n",
       "        text-align: right;\n",
       "    }\n",
       "</style>\n",
       "<table border=\"1\" class=\"dataframe\">\n",
       "  <thead>\n",
       "    <tr style=\"text-align: right;\">\n",
       "      <th></th>\n",
       "      <th>id</th>\n",
       "      <th>date</th>\n",
       "      <th>county</th>\n",
       "      <th>state</th>\n",
       "      <th>fips</th>\n",
       "      <th>cases</th>\n",
       "      <th>deaths</th>\n",
       "    </tr>\n",
       "  </thead>\n",
       "  <tbody>\n",
       "  </tbody>\n",
       "</table>\n",
       "</div>"
      ],
      "text/plain": [
       "Empty DataFrame\n",
       "Columns: [id, date, county, state, fips, cases, deaths]\n",
       "Index: []"
      ]
     },
     "execution_count": 11,
     "metadata": {},
     "output_type": "execute_result"
    }
   ],
   "source": [
    "dataFrame[dataFrame['id']=='Unknown']"
   ]
  },
  {
   "cell_type": "code",
   "execution_count": 12,
   "id": "a7b70a36",
   "metadata": {},
   "outputs": [
    {
     "data": {
      "text/plain": [
       "0"
      ]
     },
     "execution_count": 12,
     "metadata": {},
     "output_type": "execute_result"
    }
   ],
   "source": [
    "len(dataFrame[dataFrame['id']=='Unknown']['id'])"
   ]
  },
  {
   "cell_type": "markdown",
   "id": "516b2893",
   "metadata": {},
   "source": [
    "La colonne \"id\" ne contient pas de valeurs explicitement renseignés comme manquantes."
   ]
  },
  {
   "cell_type": "code",
   "execution_count": 13,
   "id": "a48d88a4",
   "metadata": {},
   "outputs": [
    {
     "data": {
      "text/html": [
       "<div>\n",
       "<style scoped>\n",
       "    .dataframe tbody tr th:only-of-type {\n",
       "        vertical-align: middle;\n",
       "    }\n",
       "\n",
       "    .dataframe tbody tr th {\n",
       "        vertical-align: top;\n",
       "    }\n",
       "\n",
       "    .dataframe thead th {\n",
       "        text-align: right;\n",
       "    }\n",
       "</style>\n",
       "<table border=\"1\" class=\"dataframe\">\n",
       "  <thead>\n",
       "    <tr style=\"text-align: right;\">\n",
       "      <th></th>\n",
       "      <th>id</th>\n",
       "      <th>date</th>\n",
       "      <th>county</th>\n",
       "      <th>state</th>\n",
       "      <th>fips</th>\n",
       "      <th>cases</th>\n",
       "      <th>deaths</th>\n",
       "    </tr>\n",
       "  </thead>\n",
       "  <tbody>\n",
       "  </tbody>\n",
       "</table>\n",
       "</div>"
      ],
      "text/plain": [
       "Empty DataFrame\n",
       "Columns: [id, date, county, state, fips, cases, deaths]\n",
       "Index: []"
      ]
     },
     "execution_count": 13,
     "metadata": {},
     "output_type": "execute_result"
    }
   ],
   "source": [
    "idIsNull = pandas.isnull(dataFrame[\"id\"])\n",
    "dataFrame[idIsNull]"
   ]
  },
  {
   "cell_type": "code",
   "execution_count": 14,
   "id": "47bc4fcc",
   "metadata": {},
   "outputs": [
    {
     "data": {
      "text/plain": [
       "0"
      ]
     },
     "execution_count": 14,
     "metadata": {},
     "output_type": "execute_result"
    }
   ],
   "source": [
    "idIsNull.sum()"
   ]
  },
  {
   "cell_type": "markdown",
   "id": "9de730c9",
   "metadata": {},
   "source": [
    "La colonne \"id\" ne contient aucune valeur manquante."
   ]
  },
  {
   "cell_type": "code",
   "execution_count": 15,
   "id": "60b612d6",
   "metadata": {},
   "outputs": [
    {
     "data": {
      "text/plain": [
       "800437"
      ]
     },
     "execution_count": 15,
     "metadata": {},
     "output_type": "execute_result"
    }
   ],
   "source": [
    "len(dataFrame['id'])"
   ]
  },
  {
   "cell_type": "code",
   "execution_count": 16,
   "id": "0b4a6ee3",
   "metadata": {},
   "outputs": [
    {
     "data": {
      "text/plain": [
       "800437"
      ]
     },
     "execution_count": 16,
     "metadata": {},
     "output_type": "execute_result"
    }
   ],
   "source": [
    "len(dataFrame[dataFrame.id.apply(str).str.contains('^[0-9]+$', regex = True, na = False)]['id'])"
   ]
  },
  {
   "cell_type": "code",
   "execution_count": 17,
   "id": "927dc420",
   "metadata": {},
   "outputs": [
    {
     "data": {
      "text/plain": [
       "0"
      ]
     },
     "execution_count": 17,
     "metadata": {},
     "output_type": "execute_result"
    }
   ],
   "source": [
    "(len(dataFrame.index)\n",
    " - len(dataFrame[dataFrame['id'].apply(str).str.contains('^[0-9]+$', regex = True, na = False)]['id']))"
   ]
  },
  {
   "cell_type": "markdown",
   "id": "a32560c6",
   "metadata": {},
   "source": [
    "La colonne \"id\" ne contient que des entiers positifs."
   ]
  },
  {
   "cell_type": "code",
   "execution_count": 18,
   "id": "49be02a6",
   "metadata": {},
   "outputs": [
    {
     "data": {
      "text/plain": [
       "800437"
      ]
     },
     "execution_count": 18,
     "metadata": {},
     "output_type": "execute_result"
    }
   ],
   "source": [
    "len(dataFrame['id'].unique())"
   ]
  },
  {
   "cell_type": "code",
   "execution_count": 19,
   "id": "d2fc4b4c",
   "metadata": {},
   "outputs": [
    {
     "data": {
      "text/plain": [
       "0"
      ]
     },
     "execution_count": 19,
     "metadata": {},
     "output_type": "execute_result"
    }
   ],
   "source": [
    "len(dataFrame['id']) - len(dataFrame['id'].unique())"
   ]
  },
  {
   "cell_type": "markdown",
   "id": "580f48af",
   "metadata": {},
   "source": [
    "La colonne \"id\" ne contient que des valeurs uniques."
   ]
  },
  {
   "cell_type": "markdown",
   "id": "433aa255",
   "metadata": {},
   "source": [
    "Tous les identidifiants de la colonne \"id\" sont donc des nombres entiers positifs et uniques. "
   ]
  },
  {
   "cell_type": "markdown",
   "id": "a26ac02e",
   "metadata": {},
   "source": [
    "Cela correspond à la description d'identifiants corrects. "
   ]
  },
  {
   "cell_type": "markdown",
   "id": "d22ca57c",
   "metadata": {},
   "source": [
    "<b>Pour conclure sur la colonne \"id\" : cette dernière ne contient aucune donnée erronée : pas de données manquantes, et pas de données incohérentes.</b>"
   ]
  },
  {
   "cell_type": "markdown",
   "id": "3d102128",
   "metadata": {},
   "source": [
    "#### Analyse  exploratoire de la colonne \"date\""
   ]
  },
  {
   "cell_type": "markdown",
   "id": "d89847a7",
   "metadata": {},
   "source": [
    "On effectue une analyse exploratoire de la colonne \"date\"."
   ]
  },
  {
   "cell_type": "code",
   "execution_count": 20,
   "id": "f2e3dff2",
   "metadata": {},
   "outputs": [
    {
     "data": {
      "text/html": [
       "<div>\n",
       "<style scoped>\n",
       "    .dataframe tbody tr th:only-of-type {\n",
       "        vertical-align: middle;\n",
       "    }\n",
       "\n",
       "    .dataframe tbody tr th {\n",
       "        vertical-align: top;\n",
       "    }\n",
       "\n",
       "    .dataframe thead th {\n",
       "        text-align: right;\n",
       "    }\n",
       "</style>\n",
       "<table border=\"1\" class=\"dataframe\">\n",
       "  <thead>\n",
       "    <tr style=\"text-align: right;\">\n",
       "      <th></th>\n",
       "      <th>id</th>\n",
       "      <th>date</th>\n",
       "      <th>county</th>\n",
       "      <th>state</th>\n",
       "      <th>fips</th>\n",
       "      <th>cases</th>\n",
       "      <th>deaths</th>\n",
       "    </tr>\n",
       "  </thead>\n",
       "  <tbody>\n",
       "  </tbody>\n",
       "</table>\n",
       "</div>"
      ],
      "text/plain": [
       "Empty DataFrame\n",
       "Columns: [id, date, county, state, fips, cases, deaths]\n",
       "Index: []"
      ]
     },
     "execution_count": 20,
     "metadata": {},
     "output_type": "execute_result"
    }
   ],
   "source": [
    "dataFrame[dataFrame[\"date\"]==\"Unknown\"]"
   ]
  },
  {
   "cell_type": "code",
   "execution_count": 21,
   "id": "56cc2042",
   "metadata": {},
   "outputs": [
    {
     "data": {
      "text/plain": [
       "0"
      ]
     },
     "execution_count": 21,
     "metadata": {},
     "output_type": "execute_result"
    }
   ],
   "source": [
    "len(dataFrame[dataFrame[\"date\"]==\"Unknown\"][\"date\"])"
   ]
  },
  {
   "cell_type": "markdown",
   "id": "848e330a",
   "metadata": {},
   "source": [
    "La colonne \"date\" ne contient aucune valeur \"Unknown\"."
   ]
  },
  {
   "cell_type": "code",
   "execution_count": 22,
   "id": "a19fcef0",
   "metadata": {},
   "outputs": [
    {
     "data": {
      "text/plain": [
       "18243     NaN\n",
       "25438     NaN\n",
       "26345     NaN\n",
       "28217     NaN\n",
       "29487     NaN\n",
       "         ... \n",
       "757800    NaN\n",
       "768876    NaN\n",
       "775081    NaN\n",
       "785062    NaN\n",
       "786772    NaN\n",
       "Name: date, Length: 138, dtype: object"
      ]
     },
     "execution_count": 22,
     "metadata": {},
     "output_type": "execute_result"
    }
   ],
   "source": [
    "dateIsNull = pandas.isnull(dataFrame[\"date\"])\n",
    "dataFrame[dateIsNull][\"date\"]"
   ]
  },
  {
   "cell_type": "code",
   "execution_count": 23,
   "id": "ec8c111c",
   "metadata": {},
   "outputs": [
    {
     "data": {
      "text/plain": [
       "138"
      ]
     },
     "execution_count": 23,
     "metadata": {},
     "output_type": "execute_result"
    }
   ],
   "source": [
    "dateIsNull.sum()"
   ]
  },
  {
   "cell_type": "markdown",
   "id": "4197d1f7",
   "metadata": {},
   "source": [
    "La colonne \"date\" contient des valeurs manquantes."
   ]
  },
  {
   "cell_type": "code",
   "execution_count": 24,
   "id": "4569ea8e",
   "metadata": {},
   "outputs": [
    {
     "data": {
      "text/plain": [
       "800299"
      ]
     },
     "execution_count": 24,
     "metadata": {},
     "output_type": "execute_result"
    }
   ],
   "source": [
    "dataFrame['date'].count()"
   ]
  },
  {
   "cell_type": "code",
   "execution_count": 25,
   "id": "0b5f0b7e",
   "metadata": {},
   "outputs": [
    {
     "data": {
      "text/plain": [
       "0         2020-01-21\n",
       "1         2020-01-22\n",
       "2         2020-01-23\n",
       "3         2020-01-24\n",
       "4         2020-01-24\n",
       "             ...    \n",
       "800432    2020-12-05\n",
       "800433    2020-12-05\n",
       "800434    2020-12-05\n",
       "800435    2020-12-05\n",
       "800436    2020-12-05\n",
       "Name: date, Length: 799042, dtype: object"
      ]
     },
     "execution_count": 25,
     "metadata": {},
     "output_type": "execute_result"
    }
   ],
   "source": [
    "dataFrame[dataFrame['date'].str.contains('^[0-9]{4}-[0-9]{2}-[0-9]{2}$', regex = True, na = False)]['date']"
   ]
  },
  {
   "cell_type": "code",
   "execution_count": 26,
   "id": "5edf9626",
   "metadata": {},
   "outputs": [
    {
     "data": {
      "text/plain": [
       "799042"
      ]
     },
     "execution_count": 26,
     "metadata": {},
     "output_type": "execute_result"
    }
   ],
   "source": [
    "len(dataFrame[dataFrame['date'].str.contains('^[0-9]{4}-[0-9]{2}-[0-9]{2}$', regex = True, na = False)]['date'])"
   ]
  },
  {
   "cell_type": "code",
   "execution_count": 27,
   "id": "5aeebda7",
   "metadata": {},
   "outputs": [
    {
     "data": {
      "text/plain": [
       "1257"
      ]
     },
     "execution_count": 27,
     "metadata": {},
     "output_type": "execute_result"
    }
   ],
   "source": [
    "(dataFrame['date'].count() \n",
    "- len(dataFrame[dataFrame['date'].str.contains('^[0-9]{4}-[0-9]{2}-[0-9]{2}$', regex = True, na = False)]['date']))"
   ]
  },
  {
   "cell_type": "markdown",
   "id": "e2594a0b",
   "metadata": {},
   "source": [
    "La colonne \"date\" contient quasiment que des dates matchant avec ce format \"YYYY-MM-DD\" (799042)."
   ]
  },
  {
   "cell_type": "code",
   "execution_count": 28,
   "id": "cb71789c",
   "metadata": {},
   "outputs": [
    {
     "data": {
      "text/plain": [
       "1008      2020.03.10\n",
       "2242      2020.03.14\n",
       "2836      2020.03.16\n",
       "3774      2020.03.18\n",
       "4514      2020.03.19\n",
       "             ...    \n",
       "795819    2020.12.04\n",
       "796123    2020.12.04\n",
       "796776    2020.12.04\n",
       "796794    2020.12.04\n",
       "799827    2020.12.05\n",
       "Name: date, Length: 1395, dtype: object"
      ]
     },
     "execution_count": 28,
     "metadata": {},
     "output_type": "execute_result"
    }
   ],
   "source": [
    "dataFrame[dataFrame['date'].str.contains('^[0-9]{4}-[0-9]{2}-[0-9]{2}$', regex = True, na = False) == False]['date']"
   ]
  },
  {
   "cell_type": "code",
   "execution_count": 29,
   "id": "480fbf89",
   "metadata": {},
   "outputs": [
    {
     "data": {
      "text/plain": [
       "1257"
      ]
     },
     "execution_count": 29,
     "metadata": {},
     "output_type": "execute_result"
    }
   ],
   "source": [
    "len(dataFrame[dataFrame['date'].str.contains('^[0-9]{4}\\.[0-9]{2}\\.[0-9]{2}$', regex = True, na = False)]['date'])"
   ]
  },
  {
   "cell_type": "code",
   "execution_count": 30,
   "id": "5f7d3dee",
   "metadata": {},
   "outputs": [
    {
     "data": {
      "text/plain": [
       "0"
      ]
     },
     "execution_count": 30,
     "metadata": {},
     "output_type": "execute_result"
    }
   ],
   "source": [
    "(dataFrame['date'].count()\n",
    "- len(dataFrame[dataFrame['date'].str.contains('^[0-9]{4}-[0-9]{2}-[0-9]{2}$', regex = True, na = False)]['date'])\n",
    "- len(dataFrame[dataFrame['date'].str.contains('^[0-9]{4}\\.[0-9]{2}\\.[0-9]{2}$', regex = True, na = False)]['date']))"
   ]
  },
  {
   "cell_type": "code",
   "execution_count": 31,
   "id": "78655c97",
   "metadata": {},
   "outputs": [
    {
     "data": {
      "text/plain": [
       "18243     NaN\n",
       "25438     NaN\n",
       "26345     NaN\n",
       "28217     NaN\n",
       "29487     NaN\n",
       "         ... \n",
       "757800    NaN\n",
       "768876    NaN\n",
       "775081    NaN\n",
       "785062    NaN\n",
       "786772    NaN\n",
       "Name: date, Length: 138, dtype: object"
      ]
     },
     "execution_count": 31,
     "metadata": {},
     "output_type": "execute_result"
    }
   ],
   "source": [
    "dataFrame[dataFrame['date'].str.contains('^[0-9]{4}-[0-9]{2}-[0-9]{2}$|^[0-9]{4}\\.[0-9]{2}\\.[0-9]{2}$', regex = True, na = False) == False]['date']"
   ]
  },
  {
   "cell_type": "code",
   "execution_count": 32,
   "id": "0b107c2b",
   "metadata": {},
   "outputs": [
    {
     "data": {
      "text/plain": [
       "138"
      ]
     },
     "execution_count": 32,
     "metadata": {},
     "output_type": "execute_result"
    }
   ],
   "source": [
    "len(dataFrame[dataFrame['date'].str.contains('^[0-9]{4}-[0-9]{2}-[0-9]{2}$|^[0-9]{4}\\.[0-9]{2}\\.[0-9]{2}$', regex = True, na = False) == False]['date'])"
   ]
  },
  {
   "cell_type": "code",
   "execution_count": 33,
   "id": "6caf9b8d",
   "metadata": {},
   "outputs": [
    {
     "data": {
      "text/plain": [
       "0"
      ]
     },
     "execution_count": 33,
     "metadata": {},
     "output_type": "execute_result"
    }
   ],
   "source": [
    "(len(dataFrame)\n",
    "- len(dataFrame[dataFrame['date'].str.contains('^[0-9]{4}-[0-9]{2}-[0-9]{2}$', regex = True, na = False)]['date'])\n",
    "- len(dataFrame[dataFrame['date'].str.contains('^[0-9]{4}\\.[0-9]{2}\\.[0-9]{2}$', regex = True, na = False)]['date'])\n",
    "- len(dataFrame[dataFrame['date'].str.contains('^[0-9]{4}-[0-9]{2}-[0-9]{2}$|^[0-9]{4}\\.[0-9]{2}\\.[0-9]{2}$', regex = True, na = False) == False]['date']))"
   ]
  },
  {
   "cell_type": "markdown",
   "id": "ae20410d",
   "metadata": {},
   "source": [
    "La colonne \"date\" contient également des dates matchant avec le format \"YYYY.MM.DD\" (1257), et toutes les dates renseignées de la colonne \"date\" matche soit avec ce format : \"YYYY-MM-DD\" (799042), soit avec celui-ci : \"YYYY.MM.DD\" (1257)."
   ]
  },
  {
   "cell_type": "markdown",
   "id": "134bca66",
   "metadata": {},
   "source": [
    "<b>Pour conlure sur la colonne \"date\" : cette colonne contient des données manquantes (138), et également des données incohérentes (1257) puisque deux formats différents sont utilisés pour réprésenter les dates.</b>"
   ]
  },
  {
   "cell_type": "markdown",
   "id": "a2e0935c",
   "metadata": {},
   "source": [
    "#### Analyse exploratoire de la colonne \"county\""
   ]
  },
  {
   "cell_type": "markdown",
   "id": "9c08c8bb",
   "metadata": {},
   "source": [
    "On effectue une analyse exploratoire de la colonne \"county\"."
   ]
  },
  {
   "cell_type": "code",
   "execution_count": 34,
   "id": "e8c1f9ca",
   "metadata": {},
   "outputs": [
    {
     "data": {
      "text/plain": [
       "418       Unknown\n",
       "450       Unknown\n",
       "485       Unknown\n",
       "522       Unknown\n",
       "569       Unknown\n",
       "           ...   \n",
       "799602    Unknown\n",
       "799803    Unknown\n",
       "800090    Unknown\n",
       "800107    Unknown\n",
       "800281    Unknown\n",
       "Name: county, Length: 6870, dtype: object"
      ]
     },
     "execution_count": 34,
     "metadata": {},
     "output_type": "execute_result"
    }
   ],
   "source": [
    "dataFrame[dataFrame[\"county\"]==\"Unknown\"][\"county\"]"
   ]
  },
  {
   "cell_type": "code",
   "execution_count": 35,
   "id": "c7d295e9",
   "metadata": {},
   "outputs": [
    {
     "data": {
      "text/plain": [
       "6870"
      ]
     },
     "execution_count": 35,
     "metadata": {},
     "output_type": "execute_result"
    }
   ],
   "source": [
    "len(dataFrame[dataFrame[\"county\"]==\"Unknown\"][\"county\"])"
   ]
  },
  {
   "cell_type": "markdown",
   "id": "9651745f",
   "metadata": {},
   "source": [
    "La colonne \"county\" contient des valeurs \"Unknown\" (6870), des données de cette colonne sont donc manquantes, mais renseignées comme manquantes avec \"Unknown\"."
   ]
  },
  {
   "cell_type": "code",
   "execution_count": 36,
   "id": "9e2343f2",
   "metadata": {},
   "outputs": [
    {
     "data": {
      "text/plain": [
       "7877      NaN\n",
       "9410      NaN\n",
       "16113     NaN\n",
       "36581     NaN\n",
       "40683     NaN\n",
       "         ... \n",
       "776385    NaN\n",
       "783350    NaN\n",
       "790449    NaN\n",
       "794963    NaN\n",
       "800247    NaN\n",
       "Name: county, Length: 130, dtype: object"
      ]
     },
     "execution_count": 36,
     "metadata": {},
     "output_type": "execute_result"
    }
   ],
   "source": [
    "countyIsNull = pandas.isnull(dataFrame[\"county\"])\n",
    "dataFrame[countyIsNull][\"county\"]"
   ]
  },
  {
   "cell_type": "code",
   "execution_count": 37,
   "id": "c0804d60",
   "metadata": {},
   "outputs": [
    {
     "data": {
      "text/plain": [
       "130"
      ]
     },
     "execution_count": 37,
     "metadata": {},
     "output_type": "execute_result"
    }
   ],
   "source": [
    "countyIsNull.sum()"
   ]
  },
  {
   "cell_type": "markdown",
   "id": "b5ea2184",
   "metadata": {},
   "source": [
    "La colonne \"county\" contient des valeurs manquantes (130)."
   ]
  },
  {
   "cell_type": "code",
   "execution_count": 38,
   "id": "289391bd",
   "metadata": {},
   "outputs": [
    {
     "data": {
      "text/plain": [
       "800307"
      ]
     },
     "execution_count": 38,
     "metadata": {},
     "output_type": "execute_result"
    }
   ],
   "source": [
    "len(dataFrame[dataFrame['county'].str.contains('^.+$', regex = True, na = False)]['county'])"
   ]
  },
  {
   "cell_type": "code",
   "execution_count": 39,
   "id": "8c1c80ab",
   "metadata": {},
   "outputs": [
    {
     "data": {
      "text/plain": [
       "6870"
      ]
     },
     "execution_count": 39,
     "metadata": {},
     "output_type": "execute_result"
    }
   ],
   "source": [
    "len(dataFrame[dataFrame['county'].str.contains('^Unknown$', regex = True, na = False)]['county'])"
   ]
  },
  {
   "cell_type": "code",
   "execution_count": 40,
   "id": "90b15aa9",
   "metadata": {},
   "outputs": [
    {
     "data": {
      "text/plain": [
       "793437"
      ]
     },
     "execution_count": 40,
     "metadata": {},
     "output_type": "execute_result"
    }
   ],
   "source": [
    "(len(dataFrame[dataFrame['county'].str.contains('^.+$', regex = True, na = False)]['county'])\n",
    " -  len(dataFrame[dataFrame['county'].str.contains('^Unknown$', regex = True, na = False)]['county']))"
   ]
  },
  {
   "cell_type": "code",
   "execution_count": 41,
   "id": "0e3680d1",
   "metadata": {},
   "outputs": [
    {
     "data": {
      "text/plain": [
       "130"
      ]
     },
     "execution_count": 41,
     "metadata": {},
     "output_type": "execute_result"
    }
   ],
   "source": [
    "(len(dataFrame)\n",
    "- len(dataFrame[dataFrame['county'].str.contains('^.+$', regex = True, na = False)]['county']))"
   ]
  },
  {
   "cell_type": "code",
   "execution_count": 42,
   "id": "12bb1702",
   "metadata": {},
   "outputs": [
    {
     "data": {
      "text/plain": [
       "0"
      ]
     },
     "execution_count": 42,
     "metadata": {},
     "output_type": "execute_result"
    }
   ],
   "source": [
    "len(dataFrame[dataFrame['county'].str.contains('^.+[0-9]+.+$', regex = True, na = False)]['county'])"
   ]
  },
  {
   "cell_type": "code",
   "execution_count": 43,
   "id": "fa0418d8",
   "metadata": {},
   "outputs": [
    {
     "data": {
      "text/plain": [
       "0          Snohomish\n",
       "1          Snohomish\n",
       "2          Snohomish\n",
       "3               Cook\n",
       "4          Snohomish\n",
       "             ...    \n",
       "800432    Sweetwater\n",
       "800433         Teton\n",
       "800434         Uinta\n",
       "800435      Washakie\n",
       "800436        Weston\n",
       "Name: county, Length: 800307, dtype: object"
      ]
     },
     "execution_count": 43,
     "metadata": {},
     "output_type": "execute_result"
    }
   ],
   "source": [
    "dataFrame[dataFrame['county'].str.contains('^[a-zA-Z- \\.\\'ñ]+$', regex = True, na = False)]['county']"
   ]
  },
  {
   "cell_type": "code",
   "execution_count": 44,
   "id": "802ab9f2",
   "metadata": {},
   "outputs": [
    {
     "data": {
      "text/plain": [
       "800307"
      ]
     },
     "execution_count": 44,
     "metadata": {},
     "output_type": "execute_result"
    }
   ],
   "source": [
    "len(dataFrame[dataFrame['county'].str.contains('^[a-zA-Z- \\.\\'ñ]+$', regex = True, na = False)]['county'])"
   ]
  },
  {
   "cell_type": "code",
   "execution_count": 45,
   "id": "2710a304",
   "metadata": {},
   "outputs": [
    {
     "data": {
      "text/plain": [
       "7877      NaN\n",
       "9410      NaN\n",
       "16113     NaN\n",
       "36581     NaN\n",
       "40683     NaN\n",
       "         ... \n",
       "776385    NaN\n",
       "783350    NaN\n",
       "790449    NaN\n",
       "794963    NaN\n",
       "800247    NaN\n",
       "Name: county, Length: 130, dtype: object"
      ]
     },
     "execution_count": 45,
     "metadata": {},
     "output_type": "execute_result"
    }
   ],
   "source": [
    "dataFrame[dataFrame['county'].str.contains('^[a-zA-Z- \\.\\'ñ]+$', regex = True, na = False) == False]['county']"
   ]
  },
  {
   "cell_type": "code",
   "execution_count": 46,
   "id": "ba27596a",
   "metadata": {},
   "outputs": [
    {
     "data": {
      "text/plain": [
       "130"
      ]
     },
     "execution_count": 46,
     "metadata": {},
     "output_type": "execute_result"
    }
   ],
   "source": [
    "len(dataFrame[dataFrame['county'].str.contains('^[a-zA-Z- \\.\\'ñ]+$', regex = True, na = False) == False]['county'])"
   ]
  },
  {
   "cell_type": "code",
   "execution_count": 47,
   "id": "5d8da75f",
   "metadata": {},
   "outputs": [
    {
     "data": {
      "text/plain": [
       "800307"
      ]
     },
     "execution_count": 47,
     "metadata": {},
     "output_type": "execute_result"
    }
   ],
   "source": [
    "len(dataFrame[dataFrame['county'].str.contains('^[a-zA-Z]+[a-zA-Z- \\.\\'ñ]+$', regex = True, na = False)]['county'])"
   ]
  },
  {
   "cell_type": "code",
   "execution_count": 48,
   "id": "7121ce40",
   "metadata": {},
   "outputs": [
    {
     "data": {
      "text/plain": [
       "0"
      ]
     },
     "execution_count": 48,
     "metadata": {},
     "output_type": "execute_result"
    }
   ],
   "source": [
    "(len(dataFrame)\n",
    "  - len(dataFrame[dataFrame['county'].str.contains('^[a-zA-Z- \\.\\'ñ]+$', regex = True, na = False)]['county'])\n",
    "  - len(dataFrame[dataFrame['county'].str.contains('^[a-zA-Z- \\.\\'ñ]+$', regex = True, na = False) == False]['county']))"
   ]
  },
  {
   "cell_type": "markdown",
   "id": "0058bfda",
   "metadata": {},
   "source": [
    "Hormis les valeurs manquantes (cellules vides), toutes les valeurs de la colonne \"county\" semblent matcher avec cette expression régulière \"^[a-zA-Z- \\\\.\\\\'ñ]+$\", cela semble cohérent pour des noms de comtés d'état."
   ]
  },
  {
   "cell_type": "markdown",
   "id": "7db5ec07",
   "metadata": {},
   "source": [
    "<b>Pour conlure sur la colonne \"county\" : cette dernière contient des valeurs manquantes (\"Unknown\" : 6870, \"\" (cellule vide) : 130), mais pas de données incohérentes.</b>"
   ]
  },
  {
   "cell_type": "markdown",
   "id": "f92903f9",
   "metadata": {},
   "source": [
    "#### Analyse exploratoire de la colonne \"state\""
   ]
  },
  {
   "cell_type": "markdown",
   "id": "67837bf4",
   "metadata": {},
   "source": [
    "On effectue une analyse exploratoire de la colonne \"state\"."
   ]
  },
  {
   "cell_type": "code",
   "execution_count": 49,
   "id": "cdd0735c",
   "metadata": {},
   "outputs": [
    {
     "data": {
      "text/html": [
       "<div>\n",
       "<style scoped>\n",
       "    .dataframe tbody tr th:only-of-type {\n",
       "        vertical-align: middle;\n",
       "    }\n",
       "\n",
       "    .dataframe tbody tr th {\n",
       "        vertical-align: top;\n",
       "    }\n",
       "\n",
       "    .dataframe thead th {\n",
       "        text-align: right;\n",
       "    }\n",
       "</style>\n",
       "<table border=\"1\" class=\"dataframe\">\n",
       "  <thead>\n",
       "    <tr style=\"text-align: right;\">\n",
       "      <th></th>\n",
       "      <th>id</th>\n",
       "      <th>date</th>\n",
       "      <th>county</th>\n",
       "      <th>state</th>\n",
       "      <th>fips</th>\n",
       "      <th>cases</th>\n",
       "      <th>deaths</th>\n",
       "    </tr>\n",
       "  </thead>\n",
       "  <tbody>\n",
       "  </tbody>\n",
       "</table>\n",
       "</div>"
      ],
      "text/plain": [
       "Empty DataFrame\n",
       "Columns: [id, date, county, state, fips, cases, deaths]\n",
       "Index: []"
      ]
     },
     "execution_count": 49,
     "metadata": {},
     "output_type": "execute_result"
    }
   ],
   "source": [
    "dataFrame[dataFrame[\"state\"]==\"Unknown\"]"
   ]
  },
  {
   "cell_type": "code",
   "execution_count": 50,
   "id": "3187e1da",
   "metadata": {},
   "outputs": [
    {
     "data": {
      "text/plain": [
       "0"
      ]
     },
     "execution_count": 50,
     "metadata": {},
     "output_type": "execute_result"
    }
   ],
   "source": [
    "len(dataFrame[dataFrame[\"state\"]==\"Unknown\"][\"state\"])"
   ]
  },
  {
   "cell_type": "markdown",
   "id": "814d2860",
   "metadata": {},
   "source": [
    "La colonne \"state\" ne contient pas de valeurs \"Unknown\". "
   ]
  },
  {
   "cell_type": "code",
   "execution_count": 51,
   "id": "89165ecd",
   "metadata": {},
   "outputs": [
    {
     "data": {
      "text/plain": [
       "12916     NaN\n",
       "15191     NaN\n",
       "19325     NaN\n",
       "22837     NaN\n",
       "40051     NaN\n",
       "         ... \n",
       "786480    NaN\n",
       "786545    NaN\n",
       "787167    NaN\n",
       "788075    NaN\n",
       "791545    NaN\n",
       "Name: state, Length: 134, dtype: object"
      ]
     },
     "execution_count": 51,
     "metadata": {},
     "output_type": "execute_result"
    }
   ],
   "source": [
    "stateIsNull = pandas.isnull(dataFrame[\"state\"])\n",
    "dataFrame[stateIsNull][\"state\"]"
   ]
  },
  {
   "cell_type": "code",
   "execution_count": 52,
   "id": "c28a071d",
   "metadata": {},
   "outputs": [
    {
     "data": {
      "text/plain": [
       "134"
      ]
     },
     "execution_count": 52,
     "metadata": {},
     "output_type": "execute_result"
    }
   ],
   "source": [
    "stateIsNull.sum()"
   ]
  },
  {
   "cell_type": "markdown",
   "id": "6eb51078",
   "metadata": {},
   "source": [
    "La colonne \"state\" contient des valeurs manquantes (134)."
   ]
  },
  {
   "cell_type": "code",
   "execution_count": 53,
   "id": "07bdcbc6",
   "metadata": {},
   "outputs": [
    {
     "data": {
      "text/plain": [
       "800303"
      ]
     },
     "execution_count": 53,
     "metadata": {},
     "output_type": "execute_result"
    }
   ],
   "source": [
    "len(dataFrame[dataFrame['state'].str.contains('^.+$', regex = True, na = False)]['state'])"
   ]
  },
  {
   "cell_type": "code",
   "execution_count": 54,
   "id": "e98d5c75",
   "metadata": {},
   "outputs": [
    {
     "data": {
      "text/plain": [
       "0"
      ]
     },
     "execution_count": 54,
     "metadata": {},
     "output_type": "execute_result"
    }
   ],
   "source": [
    "len(dataFrame[dataFrame['state'].str.contains('^.+[0-9]+.+$', regex = True, na = False)]['state'])"
   ]
  },
  {
   "cell_type": "code",
   "execution_count": 55,
   "id": "d5b419da",
   "metadata": {},
   "outputs": [
    {
     "data": {
      "text/plain": [
       "800303"
      ]
     },
     "execution_count": 55,
     "metadata": {},
     "output_type": "execute_result"
    }
   ],
   "source": [
    "len(dataFrame[dataFrame['state'].str.contains('^[a-zA-Z- ]+$', regex = True, na = False)]['state'])"
   ]
  },
  {
   "cell_type": "code",
   "execution_count": 56,
   "id": "0ae29ef0",
   "metadata": {},
   "outputs": [
    {
     "data": {
      "text/plain": [
       "800303"
      ]
     },
     "execution_count": 56,
     "metadata": {},
     "output_type": "execute_result"
    }
   ],
   "source": [
    "len(dataFrame[dataFrame['state'].str.contains('^[a-zA-Z]+[a-zA-Z- ]+$', regex = True, na = False)]['state'])"
   ]
  },
  {
   "cell_type": "code",
   "execution_count": 57,
   "id": "4f5eecb1",
   "metadata": {},
   "outputs": [
    {
     "data": {
      "text/plain": [
       "12916     NaN\n",
       "15191     NaN\n",
       "19325     NaN\n",
       "22837     NaN\n",
       "40051     NaN\n",
       "         ... \n",
       "786480    NaN\n",
       "786545    NaN\n",
       "787167    NaN\n",
       "788075    NaN\n",
       "791545    NaN\n",
       "Name: state, Length: 134, dtype: object"
      ]
     },
     "execution_count": 57,
     "metadata": {},
     "output_type": "execute_result"
    }
   ],
   "source": [
    "dataFrame[dataFrame['state'].str.contains('^[a-zA-Z- ]+$', regex = True, na = False) == False]['state']"
   ]
  },
  {
   "cell_type": "code",
   "execution_count": 58,
   "id": "5fcf6cdf",
   "metadata": {},
   "outputs": [
    {
     "data": {
      "text/plain": [
       "134"
      ]
     },
     "execution_count": 58,
     "metadata": {},
     "output_type": "execute_result"
    }
   ],
   "source": [
    "len(dataFrame[dataFrame['state'].str.contains('^[a-zA-Z- ]+$', regex = True, na = False) == False]['state'])"
   ]
  },
  {
   "cell_type": "code",
   "execution_count": 59,
   "id": "e9c03e84",
   "metadata": {},
   "outputs": [
    {
     "data": {
      "text/plain": [
       "0"
      ]
     },
     "execution_count": 59,
     "metadata": {},
     "output_type": "execute_result"
    }
   ],
   "source": [
    "(len(dataFrame)\n",
    "  - len(dataFrame[dataFrame['state'].str.contains('^[a-zA-Z- ]+$', regex = True, na = False)]['state'])\n",
    "  - len(dataFrame[dataFrame['state'].str.contains('^[a-zA-Z- ]+$', regex = True, na = False) == False]['state']))"
   ]
  },
  {
   "cell_type": "markdown",
   "id": "928afc7f",
   "metadata": {},
   "source": [
    "Hormis les valeurs manquantes, toutes les valeurs de la colonne \"state\" semblent matcher avec cette expression régulière \"^[a-zA-Z- ]+$\", cela semble cohérent pour des noms d'états."
   ]
  },
  {
   "cell_type": "markdown",
   "id": "d3163909",
   "metadata": {},
   "source": [
    "<b>Pour conclure sur la colonne \"state\" : cette dernière contient des valeurs manquantes (134), mais pas de données incohérentes.</b>"
   ]
  },
  {
   "cell_type": "markdown",
   "id": "eb2d3e68",
   "metadata": {},
   "source": [
    "#### Analyse exploratoire de la colonne \"fips\""
   ]
  },
  {
   "cell_type": "markdown",
   "id": "ba14abef",
   "metadata": {},
   "source": [
    "On effectue une analyse exploratoire de la colonne \"fips\"."
   ]
  },
  {
   "cell_type": "code",
   "execution_count": 60,
   "id": "c95eaf84",
   "metadata": {},
   "outputs": [
    {
     "data": {
      "text/html": [
       "<div>\n",
       "<style scoped>\n",
       "    .dataframe tbody tr th:only-of-type {\n",
       "        vertical-align: middle;\n",
       "    }\n",
       "\n",
       "    .dataframe tbody tr th {\n",
       "        vertical-align: top;\n",
       "    }\n",
       "\n",
       "    .dataframe thead th {\n",
       "        text-align: right;\n",
       "    }\n",
       "</style>\n",
       "<table border=\"1\" class=\"dataframe\">\n",
       "  <thead>\n",
       "    <tr style=\"text-align: right;\">\n",
       "      <th></th>\n",
       "      <th>id</th>\n",
       "      <th>date</th>\n",
       "      <th>county</th>\n",
       "      <th>state</th>\n",
       "      <th>fips</th>\n",
       "      <th>cases</th>\n",
       "      <th>deaths</th>\n",
       "    </tr>\n",
       "  </thead>\n",
       "  <tbody>\n",
       "  </tbody>\n",
       "</table>\n",
       "</div>"
      ],
      "text/plain": [
       "Empty DataFrame\n",
       "Columns: [id, date, county, state, fips, cases, deaths]\n",
       "Index: []"
      ]
     },
     "execution_count": 60,
     "metadata": {},
     "output_type": "execute_result"
    }
   ],
   "source": [
    "dataFrame[dataFrame[\"fips\"]==\"Unknown\"]"
   ]
  },
  {
   "cell_type": "code",
   "execution_count": 61,
   "id": "1c55b320",
   "metadata": {},
   "outputs": [
    {
     "data": {
      "text/plain": [
       "0"
      ]
     },
     "execution_count": 61,
     "metadata": {},
     "output_type": "execute_result"
    }
   ],
   "source": [
    "len(dataFrame[dataFrame[\"fips\"]==\"Unknown\"][\"fips\"])"
   ]
  },
  {
   "cell_type": "markdown",
   "id": "e163ebd2",
   "metadata": {},
   "source": [
    "La colonne \"fips\" ne contient pas de valeurs \"Unknown\"."
   ]
  },
  {
   "cell_type": "code",
   "execution_count": 62,
   "id": "72fc7f80",
   "metadata": {},
   "outputs": [
    {
     "data": {
      "text/plain": [
       "416      NaN\n",
       "418      NaN\n",
       "448      NaN\n",
       "450      NaN\n",
       "482      NaN\n",
       "          ..\n",
       "799803   NaN\n",
       "800090   NaN\n",
       "800107   NaN\n",
       "800281   NaN\n",
       "800330   NaN\n",
       "Name: fips, Length: 7694, dtype: float64"
      ]
     },
     "execution_count": 62,
     "metadata": {},
     "output_type": "execute_result"
    }
   ],
   "source": [
    "fipsIsNull = pandas.isnull(dataFrame[\"fips\"])\n",
    "dataFrame[fipsIsNull][\"fips\"]"
   ]
  },
  {
   "cell_type": "code",
   "execution_count": 63,
   "id": "e421425b",
   "metadata": {},
   "outputs": [
    {
     "data": {
      "text/plain": [
       "7694"
      ]
     },
     "execution_count": 63,
     "metadata": {},
     "output_type": "execute_result"
    }
   ],
   "source": [
    "fipsIsNull.sum()"
   ]
  },
  {
   "cell_type": "markdown",
   "id": "d0851f45",
   "metadata": {},
   "source": [
    "La colonne \"fips\" contient des valeurs manquantes (7694)."
   ]
  },
  {
   "cell_type": "code",
   "execution_count": 64,
   "id": "b26b0d27",
   "metadata": {},
   "outputs": [
    {
     "data": {
      "text/plain": [
       "0"
      ]
     },
     "execution_count": 64,
     "metadata": {},
     "output_type": "execute_result"
    }
   ],
   "source": [
    "len(dataFrame[dataFrame['fips'].apply(str).str.contains('^[0-9]+$', regex = True, na = False)]['fips'])"
   ]
  },
  {
   "cell_type": "code",
   "execution_count": 65,
   "id": "8687e5d7",
   "metadata": {},
   "outputs": [
    {
     "data": {
      "text/plain": [
       "0         53061.0\n",
       "1         53061.0\n",
       "2         53061.0\n",
       "3         17031.0\n",
       "4         53061.0\n",
       "           ...   \n",
       "800432    56037.0\n",
       "800433    56039.0\n",
       "800434    56041.0\n",
       "800435    56043.0\n",
       "800436    56045.0\n",
       "Name: fips, Length: 791338, dtype: float64"
      ]
     },
     "execution_count": 65,
     "metadata": {},
     "output_type": "execute_result"
    }
   ],
   "source": [
    "dataFrame[dataFrame['fips'].apply(str).str.contains('^[0-9]+.[0-9]+$', regex = True, na = False)]['fips']"
   ]
  },
  {
   "cell_type": "code",
   "execution_count": 66,
   "id": "77587c6e",
   "metadata": {},
   "outputs": [
    {
     "data": {
      "text/plain": [
       "791338"
      ]
     },
     "execution_count": 66,
     "metadata": {},
     "output_type": "execute_result"
    }
   ],
   "source": [
    "len(dataFrame[dataFrame['fips'].apply(str).str.contains('^[0-9]+.[0-9]+$', regex = True, na = False)]['fips'])"
   ]
  },
  {
   "cell_type": "code",
   "execution_count": 67,
   "id": "1a5b5269",
   "metadata": {},
   "outputs": [
    {
     "data": {
      "text/plain": [
       "416           NaN\n",
       "418           NaN\n",
       "439       -6097.0\n",
       "448           NaN\n",
       "450           NaN\n",
       "           ...   \n",
       "799862   -48101.0\n",
       "800090        NaN\n",
       "800107        NaN\n",
       "800281        NaN\n",
       "800330        NaN\n",
       "Name: fips, Length: 9099, dtype: float64"
      ]
     },
     "execution_count": 67,
     "metadata": {},
     "output_type": "execute_result"
    }
   ],
   "source": [
    "dataFrame[dataFrame['fips'].apply(str).str.contains('^[0-9]+.[0-9]+$', regex = True, na = False) == False]['fips']"
   ]
  },
  {
   "cell_type": "code",
   "execution_count": 68,
   "id": "ab1660a3",
   "metadata": {},
   "outputs": [
    {
     "data": {
      "text/plain": [
       "439       -6097.0\n",
       "1590     -51059.0\n",
       "1650      -6095.0\n",
       "2105     -26115.0\n",
       "2874     -17089.0\n",
       "           ...   \n",
       "799381   -40093.0\n",
       "799496   -42089.0\n",
       "799503   -42103.0\n",
       "799586   -72133.0\n",
       "799862   -48101.0\n",
       "Name: fips, Length: 1405, dtype: float64"
      ]
     },
     "execution_count": 68,
     "metadata": {},
     "output_type": "execute_result"
    }
   ],
   "source": [
    "dataFrame[dataFrame['fips'].apply(str).str.contains('^-[0-9]+.[0-9]+$', regex = True, na = False)]['fips']"
   ]
  },
  {
   "cell_type": "code",
   "execution_count": 69,
   "id": "f761d9e6",
   "metadata": {},
   "outputs": [
    {
     "data": {
      "text/plain": [
       "1405"
      ]
     },
     "execution_count": 69,
     "metadata": {},
     "output_type": "execute_result"
    }
   ],
   "source": [
    "len(dataFrame[dataFrame['fips'].apply(str).str.contains('^-[0-9]+.[0-9]+$', regex = True, na = False)]['fips'])"
   ]
  },
  {
   "cell_type": "code",
   "execution_count": 70,
   "id": "8028a4e4",
   "metadata": {},
   "outputs": [
    {
     "data": {
      "text/plain": [
       "416      NaN\n",
       "418      NaN\n",
       "448      NaN\n",
       "450      NaN\n",
       "482      NaN\n",
       "          ..\n",
       "799803   NaN\n",
       "800090   NaN\n",
       "800107   NaN\n",
       "800281   NaN\n",
       "800330   NaN\n",
       "Name: fips, Length: 7694, dtype: float64"
      ]
     },
     "execution_count": 70,
     "metadata": {},
     "output_type": "execute_result"
    }
   ],
   "source": [
    "dataFrame[dataFrame['fips'].apply(str).str.contains('^-?[0-9]+.[0-9]+$', regex = True, na = False) == False]['fips']"
   ]
  },
  {
   "cell_type": "code",
   "execution_count": 71,
   "id": "56c21c9e",
   "metadata": {},
   "outputs": [
    {
     "data": {
      "text/plain": [
       "7694"
      ]
     },
     "execution_count": 71,
     "metadata": {},
     "output_type": "execute_result"
    }
   ],
   "source": [
    "len(dataFrame[dataFrame['fips'].apply(str).str.contains('^-?[0-9]+.[0-9]+$', regex = True, na = False) == False]['fips'])"
   ]
  },
  {
   "cell_type": "code",
   "execution_count": 72,
   "id": "8d2a10f2",
   "metadata": {},
   "outputs": [
    {
     "data": {
      "text/plain": [
       "0"
      ]
     },
     "execution_count": 72,
     "metadata": {},
     "output_type": "execute_result"
    }
   ],
   "source": [
    "(len(dataFrame)\n",
    "  - len(dataFrame[dataFrame['fips'].apply(str).str.contains('^[0-9]+.[0-9]+$', regex = True, na = False)]['fips'])\n",
    "  - len(dataFrame[dataFrame['fips'].apply(str).str.contains('^-[0-9]+.[0-9]+$', regex = True, na = False)]['fips'])\n",
    "  - len(dataFrame[dataFrame['fips'].apply(str).str.contains('^-?[0-9]+.[0-9]+$', regex = True, na = False) == False]['fips']))"
   ]
  },
  {
   "cell_type": "markdown",
   "id": "5d96a6e4",
   "metadata": {},
   "source": [
    "La colonne \"fips\" contient des valeurs incohérentes.\n",
    "\n",
    "Déja toutes ses valeurs formies, hormis celles manquantes, sont de type décimal (791338), alors que \"fips\" devrait logiquement être un entier. \n",
    "\n",
    "Ensuite, certaines valeurs sont négatives (1405), là aussi, logiquement, ça ne devrait pas être possible pour cette colonne."
   ]
  },
  {
   "cell_type": "markdown",
   "id": "40d7f82c",
   "metadata": {},
   "source": [
    "<b>Pour conclure sur la colonne \"fips\": cette colonne contient des données manquantes (7694), et des données incohérentes (décimales : 791338, négatives : 1405).</b>"
   ]
  },
  {
   "cell_type": "markdown",
   "id": "3fcafeb4",
   "metadata": {},
   "source": [
    "#### Analyse exploratoire de la colonne \"cases\""
   ]
  },
  {
   "cell_type": "markdown",
   "id": "fc9a13d7",
   "metadata": {},
   "source": [
    "On effectue une analyse exploratoire de la colonne \"cases\"."
   ]
  },
  {
   "cell_type": "code",
   "execution_count": 73,
   "id": "054e5370",
   "metadata": {},
   "outputs": [
    {
     "data": {
      "text/html": [
       "<div>\n",
       "<style scoped>\n",
       "    .dataframe tbody tr th:only-of-type {\n",
       "        vertical-align: middle;\n",
       "    }\n",
       "\n",
       "    .dataframe tbody tr th {\n",
       "        vertical-align: top;\n",
       "    }\n",
       "\n",
       "    .dataframe thead th {\n",
       "        text-align: right;\n",
       "    }\n",
       "</style>\n",
       "<table border=\"1\" class=\"dataframe\">\n",
       "  <thead>\n",
       "    <tr style=\"text-align: right;\">\n",
       "      <th></th>\n",
       "      <th>id</th>\n",
       "      <th>date</th>\n",
       "      <th>county</th>\n",
       "      <th>state</th>\n",
       "      <th>fips</th>\n",
       "      <th>cases</th>\n",
       "      <th>deaths</th>\n",
       "    </tr>\n",
       "  </thead>\n",
       "  <tbody>\n",
       "  </tbody>\n",
       "</table>\n",
       "</div>"
      ],
      "text/plain": [
       "Empty DataFrame\n",
       "Columns: [id, date, county, state, fips, cases, deaths]\n",
       "Index: []"
      ]
     },
     "execution_count": 73,
     "metadata": {},
     "output_type": "execute_result"
    }
   ],
   "source": [
    "dataFrame[dataFrame[\"cases\"]==\"Unknown\"]"
   ]
  },
  {
   "cell_type": "code",
   "execution_count": 74,
   "id": "3e135a81",
   "metadata": {},
   "outputs": [
    {
     "data": {
      "text/plain": [
       "0"
      ]
     },
     "execution_count": 74,
     "metadata": {},
     "output_type": "execute_result"
    }
   ],
   "source": [
    "len(dataFrame[dataFrame[\"cases\"]==\"Unknown\"][\"cases\"])"
   ]
  },
  {
   "cell_type": "markdown",
   "id": "7aa51fd8",
   "metadata": {},
   "source": [
    "La colonne \"cases\" ne contient pas de valeurs \"Unknown\"."
   ]
  },
  {
   "cell_type": "code",
   "execution_count": 75,
   "id": "aed65000",
   "metadata": {},
   "outputs": [
    {
     "data": {
      "text/plain": [
       "1508     NaN\n",
       "31801    NaN\n",
       "35371    NaN\n",
       "50190    NaN\n",
       "57570    NaN\n",
       "          ..\n",
       "776690   NaN\n",
       "779435   NaN\n",
       "781265   NaN\n",
       "787807   NaN\n",
       "794483   NaN\n",
       "Name: cases, Length: 145, dtype: float64"
      ]
     },
     "execution_count": 75,
     "metadata": {},
     "output_type": "execute_result"
    }
   ],
   "source": [
    "casesIsNull = pandas.isnull(dataFrame[\"cases\"])\n",
    "dataFrame[casesIsNull][\"cases\"]"
   ]
  },
  {
   "cell_type": "code",
   "execution_count": 76,
   "id": "6b7d1cc5",
   "metadata": {},
   "outputs": [
    {
     "data": {
      "text/plain": [
       "145"
      ]
     },
     "execution_count": 76,
     "metadata": {},
     "output_type": "execute_result"
    }
   ],
   "source": [
    "casesIsNull.sum()"
   ]
  },
  {
   "cell_type": "markdown",
   "id": "772e8421",
   "metadata": {},
   "source": [
    "La colonne \"cases\" contient des valeurs manquantes (145)."
   ]
  },
  {
   "cell_type": "code",
   "execution_count": 77,
   "id": "e44ade9d",
   "metadata": {},
   "outputs": [
    {
     "data": {
      "text/plain": [
       "0"
      ]
     },
     "execution_count": 77,
     "metadata": {},
     "output_type": "execute_result"
    }
   ],
   "source": [
    "len(dataFrame[dataFrame['cases'].apply(str).str.contains('^[0-9]+$', regex = True, na = False)]['cases'])"
   ]
  },
  {
   "cell_type": "code",
   "execution_count": 78,
   "id": "a4688f8c",
   "metadata": {},
   "outputs": [
    {
     "data": {
      "text/plain": [
       "0            1.0\n",
       "1            1.0\n",
       "2            1.0\n",
       "3            1.0\n",
       "4            1.0\n",
       "           ...  \n",
       "800432    2098.0\n",
       "800433    1739.0\n",
       "800434    1187.0\n",
       "800435     519.0\n",
       "800436     419.0\n",
       "Name: cases, Length: 798997, dtype: float64"
      ]
     },
     "execution_count": 78,
     "metadata": {},
     "output_type": "execute_result"
    }
   ],
   "source": [
    "dataFrame[dataFrame['cases'].apply(str).str.contains('^[0-9]+.[0-9]+$', regex = True, na = False)]['cases']"
   ]
  },
  {
   "cell_type": "code",
   "execution_count": 79,
   "id": "f7c79174",
   "metadata": {},
   "outputs": [
    {
     "data": {
      "text/plain": [
       "798997"
      ]
     },
     "execution_count": 79,
     "metadata": {},
     "output_type": "execute_result"
    }
   ],
   "source": [
    "len(dataFrame[dataFrame['cases'].apply(str).str.contains('^[0-9]+.[0-9]+$', regex = True, na = False)]['cases'])"
   ]
  },
  {
   "cell_type": "code",
   "execution_count": 80,
   "id": "6e566168",
   "metadata": {},
   "outputs": [
    {
     "data": {
      "text/plain": [
       "1508         NaN\n",
       "2614        -1.0\n",
       "2689        -1.0\n",
       "2971        -3.0\n",
       "4454       -42.0\n",
       "           ...  \n",
       "798207   -1911.0\n",
       "798244    -690.0\n",
       "798891    -295.0\n",
       "799369    -626.0\n",
       "800170   -2622.0\n",
       "Name: cases, Length: 1440, dtype: float64"
      ]
     },
     "execution_count": 80,
     "metadata": {},
     "output_type": "execute_result"
    }
   ],
   "source": [
    "dataFrame[dataFrame['cases'].apply(str).str.contains('^[0-9]+.[0-9]+$', regex = True, na = False) == False]['cases']"
   ]
  },
  {
   "cell_type": "code",
   "execution_count": 81,
   "id": "47ebe60e",
   "metadata": {},
   "outputs": [
    {
     "data": {
      "text/plain": [
       "1440"
      ]
     },
     "execution_count": 81,
     "metadata": {},
     "output_type": "execute_result"
    }
   ],
   "source": [
    "len(dataFrame[dataFrame['cases'].apply(str).str.contains('^[0-9]+.[0-9]+$', regex = True, na = False) == False]['cases'])"
   ]
  },
  {
   "cell_type": "code",
   "execution_count": 82,
   "id": "43d226e4",
   "metadata": {},
   "outputs": [
    {
     "data": {
      "text/plain": [
       "2614        -1.0\n",
       "2689        -1.0\n",
       "2971        -3.0\n",
       "4454       -42.0\n",
       "6106        -6.0\n",
       "           ...  \n",
       "798207   -1911.0\n",
       "798244    -690.0\n",
       "798891    -295.0\n",
       "799369    -626.0\n",
       "800170   -2622.0\n",
       "Name: cases, Length: 1295, dtype: float64"
      ]
     },
     "execution_count": 82,
     "metadata": {},
     "output_type": "execute_result"
    }
   ],
   "source": [
    "dataFrame[dataFrame['cases'].apply(str).str.contains('^-[0-9]+.[0-9]+$', regex = True, na = False)]['cases']"
   ]
  },
  {
   "cell_type": "code",
   "execution_count": 83,
   "id": "a6c6c49e",
   "metadata": {},
   "outputs": [
    {
     "data": {
      "text/plain": [
       "1295"
      ]
     },
     "execution_count": 83,
     "metadata": {},
     "output_type": "execute_result"
    }
   ],
   "source": [
    "len(dataFrame[dataFrame['cases'].apply(str).str.contains('^-[0-9]+.[0-9]+$', regex = True, na = False)]['cases'])"
   ]
  },
  {
   "cell_type": "code",
   "execution_count": 84,
   "id": "8b4e5490",
   "metadata": {},
   "outputs": [
    {
     "data": {
      "text/plain": [
       "1508     NaN\n",
       "31801    NaN\n",
       "35371    NaN\n",
       "50190    NaN\n",
       "57570    NaN\n",
       "          ..\n",
       "776690   NaN\n",
       "779435   NaN\n",
       "781265   NaN\n",
       "787807   NaN\n",
       "794483   NaN\n",
       "Name: cases, Length: 145, dtype: float64"
      ]
     },
     "execution_count": 84,
     "metadata": {},
     "output_type": "execute_result"
    }
   ],
   "source": [
    "dataFrame[dataFrame['cases'].apply(str).str.contains('^-?[0-9]+.[0-9]+$', regex = True, na = False) == False]['cases']"
   ]
  },
  {
   "cell_type": "code",
   "execution_count": 85,
   "id": "5fe7ab63",
   "metadata": {},
   "outputs": [
    {
     "data": {
      "text/plain": [
       "145"
      ]
     },
     "execution_count": 85,
     "metadata": {},
     "output_type": "execute_result"
    }
   ],
   "source": [
    "len(dataFrame[dataFrame['cases'].apply(str).str.contains('^-?[0-9]+.[0-9]+$', regex = True, na = False) == False]['cases'])"
   ]
  },
  {
   "cell_type": "code",
   "execution_count": 86,
   "id": "d8fe7e23",
   "metadata": {},
   "outputs": [
    {
     "data": {
      "text/plain": [
       "0"
      ]
     },
     "execution_count": 86,
     "metadata": {},
     "output_type": "execute_result"
    }
   ],
   "source": [
    "(len(dataFrame)\n",
    "  - len(dataFrame[dataFrame['cases'].apply(str).str.contains('^[0-9]+.[0-9]+$', regex = True, na = False)]['cases'])\n",
    "  - len(dataFrame[dataFrame['cases'].apply(str).str.contains('^-[0-9]+.[0-9]+$', regex = True, na = False)]['cases'])\n",
    "  - len(dataFrame[dataFrame['cases'].apply(str).str.contains('^-?[0-9]+.[0-9]+$', regex = True, na = False) == False]['cases']))"
   ]
  },
  {
   "cell_type": "markdown",
   "id": "b8906059",
   "metadata": {},
   "source": [
    "La colonne \"cases\" contient des valeurs incohérentes, ce sont les mêmes problèmes que pour la colonne \"fips\".\n",
    "\n",
    "Toutes ses valeurs formies, hormis celles manquantes, sont également de type décimal (798997), alors que \"cases\" devrait également logiquement être un entier. \n",
    "\n",
    "Ensuite, certaines valeurs sont également négatives (1245), là aussi, logiquement, ça ne devrait pas être possible pour cette colonne."
   ]
  },
  {
   "cell_type": "markdown",
   "id": "d793f8bd",
   "metadata": {},
   "source": [
    "<b>Pour conclure sur la colonne \"deaths\": cette colonne contient des données manquantes (145), et des données incohérentes (décimales : 798997, négatives : 1245).</b>"
   ]
  },
  {
   "cell_type": "markdown",
   "id": "1a8c85d6",
   "metadata": {},
   "source": [
    "#### Analyse exploratoire de la colonne \"deaths\""
   ]
  },
  {
   "cell_type": "markdown",
   "id": "65d83938",
   "metadata": {},
   "source": [
    "On effectue une analyse exploratoire de la colonne \"deaths\"."
   ]
  },
  {
   "cell_type": "code",
   "execution_count": 87,
   "id": "43c53cb1",
   "metadata": {},
   "outputs": [
    {
     "data": {
      "text/html": [
       "<div>\n",
       "<style scoped>\n",
       "    .dataframe tbody tr th:only-of-type {\n",
       "        vertical-align: middle;\n",
       "    }\n",
       "\n",
       "    .dataframe tbody tr th {\n",
       "        vertical-align: top;\n",
       "    }\n",
       "\n",
       "    .dataframe thead th {\n",
       "        text-align: right;\n",
       "    }\n",
       "</style>\n",
       "<table border=\"1\" class=\"dataframe\">\n",
       "  <thead>\n",
       "    <tr style=\"text-align: right;\">\n",
       "      <th></th>\n",
       "      <th>id</th>\n",
       "      <th>date</th>\n",
       "      <th>county</th>\n",
       "      <th>state</th>\n",
       "      <th>fips</th>\n",
       "      <th>cases</th>\n",
       "      <th>deaths</th>\n",
       "    </tr>\n",
       "  </thead>\n",
       "  <tbody>\n",
       "  </tbody>\n",
       "</table>\n",
       "</div>"
      ],
      "text/plain": [
       "Empty DataFrame\n",
       "Columns: [id, date, county, state, fips, cases, deaths]\n",
       "Index: []"
      ]
     },
     "execution_count": 87,
     "metadata": {},
     "output_type": "execute_result"
    }
   ],
   "source": [
    "dataFrame[dataFrame[\"deaths\"]==\"Unknown\"]"
   ]
  },
  {
   "cell_type": "code",
   "execution_count": 88,
   "id": "6ddc1131",
   "metadata": {},
   "outputs": [
    {
     "data": {
      "text/plain": [
       "0"
      ]
     },
     "execution_count": 88,
     "metadata": {},
     "output_type": "execute_result"
    }
   ],
   "source": [
    "len(dataFrame[dataFrame[\"deaths\"]==\"Unknown\"][\"deaths\"])"
   ]
  },
  {
   "cell_type": "markdown",
   "id": "528dcbaf",
   "metadata": {},
   "source": [
    "La colonne \"deaths\" ne contient pas de valeurs \"Unknown\"."
   ]
  },
  {
   "cell_type": "code",
   "execution_count": 89,
   "id": "0f23aabf",
   "metadata": {},
   "outputs": [
    {
     "data": {
      "text/plain": [
       "17526    NaN\n",
       "26569    NaN\n",
       "37444    NaN\n",
       "37919    NaN\n",
       "48098    NaN\n",
       "          ..\n",
       "799593   NaN\n",
       "799594   NaN\n",
       "799595   NaN\n",
       "799596   NaN\n",
       "799597   NaN\n",
       "Name: deaths, Length: 16876, dtype: float64"
      ]
     },
     "execution_count": 89,
     "metadata": {},
     "output_type": "execute_result"
    }
   ],
   "source": [
    "deathsIsNull = pandas.isnull(dataFrame[\"deaths\"])\n",
    "dataFrame[deathsIsNull][\"deaths\"]"
   ]
  },
  {
   "cell_type": "code",
   "execution_count": 90,
   "id": "6bc76d3a",
   "metadata": {},
   "outputs": [
    {
     "data": {
      "text/plain": [
       "16876"
      ]
     },
     "execution_count": 90,
     "metadata": {},
     "output_type": "execute_result"
    }
   ],
   "source": [
    "deathsIsNull.sum()"
   ]
  },
  {
   "cell_type": "markdown",
   "id": "e5e7642a",
   "metadata": {},
   "source": [
    "La colonne \"deaths\" contient des valeurs manquantes (16876)."
   ]
  },
  {
   "cell_type": "code",
   "execution_count": 91,
   "id": "c5b37149",
   "metadata": {},
   "outputs": [
    {
     "data": {
      "text/plain": [
       "0"
      ]
     },
     "execution_count": 91,
     "metadata": {},
     "output_type": "execute_result"
    }
   ],
   "source": [
    "len(dataFrame[dataFrame['deaths'].apply(str).str.contains('^[0-9]+$', regex = True, na = False)]['deaths'])"
   ]
  },
  {
   "cell_type": "code",
   "execution_count": 92,
   "id": "b86cbe90",
   "metadata": {},
   "outputs": [
    {
     "data": {
      "text/plain": [
       "0          0.0\n",
       "1          0.0\n",
       "2          0.0\n",
       "3          0.0\n",
       "4          0.0\n",
       "          ... \n",
       "800432    10.0\n",
       "800433     2.0\n",
       "800434     5.0\n",
       "800435     8.0\n",
       "800436     2.0\n",
       "Name: deaths, Length: 782245, dtype: float64"
      ]
     },
     "execution_count": 92,
     "metadata": {},
     "output_type": "execute_result"
    }
   ],
   "source": [
    "dataFrame[dataFrame['deaths'].apply(str).str.contains('^[0-9]+.[0-9]+$', regex = True, na = False)]['deaths']"
   ]
  },
  {
   "cell_type": "code",
   "execution_count": 93,
   "id": "31ceaa25",
   "metadata": {},
   "outputs": [
    {
     "data": {
      "text/plain": [
       "782245"
      ]
     },
     "execution_count": 93,
     "metadata": {},
     "output_type": "execute_result"
    }
   ],
   "source": [
    "len(dataFrame[dataFrame['deaths'].apply(str).str.contains('^[0-9]+.[0-9]+$', regex = True, na = False)]['deaths'])"
   ]
  },
  {
   "cell_type": "code",
   "execution_count": 94,
   "id": "db05b9c2",
   "metadata": {},
   "outputs": [
    {
     "data": {
      "text/plain": [
       "153      -0.0\n",
       "1222     -0.0\n",
       "1979     -0.0\n",
       "2344     -1.0\n",
       "3587     -0.0\n",
       "         ... \n",
       "799594    NaN\n",
       "799595    NaN\n",
       "799596    NaN\n",
       "799597    NaN\n",
       "800112   -1.0\n",
       "Name: deaths, Length: 18192, dtype: float64"
      ]
     },
     "execution_count": 94,
     "metadata": {},
     "output_type": "execute_result"
    }
   ],
   "source": [
    "dataFrame[dataFrame['deaths'].apply(str).str.contains('^[0-9]+.[0-9]+$', regex = True, na = False) == False]['deaths']"
   ]
  },
  {
   "cell_type": "code",
   "execution_count": 95,
   "id": "8c30d200",
   "metadata": {},
   "outputs": [
    {
     "data": {
      "text/plain": [
       "18192"
      ]
     },
     "execution_count": 95,
     "metadata": {},
     "output_type": "execute_result"
    }
   ],
   "source": [
    "len(dataFrame[dataFrame['deaths'].apply(str).str.contains('^[0-9]+.[0-9]+$', regex = True, na = False) == False]['deaths'])"
   ]
  },
  {
   "cell_type": "code",
   "execution_count": 96,
   "id": "220ac078",
   "metadata": {},
   "outputs": [
    {
     "data": {
      "text/plain": [
       "153       -0.0\n",
       "1222      -0.0\n",
       "1979      -0.0\n",
       "2344      -1.0\n",
       "3587      -0.0\n",
       "          ... \n",
       "796486   -29.0\n",
       "797892   -26.0\n",
       "798687   -11.0\n",
       "799194    -0.0\n",
       "800112    -1.0\n",
       "Name: deaths, Length: 1316, dtype: float64"
      ]
     },
     "execution_count": 96,
     "metadata": {},
     "output_type": "execute_result"
    }
   ],
   "source": [
    "dataFrame[dataFrame['deaths'].apply(str).str.contains('^-[0-9]+.[0-9]+$', regex = True, na = False)]['deaths']"
   ]
  },
  {
   "cell_type": "code",
   "execution_count": 97,
   "id": "dbff2d7f",
   "metadata": {},
   "outputs": [
    {
     "data": {
      "text/plain": [
       "1316"
      ]
     },
     "execution_count": 97,
     "metadata": {},
     "output_type": "execute_result"
    }
   ],
   "source": [
    "len(dataFrame[dataFrame['deaths'].apply(str).str.contains('^-[0-9]+.[0-9]+$', regex = True, na = False)]['deaths'])"
   ]
  },
  {
   "cell_type": "code",
   "execution_count": 98,
   "id": "47fd4b3b",
   "metadata": {},
   "outputs": [
    {
     "data": {
      "text/plain": [
       "17526    NaN\n",
       "26569    NaN\n",
       "37444    NaN\n",
       "37919    NaN\n",
       "48098    NaN\n",
       "          ..\n",
       "799593   NaN\n",
       "799594   NaN\n",
       "799595   NaN\n",
       "799596   NaN\n",
       "799597   NaN\n",
       "Name: deaths, Length: 16876, dtype: float64"
      ]
     },
     "execution_count": 98,
     "metadata": {},
     "output_type": "execute_result"
    }
   ],
   "source": [
    "dataFrame[dataFrame['deaths'].apply(str).str.contains('^-?[0-9]+.[0-9]+$', regex = True, na = False) == False]['deaths']"
   ]
  },
  {
   "cell_type": "code",
   "execution_count": 99,
   "id": "acb01263",
   "metadata": {},
   "outputs": [
    {
     "data": {
      "text/plain": [
       "16876"
      ]
     },
     "execution_count": 99,
     "metadata": {},
     "output_type": "execute_result"
    }
   ],
   "source": [
    "len(dataFrame[dataFrame['deaths'].apply(str).str.contains('^-?[0-9]+.[0-9]+$', regex = True, na = False) == False]['deaths'])"
   ]
  },
  {
   "cell_type": "code",
   "execution_count": 100,
   "id": "44381f87",
   "metadata": {},
   "outputs": [
    {
     "data": {
      "text/plain": [
       "0"
      ]
     },
     "execution_count": 100,
     "metadata": {},
     "output_type": "execute_result"
    }
   ],
   "source": [
    "(len(dataFrame)\n",
    "  - len(dataFrame[dataFrame['deaths'].apply(str).str.contains('^[0-9]+.[0-9]+$', regex = True, na = False)]['deaths'])\n",
    "  - len(dataFrame[dataFrame['deaths'].apply(str).str.contains('^-[0-9]+.[0-9]+$', regex = True, na = False)]['deaths'])\n",
    "  - len(dataFrame[dataFrame['deaths'].apply(str).str.contains('^-?[0-9]+.[0-9]+$', regex = True, na = False) == False]['deaths']))"
   ]
  },
  {
   "cell_type": "markdown",
   "id": "76b1ce07",
   "metadata": {},
   "source": [
    "La colonne \"deaths\" contient des valeurs incohérentes, ce sont toujours les mêmes problèmes que pour la colonne \"fips\".\n",
    "\n",
    "Toutes ses valeurs formies, hormis celles manquantes, sont également de type décimal (782245), alors que \"deaths\" devrait également logiquement être un entier.\n",
    "\n",
    "Certaines valeurs sont également négatives (1316), et logiquement, ça ne devrait pas être possible."
   ]
  },
  {
   "cell_type": "markdown",
   "id": "2fcd4189",
   "metadata": {},
   "source": [
    "<b> Pour conclure sur la colonne \"deaths\": cette colonne contient des données manquantes (16876), et des données incohérentes (décimales : 782245, négatives : 1316).</b>"
   ]
  },
  {
   "cell_type": "markdown",
   "id": "a7811b3b",
   "metadata": {},
   "source": [
    "#### Verification de  l'unicité du couple (date, comté)"
   ]
  },
  {
   "cell_type": "markdown",
   "id": "e7268a96",
   "metadata": {},
   "source": [
    "On vérifie que le couple (date, comté) est unique à chaque ligne."
   ]
  },
  {
   "cell_type": "markdown",
   "id": "0e4b97c9",
   "metadata": {},
   "source": [
    "Etant donné qu'un comté peut avoir le même nom qu'un aute comté d'un autre état, nous étudions l'unicité du couple (date, comté) avec le couple (date, fips), et l'ensemble (date, state, county), et cela pour éviter les problèmes de doublons de comté entre état."
   ]
  },
  {
   "cell_type": "markdown",
   "id": "7219ec60",
   "metadata": {},
   "source": [
    "On supprime les données manquantes, pour éviter des problèmes avec la vérification."
   ]
  },
  {
   "cell_type": "markdown",
   "id": "8e638ac8",
   "metadata": {},
   "source": [
    "On passe également toutes les dates au format \"YYYT-MM-DD\", toujours pour éviter des problèmes avec la vérification."
   ]
  },
  {
   "cell_type": "code",
   "execution_count": 101,
   "id": "f67bacae",
   "metadata": {},
   "outputs": [],
   "source": [
    "cleanedDataFrame = dataFrame.dropna()"
   ]
  },
  {
   "cell_type": "code",
   "execution_count": 102,
   "id": "9721f9a8",
   "metadata": {},
   "outputs": [],
   "source": [
    "cleanedDataFrame = cleanedDataFrame.drop(cleanedDataFrame[cleanedDataFrame[\"county\"]==\"Unknown\"].index)"
   ]
  },
  {
   "cell_type": "code",
   "execution_count": 103,
   "id": "c1ddc886",
   "metadata": {},
   "outputs": [],
   "source": [
    " cleanedDataFrame['date'] = cleanedDataFrame['date'].replace(to_replace = \"^([0-9]{4})\\.([0-9]{2})\\.([0-9]{2}){1}$\", value = \"\\\\1-\\\\2-\\\\3\", regex=True)"
   ]
  },
  {
   "cell_type": "code",
   "execution_count": 104,
   "id": "26837065",
   "metadata": {},
   "outputs": [
    {
     "data": {
      "text/html": [
       "<div>\n",
       "<style scoped>\n",
       "    .dataframe tbody tr th:only-of-type {\n",
       "        vertical-align: middle;\n",
       "    }\n",
       "\n",
       "    .dataframe tbody tr th {\n",
       "        vertical-align: top;\n",
       "    }\n",
       "\n",
       "    .dataframe thead th {\n",
       "        text-align: right;\n",
       "    }\n",
       "</style>\n",
       "<table border=\"1\" class=\"dataframe\">\n",
       "  <thead>\n",
       "    <tr style=\"text-align: right;\">\n",
       "      <th></th>\n",
       "      <th>id</th>\n",
       "      <th>date</th>\n",
       "      <th>county</th>\n",
       "      <th>state</th>\n",
       "      <th>fips</th>\n",
       "      <th>cases</th>\n",
       "      <th>deaths</th>\n",
       "    </tr>\n",
       "  </thead>\n",
       "  <tbody>\n",
       "    <tr>\n",
       "      <th>0</th>\n",
       "      <td>0</td>\n",
       "      <td>2020-01-21</td>\n",
       "      <td>Snohomish</td>\n",
       "      <td>Washington</td>\n",
       "      <td>53061.0</td>\n",
       "      <td>1.0</td>\n",
       "      <td>0.0</td>\n",
       "    </tr>\n",
       "    <tr>\n",
       "      <th>1</th>\n",
       "      <td>1</td>\n",
       "      <td>2020-01-22</td>\n",
       "      <td>Snohomish</td>\n",
       "      <td>Washington</td>\n",
       "      <td>53061.0</td>\n",
       "      <td>1.0</td>\n",
       "      <td>0.0</td>\n",
       "    </tr>\n",
       "    <tr>\n",
       "      <th>2</th>\n",
       "      <td>2</td>\n",
       "      <td>2020-01-23</td>\n",
       "      <td>Snohomish</td>\n",
       "      <td>Washington</td>\n",
       "      <td>53061.0</td>\n",
       "      <td>1.0</td>\n",
       "      <td>0.0</td>\n",
       "    </tr>\n",
       "    <tr>\n",
       "      <th>3</th>\n",
       "      <td>3</td>\n",
       "      <td>2020-01-24</td>\n",
       "      <td>Cook</td>\n",
       "      <td>Illinois</td>\n",
       "      <td>17031.0</td>\n",
       "      <td>1.0</td>\n",
       "      <td>0.0</td>\n",
       "    </tr>\n",
       "    <tr>\n",
       "      <th>4</th>\n",
       "      <td>4</td>\n",
       "      <td>2020-01-24</td>\n",
       "      <td>Snohomish</td>\n",
       "      <td>Washington</td>\n",
       "      <td>53061.0</td>\n",
       "      <td>1.0</td>\n",
       "      <td>0.0</td>\n",
       "    </tr>\n",
       "    <tr>\n",
       "      <th>...</th>\n",
       "      <td>...</td>\n",
       "      <td>...</td>\n",
       "      <td>...</td>\n",
       "      <td>...</td>\n",
       "      <td>...</td>\n",
       "      <td>...</td>\n",
       "      <td>...</td>\n",
       "    </tr>\n",
       "    <tr>\n",
       "      <th>800432</th>\n",
       "      <td>800432</td>\n",
       "      <td>2020-12-05</td>\n",
       "      <td>Sweetwater</td>\n",
       "      <td>Wyoming</td>\n",
       "      <td>56037.0</td>\n",
       "      <td>2098.0</td>\n",
       "      <td>10.0</td>\n",
       "    </tr>\n",
       "    <tr>\n",
       "      <th>800433</th>\n",
       "      <td>800433</td>\n",
       "      <td>2020-12-05</td>\n",
       "      <td>Teton</td>\n",
       "      <td>Wyoming</td>\n",
       "      <td>56039.0</td>\n",
       "      <td>1739.0</td>\n",
       "      <td>2.0</td>\n",
       "    </tr>\n",
       "    <tr>\n",
       "      <th>800434</th>\n",
       "      <td>800434</td>\n",
       "      <td>2020-12-05</td>\n",
       "      <td>Uinta</td>\n",
       "      <td>Wyoming</td>\n",
       "      <td>56041.0</td>\n",
       "      <td>1187.0</td>\n",
       "      <td>5.0</td>\n",
       "    </tr>\n",
       "    <tr>\n",
       "      <th>800435</th>\n",
       "      <td>800435</td>\n",
       "      <td>2020-12-05</td>\n",
       "      <td>Washakie</td>\n",
       "      <td>Wyoming</td>\n",
       "      <td>56043.0</td>\n",
       "      <td>519.0</td>\n",
       "      <td>8.0</td>\n",
       "    </tr>\n",
       "    <tr>\n",
       "      <th>800436</th>\n",
       "      <td>800436</td>\n",
       "      <td>2020-12-05</td>\n",
       "      <td>Weston</td>\n",
       "      <td>Wyoming</td>\n",
       "      <td>56045.0</td>\n",
       "      <td>419.0</td>\n",
       "      <td>2.0</td>\n",
       "    </tr>\n",
       "  </tbody>\n",
       "</table>\n",
       "<p>775346 rows × 7 columns</p>\n",
       "</div>"
      ],
      "text/plain": [
       "            id        date      county       state     fips   cases  deaths\n",
       "0            0  2020-01-21   Snohomish  Washington  53061.0     1.0     0.0\n",
       "1            1  2020-01-22   Snohomish  Washington  53061.0     1.0     0.0\n",
       "2            2  2020-01-23   Snohomish  Washington  53061.0     1.0     0.0\n",
       "3            3  2020-01-24        Cook    Illinois  17031.0     1.0     0.0\n",
       "4            4  2020-01-24   Snohomish  Washington  53061.0     1.0     0.0\n",
       "...        ...         ...         ...         ...      ...     ...     ...\n",
       "800432  800432  2020-12-05  Sweetwater     Wyoming  56037.0  2098.0    10.0\n",
       "800433  800433  2020-12-05       Teton     Wyoming  56039.0  1739.0     2.0\n",
       "800434  800434  2020-12-05       Uinta     Wyoming  56041.0  1187.0     5.0\n",
       "800435  800435  2020-12-05    Washakie     Wyoming  56043.0   519.0     8.0\n",
       "800436  800436  2020-12-05      Weston     Wyoming  56045.0   419.0     2.0\n",
       "\n",
       "[775346 rows x 7 columns]"
      ]
     },
     "execution_count": 104,
     "metadata": {},
     "output_type": "execute_result"
    }
   ],
   "source": [
    "cleanedDataFrame "
   ]
  },
  {
   "cell_type": "code",
   "execution_count": 105,
   "id": "266322d1",
   "metadata": {},
   "outputs": [
    {
     "data": {
      "text/plain": [
       "775346"
      ]
     },
     "execution_count": 105,
     "metadata": {},
     "output_type": "execute_result"
    }
   ],
   "source": [
    "len(cleanedDataFrame)"
   ]
  },
  {
   "cell_type": "code",
   "execution_count": 106,
   "id": "500a6f1b",
   "metadata": {},
   "outputs": [],
   "source": [
    "cleanedDataFrame['date-fips'] = cleanedDataFrame['date'].str.cat(\"---\" + cleanedDataFrame['fips'].apply(str))"
   ]
  },
  {
   "cell_type": "code",
   "execution_count": 107,
   "id": "f92234ad",
   "metadata": {},
   "outputs": [
    {
     "data": {
      "text/plain": [
       "0         2020-01-21---53061.0\n",
       "1         2020-01-22---53061.0\n",
       "2         2020-01-23---53061.0\n",
       "3         2020-01-24---17031.0\n",
       "4         2020-01-24---53061.0\n",
       "                  ...         \n",
       "800432    2020-12-05---56037.0\n",
       "800433    2020-12-05---56039.0\n",
       "800434    2020-12-05---56041.0\n",
       "800435    2020-12-05---56043.0\n",
       "800436    2020-12-05---56045.0\n",
       "Name: date-fips, Length: 775346, dtype: object"
      ]
     },
     "execution_count": 107,
     "metadata": {},
     "output_type": "execute_result"
    }
   ],
   "source": [
    "cleanedDataFrame['date-fips']"
   ]
  },
  {
   "cell_type": "code",
   "execution_count": 108,
   "id": "79ad190b",
   "metadata": {},
   "outputs": [
    {
     "data": {
      "text/plain": [
       "775346"
      ]
     },
     "execution_count": 108,
     "metadata": {},
     "output_type": "execute_result"
    }
   ],
   "source": [
    "len(cleanedDataFrame['date-fips'].unique())"
   ]
  },
  {
   "cell_type": "code",
   "execution_count": 109,
   "id": "d7729161",
   "metadata": {},
   "outputs": [
    {
     "data": {
      "text/plain": [
       "0"
      ]
     },
     "execution_count": 109,
     "metadata": {},
     "output_type": "execute_result"
    }
   ],
   "source": [
    "(len(cleanedDataFrame)\n",
    " - len(cleanedDataFrame['date-fips'].unique()))"
   ]
  },
  {
   "cell_type": "code",
   "execution_count": 110,
   "id": "ba2d589b",
   "metadata": {},
   "outputs": [
    {
     "data": {
      "text/html": [
       "<div>\n",
       "<style scoped>\n",
       "    .dataframe tbody tr th:only-of-type {\n",
       "        vertical-align: middle;\n",
       "    }\n",
       "\n",
       "    .dataframe tbody tr th {\n",
       "        vertical-align: top;\n",
       "    }\n",
       "\n",
       "    .dataframe thead th {\n",
       "        text-align: right;\n",
       "    }\n",
       "</style>\n",
       "<table border=\"1\" class=\"dataframe\">\n",
       "  <thead>\n",
       "    <tr style=\"text-align: right;\">\n",
       "      <th></th>\n",
       "      <th>id</th>\n",
       "      <th>date</th>\n",
       "      <th>county</th>\n",
       "      <th>state</th>\n",
       "      <th>fips</th>\n",
       "      <th>cases</th>\n",
       "      <th>deaths</th>\n",
       "      <th>date-fips</th>\n",
       "    </tr>\n",
       "  </thead>\n",
       "  <tbody>\n",
       "    <tr>\n",
       "      <th>0</th>\n",
       "      <td>0</td>\n",
       "      <td>2020-01-21</td>\n",
       "      <td>Snohomish</td>\n",
       "      <td>Washington</td>\n",
       "      <td>53061.0</td>\n",
       "      <td>1.0</td>\n",
       "      <td>0.0</td>\n",
       "      <td>2020-01-21---53061.0</td>\n",
       "    </tr>\n",
       "    <tr>\n",
       "      <th>1</th>\n",
       "      <td>1</td>\n",
       "      <td>2020-01-22</td>\n",
       "      <td>Snohomish</td>\n",
       "      <td>Washington</td>\n",
       "      <td>53061.0</td>\n",
       "      <td>1.0</td>\n",
       "      <td>0.0</td>\n",
       "      <td>2020-01-22---53061.0</td>\n",
       "    </tr>\n",
       "    <tr>\n",
       "      <th>2</th>\n",
       "      <td>2</td>\n",
       "      <td>2020-01-23</td>\n",
       "      <td>Snohomish</td>\n",
       "      <td>Washington</td>\n",
       "      <td>53061.0</td>\n",
       "      <td>1.0</td>\n",
       "      <td>0.0</td>\n",
       "      <td>2020-01-23---53061.0</td>\n",
       "    </tr>\n",
       "    <tr>\n",
       "      <th>3</th>\n",
       "      <td>3</td>\n",
       "      <td>2020-01-24</td>\n",
       "      <td>Cook</td>\n",
       "      <td>Illinois</td>\n",
       "      <td>17031.0</td>\n",
       "      <td>1.0</td>\n",
       "      <td>0.0</td>\n",
       "      <td>2020-01-24---17031.0</td>\n",
       "    </tr>\n",
       "    <tr>\n",
       "      <th>4</th>\n",
       "      <td>4</td>\n",
       "      <td>2020-01-24</td>\n",
       "      <td>Snohomish</td>\n",
       "      <td>Washington</td>\n",
       "      <td>53061.0</td>\n",
       "      <td>1.0</td>\n",
       "      <td>0.0</td>\n",
       "      <td>2020-01-24---53061.0</td>\n",
       "    </tr>\n",
       "    <tr>\n",
       "      <th>...</th>\n",
       "      <td>...</td>\n",
       "      <td>...</td>\n",
       "      <td>...</td>\n",
       "      <td>...</td>\n",
       "      <td>...</td>\n",
       "      <td>...</td>\n",
       "      <td>...</td>\n",
       "      <td>...</td>\n",
       "    </tr>\n",
       "    <tr>\n",
       "      <th>800432</th>\n",
       "      <td>800432</td>\n",
       "      <td>2020-12-05</td>\n",
       "      <td>Sweetwater</td>\n",
       "      <td>Wyoming</td>\n",
       "      <td>56037.0</td>\n",
       "      <td>2098.0</td>\n",
       "      <td>10.0</td>\n",
       "      <td>2020-12-05---56037.0</td>\n",
       "    </tr>\n",
       "    <tr>\n",
       "      <th>800433</th>\n",
       "      <td>800433</td>\n",
       "      <td>2020-12-05</td>\n",
       "      <td>Teton</td>\n",
       "      <td>Wyoming</td>\n",
       "      <td>56039.0</td>\n",
       "      <td>1739.0</td>\n",
       "      <td>2.0</td>\n",
       "      <td>2020-12-05---56039.0</td>\n",
       "    </tr>\n",
       "    <tr>\n",
       "      <th>800434</th>\n",
       "      <td>800434</td>\n",
       "      <td>2020-12-05</td>\n",
       "      <td>Uinta</td>\n",
       "      <td>Wyoming</td>\n",
       "      <td>56041.0</td>\n",
       "      <td>1187.0</td>\n",
       "      <td>5.0</td>\n",
       "      <td>2020-12-05---56041.0</td>\n",
       "    </tr>\n",
       "    <tr>\n",
       "      <th>800435</th>\n",
       "      <td>800435</td>\n",
       "      <td>2020-12-05</td>\n",
       "      <td>Washakie</td>\n",
       "      <td>Wyoming</td>\n",
       "      <td>56043.0</td>\n",
       "      <td>519.0</td>\n",
       "      <td>8.0</td>\n",
       "      <td>2020-12-05---56043.0</td>\n",
       "    </tr>\n",
       "    <tr>\n",
       "      <th>800436</th>\n",
       "      <td>800436</td>\n",
       "      <td>2020-12-05</td>\n",
       "      <td>Weston</td>\n",
       "      <td>Wyoming</td>\n",
       "      <td>56045.0</td>\n",
       "      <td>419.0</td>\n",
       "      <td>2.0</td>\n",
       "      <td>2020-12-05---56045.0</td>\n",
       "    </tr>\n",
       "  </tbody>\n",
       "</table>\n",
       "<p>775346 rows × 8 columns</p>\n",
       "</div>"
      ],
      "text/plain": [
       "            id        date      county       state     fips   cases  deaths  \\\n",
       "0            0  2020-01-21   Snohomish  Washington  53061.0     1.0     0.0   \n",
       "1            1  2020-01-22   Snohomish  Washington  53061.0     1.0     0.0   \n",
       "2            2  2020-01-23   Snohomish  Washington  53061.0     1.0     0.0   \n",
       "3            3  2020-01-24        Cook    Illinois  17031.0     1.0     0.0   \n",
       "4            4  2020-01-24   Snohomish  Washington  53061.0     1.0     0.0   \n",
       "...        ...         ...         ...         ...      ...     ...     ...   \n",
       "800432  800432  2020-12-05  Sweetwater     Wyoming  56037.0  2098.0    10.0   \n",
       "800433  800433  2020-12-05       Teton     Wyoming  56039.0  1739.0     2.0   \n",
       "800434  800434  2020-12-05       Uinta     Wyoming  56041.0  1187.0     5.0   \n",
       "800435  800435  2020-12-05    Washakie     Wyoming  56043.0   519.0     8.0   \n",
       "800436  800436  2020-12-05      Weston     Wyoming  56045.0   419.0     2.0   \n",
       "\n",
       "                   date-fips  \n",
       "0       2020-01-21---53061.0  \n",
       "1       2020-01-22---53061.0  \n",
       "2       2020-01-23---53061.0  \n",
       "3       2020-01-24---17031.0  \n",
       "4       2020-01-24---53061.0  \n",
       "...                      ...  \n",
       "800432  2020-12-05---56037.0  \n",
       "800433  2020-12-05---56039.0  \n",
       "800434  2020-12-05---56041.0  \n",
       "800435  2020-12-05---56043.0  \n",
       "800436  2020-12-05---56045.0  \n",
       "\n",
       "[775346 rows x 8 columns]"
      ]
     },
     "execution_count": 110,
     "metadata": {},
     "output_type": "execute_result"
    }
   ],
   "source": [
    "cleanedDataFrame"
   ]
  },
  {
   "cell_type": "code",
   "execution_count": 111,
   "id": "c2b16b80",
   "metadata": {},
   "outputs": [],
   "source": [
    "cleanedDataFrame['date-state-county'] = cleanedDataFrame['date'].str.cat(\"---\" + cleanedDataFrame['state'].str.cat(\"---\" + cleanedDataFrame['county'].apply(str)))"
   ]
  },
  {
   "cell_type": "code",
   "execution_count": 112,
   "id": "e09a6de5",
   "metadata": {},
   "outputs": [
    {
     "data": {
      "text/plain": [
       "0         2020-01-21---Washington---Snohomish\n",
       "1         2020-01-22---Washington---Snohomish\n",
       "2         2020-01-23---Washington---Snohomish\n",
       "3                2020-01-24---Illinois---Cook\n",
       "4         2020-01-24---Washington---Snohomish\n",
       "                         ...                 \n",
       "800432      2020-12-05---Wyoming---Sweetwater\n",
       "800433           2020-12-05---Wyoming---Teton\n",
       "800434           2020-12-05---Wyoming---Uinta\n",
       "800435        2020-12-05---Wyoming---Washakie\n",
       "800436          2020-12-05---Wyoming---Weston\n",
       "Name: date-state-county, Length: 775346, dtype: object"
      ]
     },
     "execution_count": 112,
     "metadata": {},
     "output_type": "execute_result"
    }
   ],
   "source": [
    "cleanedDataFrame['date-state-county']"
   ]
  },
  {
   "cell_type": "code",
   "execution_count": 113,
   "id": "3ef4cb3e",
   "metadata": {},
   "outputs": [
    {
     "data": {
      "text/plain": [
       "775346"
      ]
     },
     "execution_count": 113,
     "metadata": {},
     "output_type": "execute_result"
    }
   ],
   "source": [
    "len(cleanedDataFrame['date-state-county'].unique())"
   ]
  },
  {
   "cell_type": "code",
   "execution_count": 114,
   "id": "7025fcd0",
   "metadata": {},
   "outputs": [
    {
     "data": {
      "text/plain": [
       "0"
      ]
     },
     "execution_count": 114,
     "metadata": {},
     "output_type": "execute_result"
    }
   ],
   "source": [
    "(len(cleanedDataFrame['date-fips'].unique())\n",
    " - len(cleanedDataFrame['date-state-county'].unique()))"
   ]
  },
  {
   "cell_type": "markdown",
   "id": "2f5d40f0",
   "metadata": {},
   "source": [
    "<b>Pour conclure sur le couple (date, comté): le couple (date, fips) est bien unique à chaque ligne, et de même pour l'ensemble (date, state, county), le couple (date, comté) est donc bien unique pour chaque ligne.</b>"
   ]
  }
 ],
 "metadata": {
  "kernelspec": {
   "display_name": "Python 3 (ipykernel)",
   "language": "python",
   "name": "python3"
  },
  "language_info": {
   "codemirror_mode": {
    "name": "ipython",
    "version": 3
   },
   "file_extension": ".py",
   "mimetype": "text/x-python",
   "name": "python",
   "nbconvert_exporter": "python",
   "pygments_lexer": "ipython3",
   "version": "3.10.2"
  }
 },
 "nbformat": 4,
 "nbformat_minor": 5
}
