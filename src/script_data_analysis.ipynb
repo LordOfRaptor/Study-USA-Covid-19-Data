{
 "cells": [
  {
   "cell_type": "markdown",
   "id": "586ebd78",
   "metadata": {},
   "source": [
    "# Projet de Fouille de données"
   ]
  },
  {
   "cell_type": "markdown",
   "id": "f2d54eb4",
   "metadata": {},
   "source": [
    "## Etape I : Analyse exploratoire des données"
   ]
  },
  {
   "cell_type": "markdown",
   "id": "af1a1f5a",
   "metadata": {},
   "source": [
    "### Import des librairies"
   ]
  },
  {
   "cell_type": "code",
   "execution_count": 20,
   "id": "33c7ffab",
   "metadata": {},
   "outputs": [],
   "source": [
    "import pandas\n",
    "import numpy\n",
    "import re\n",
    "from collections import Counter\n",
    "import functools"
   ]
  },
  {
   "cell_type": "markdown",
   "id": "469794bc",
   "metadata": {},
   "source": [
    "### Import des données"
   ]
  },
  {
   "cell_type": "code",
   "execution_count": 60,
   "id": "9d203faa-f185-40dd-ae7b-3ed483b9e827",
   "metadata": {},
   "outputs": [],
   "source": [
    "data = pandas.read_csv(\"../data/corrupted_data.csv\")\n",
    "dataFrame = pandas.DataFrame(data)"
   ]
  },
  {
   "cell_type": "markdown",
   "id": "dda2852e",
   "metadata": {},
   "source": [
    "### Visualisation des données"
   ]
  },
  {
   "cell_type": "code",
   "execution_count": 65,
   "id": "7f744e55",
   "metadata": {},
   "outputs": [
    {
     "data": {
      "text/html": [
       "<div>\n",
       "<style scoped>\n",
       "    .dataframe tbody tr th:only-of-type {\n",
       "        vertical-align: middle;\n",
       "    }\n",
       "\n",
       "    .dataframe tbody tr th {\n",
       "        vertical-align: top;\n",
       "    }\n",
       "\n",
       "    .dataframe thead th {\n",
       "        text-align: right;\n",
       "    }\n",
       "</style>\n",
       "<table border=\"1\" class=\"dataframe\">\n",
       "  <thead>\n",
       "    <tr style=\"text-align: right;\">\n",
       "      <th></th>\n",
       "      <th>Unnamed: 0</th>\n",
       "      <th>date</th>\n",
       "      <th>county</th>\n",
       "      <th>state</th>\n",
       "      <th>fips</th>\n",
       "      <th>cases</th>\n",
       "      <th>deaths</th>\n",
       "    </tr>\n",
       "  </thead>\n",
       "  <tbody>\n",
       "    <tr>\n",
       "      <th>0</th>\n",
       "      <td>0</td>\n",
       "      <td>2020-01-21</td>\n",
       "      <td>Snohomish</td>\n",
       "      <td>Washington</td>\n",
       "      <td>53061.0</td>\n",
       "      <td>1.0</td>\n",
       "      <td>0.0</td>\n",
       "    </tr>\n",
       "    <tr>\n",
       "      <th>1</th>\n",
       "      <td>1</td>\n",
       "      <td>2020-01-22</td>\n",
       "      <td>Snohomish</td>\n",
       "      <td>Washington</td>\n",
       "      <td>53061.0</td>\n",
       "      <td>1.0</td>\n",
       "      <td>0.0</td>\n",
       "    </tr>\n",
       "    <tr>\n",
       "      <th>2</th>\n",
       "      <td>2</td>\n",
       "      <td>2020-01-23</td>\n",
       "      <td>Snohomish</td>\n",
       "      <td>Washington</td>\n",
       "      <td>53061.0</td>\n",
       "      <td>1.0</td>\n",
       "      <td>0.0</td>\n",
       "    </tr>\n",
       "    <tr>\n",
       "      <th>3</th>\n",
       "      <td>3</td>\n",
       "      <td>2020-01-24</td>\n",
       "      <td>Cook</td>\n",
       "      <td>Illinois</td>\n",
       "      <td>17031.0</td>\n",
       "      <td>1.0</td>\n",
       "      <td>0.0</td>\n",
       "    </tr>\n",
       "    <tr>\n",
       "      <th>4</th>\n",
       "      <td>4</td>\n",
       "      <td>2020-01-24</td>\n",
       "      <td>Snohomish</td>\n",
       "      <td>Washington</td>\n",
       "      <td>53061.0</td>\n",
       "      <td>1.0</td>\n",
       "      <td>0.0</td>\n",
       "    </tr>\n",
       "    <tr>\n",
       "      <th>...</th>\n",
       "      <td>...</td>\n",
       "      <td>...</td>\n",
       "      <td>...</td>\n",
       "      <td>...</td>\n",
       "      <td>...</td>\n",
       "      <td>...</td>\n",
       "      <td>...</td>\n",
       "    </tr>\n",
       "    <tr>\n",
       "      <th>800432</th>\n",
       "      <td>800432</td>\n",
       "      <td>2020-12-05</td>\n",
       "      <td>Sweetwater</td>\n",
       "      <td>Wyoming</td>\n",
       "      <td>56037.0</td>\n",
       "      <td>2098.0</td>\n",
       "      <td>10.0</td>\n",
       "    </tr>\n",
       "    <tr>\n",
       "      <th>800433</th>\n",
       "      <td>800433</td>\n",
       "      <td>2020-12-05</td>\n",
       "      <td>Teton</td>\n",
       "      <td>Wyoming</td>\n",
       "      <td>56039.0</td>\n",
       "      <td>1739.0</td>\n",
       "      <td>2.0</td>\n",
       "    </tr>\n",
       "    <tr>\n",
       "      <th>800434</th>\n",
       "      <td>800434</td>\n",
       "      <td>2020-12-05</td>\n",
       "      <td>Uinta</td>\n",
       "      <td>Wyoming</td>\n",
       "      <td>56041.0</td>\n",
       "      <td>1187.0</td>\n",
       "      <td>5.0</td>\n",
       "    </tr>\n",
       "    <tr>\n",
       "      <th>800435</th>\n",
       "      <td>800435</td>\n",
       "      <td>2020-12-05</td>\n",
       "      <td>Washakie</td>\n",
       "      <td>Wyoming</td>\n",
       "      <td>56043.0</td>\n",
       "      <td>519.0</td>\n",
       "      <td>8.0</td>\n",
       "    </tr>\n",
       "    <tr>\n",
       "      <th>800436</th>\n",
       "      <td>800436</td>\n",
       "      <td>2020-12-05</td>\n",
       "      <td>Weston</td>\n",
       "      <td>Wyoming</td>\n",
       "      <td>56045.0</td>\n",
       "      <td>419.0</td>\n",
       "      <td>2.0</td>\n",
       "    </tr>\n",
       "  </tbody>\n",
       "</table>\n",
       "<p>800437 rows × 7 columns</p>\n",
       "</div>"
      ],
      "text/plain": [
       "        Unnamed: 0        date      county       state     fips   cases  \\\n",
       "0                0  2020-01-21   Snohomish  Washington  53061.0     1.0   \n",
       "1                1  2020-01-22   Snohomish  Washington  53061.0     1.0   \n",
       "2                2  2020-01-23   Snohomish  Washington  53061.0     1.0   \n",
       "3                3  2020-01-24        Cook    Illinois  17031.0     1.0   \n",
       "4                4  2020-01-24   Snohomish  Washington  53061.0     1.0   \n",
       "...            ...         ...         ...         ...      ...     ...   \n",
       "800432      800432  2020-12-05  Sweetwater     Wyoming  56037.0  2098.0   \n",
       "800433      800433  2020-12-05       Teton     Wyoming  56039.0  1739.0   \n",
       "800434      800434  2020-12-05       Uinta     Wyoming  56041.0  1187.0   \n",
       "800435      800435  2020-12-05    Washakie     Wyoming  56043.0   519.0   \n",
       "800436      800436  2020-12-05      Weston     Wyoming  56045.0   419.0   \n",
       "\n",
       "        deaths  \n",
       "0          0.0  \n",
       "1          0.0  \n",
       "2          0.0  \n",
       "3          0.0  \n",
       "4          0.0  \n",
       "...        ...  \n",
       "800432    10.0  \n",
       "800433     2.0  \n",
       "800434     5.0  \n",
       "800435     8.0  \n",
       "800436     2.0  \n",
       "\n",
       "[800437 rows x 7 columns]"
      ]
     },
     "execution_count": 65,
     "metadata": {},
     "output_type": "execute_result"
    }
   ],
   "source": [
    "dataFrame"
   ]
  },
  {
   "cell_type": "code",
   "execution_count": 24,
   "id": "4072ccef-818c-4cef-89b2-f5b36cadbf49",
   "metadata": {},
   "outputs": [
    {
     "name": "stdout",
     "output_type": "stream",
     "text": [
      "   Unnamed: 0        date     county       state     fips  cases  deaths\n",
      "0           0  2020-01-21  Snohomish  Washington  53061.0    1.0     0.0\n",
      "1           1  2020-01-22  Snohomish  Washington  53061.0    1.0     0.0\n",
      "2           2  2020-01-23  Snohomish  Washington  53061.0    1.0     0.0\n",
      "3           3  2020-01-24       Cook    Illinois  17031.0    1.0     0.0\n",
      "4           4  2020-01-24  Snohomish  Washington  53061.0    1.0     0.0\n"
     ]
    }
   ],
   "source": [
    "print(dataFrame.head())"
   ]
  },
  {
   "cell_type": "code",
   "execution_count": 25,
   "id": "4dd9afc8-3997-40c3-b328-3f8f0ee8cb09",
   "metadata": {},
   "outputs": [
    {
     "name": "stdout",
     "output_type": "stream",
     "text": [
      "['Unnamed: 0', 'date', 'county', 'state', 'fips', 'cases', 'deaths']\n"
     ]
    }
   ],
   "source": [
    "print(list(dataFrame.columns))"
   ]
  },
  {
   "cell_type": "markdown",
   "id": "ff37aebe",
   "metadata": {},
   "source": [
    "### Analayse exploratoire"
   ]
  },
  {
   "cell_type": "markdown",
   "id": "e26e5eb2",
   "metadata": {},
   "source": [
    "#### Analyse exploratoire de la colonne d'identification sans nom"
   ]
  },
  {
   "cell_type": "code",
   "execution_count": 64,
   "id": "a7b70a36",
   "metadata": {},
   "outputs": [
    {
     "ename": "KeyError",
     "evalue": "0",
     "output_type": "error",
     "traceback": [
      "\u001b[1;31m---------------------------------------------------------------------------\u001b[0m",
      "\u001b[1;31mKeyError\u001b[0m                                  Traceback (most recent call last)",
      "File \u001b[1;32m~\\AppData\\Local\\Programs\\Python\\Python310\\lib\\site-packages\\pandas\\core\\indexes\\base.py:3621\u001b[0m, in \u001b[0;36mIndex.get_loc\u001b[1;34m(self, key, method, tolerance)\u001b[0m\n\u001b[0;32m   3620\u001b[0m \u001b[38;5;28;01mtry\u001b[39;00m:\n\u001b[1;32m-> 3621\u001b[0m     \u001b[38;5;28;01mreturn\u001b[39;00m \u001b[38;5;28;43mself\u001b[39;49m\u001b[38;5;241;43m.\u001b[39;49m\u001b[43m_engine\u001b[49m\u001b[38;5;241;43m.\u001b[39;49m\u001b[43mget_loc\u001b[49m\u001b[43m(\u001b[49m\u001b[43mcasted_key\u001b[49m\u001b[43m)\u001b[49m\n\u001b[0;32m   3622\u001b[0m \u001b[38;5;28;01mexcept\u001b[39;00m \u001b[38;5;167;01mKeyError\u001b[39;00m \u001b[38;5;28;01mas\u001b[39;00m err:\n",
      "File \u001b[1;32m~\\AppData\\Local\\Programs\\Python\\Python310\\lib\\site-packages\\pandas\\_libs\\index.pyx:136\u001b[0m, in \u001b[0;36mpandas._libs.index.IndexEngine.get_loc\u001b[1;34m()\u001b[0m\n",
      "File \u001b[1;32m~\\AppData\\Local\\Programs\\Python\\Python310\\lib\\site-packages\\pandas\\_libs\\index.pyx:163\u001b[0m, in \u001b[0;36mpandas._libs.index.IndexEngine.get_loc\u001b[1;34m()\u001b[0m\n",
      "File \u001b[1;32mpandas\\_libs\\hashtable_class_helper.pxi:5198\u001b[0m, in \u001b[0;36mpandas._libs.hashtable.PyObjectHashTable.get_item\u001b[1;34m()\u001b[0m\n",
      "File \u001b[1;32mpandas\\_libs\\hashtable_class_helper.pxi:5206\u001b[0m, in \u001b[0;36mpandas._libs.hashtable.PyObjectHashTable.get_item\u001b[1;34m()\u001b[0m\n",
      "\u001b[1;31mKeyError\u001b[0m: 0",
      "\nThe above exception was the direct cause of the following exception:\n",
      "\u001b[1;31mKeyError\u001b[0m                                  Traceback (most recent call last)",
      "Input \u001b[1;32mIn [64]\u001b[0m, in \u001b[0;36m<cell line: 1>\u001b[1;34m()\u001b[0m\n\u001b[1;32m----> 1\u001b[0m dataFrame[\u001b[43mdataFrame\u001b[49m\u001b[43m[\u001b[49m\u001b[38;5;241;43m0\u001b[39;49m\u001b[43m]\u001b[49m\u001b[38;5;241m==\u001b[39m\u001b[38;5;124m\"\u001b[39m\u001b[38;5;124mUnknown\u001b[39m\u001b[38;5;124m\"\u001b[39m][\u001b[38;5;241m0\u001b[39m]\u001b[38;5;241m.\u001b[39mcount()\n",
      "File \u001b[1;32m~\\AppData\\Local\\Programs\\Python\\Python310\\lib\\site-packages\\pandas\\core\\frame.py:3505\u001b[0m, in \u001b[0;36mDataFrame.__getitem__\u001b[1;34m(self, key)\u001b[0m\n\u001b[0;32m   3503\u001b[0m \u001b[38;5;28;01mif\u001b[39;00m \u001b[38;5;28mself\u001b[39m\u001b[38;5;241m.\u001b[39mcolumns\u001b[38;5;241m.\u001b[39mnlevels \u001b[38;5;241m>\u001b[39m \u001b[38;5;241m1\u001b[39m:\n\u001b[0;32m   3504\u001b[0m     \u001b[38;5;28;01mreturn\u001b[39;00m \u001b[38;5;28mself\u001b[39m\u001b[38;5;241m.\u001b[39m_getitem_multilevel(key)\n\u001b[1;32m-> 3505\u001b[0m indexer \u001b[38;5;241m=\u001b[39m \u001b[38;5;28;43mself\u001b[39;49m\u001b[38;5;241;43m.\u001b[39;49m\u001b[43mcolumns\u001b[49m\u001b[38;5;241;43m.\u001b[39;49m\u001b[43mget_loc\u001b[49m\u001b[43m(\u001b[49m\u001b[43mkey\u001b[49m\u001b[43m)\u001b[49m\n\u001b[0;32m   3506\u001b[0m \u001b[38;5;28;01mif\u001b[39;00m is_integer(indexer):\n\u001b[0;32m   3507\u001b[0m     indexer \u001b[38;5;241m=\u001b[39m [indexer]\n",
      "File \u001b[1;32m~\\AppData\\Local\\Programs\\Python\\Python310\\lib\\site-packages\\pandas\\core\\indexes\\base.py:3623\u001b[0m, in \u001b[0;36mIndex.get_loc\u001b[1;34m(self, key, method, tolerance)\u001b[0m\n\u001b[0;32m   3621\u001b[0m     \u001b[38;5;28;01mreturn\u001b[39;00m \u001b[38;5;28mself\u001b[39m\u001b[38;5;241m.\u001b[39m_engine\u001b[38;5;241m.\u001b[39mget_loc(casted_key)\n\u001b[0;32m   3622\u001b[0m \u001b[38;5;28;01mexcept\u001b[39;00m \u001b[38;5;167;01mKeyError\u001b[39;00m \u001b[38;5;28;01mas\u001b[39;00m err:\n\u001b[1;32m-> 3623\u001b[0m     \u001b[38;5;28;01mraise\u001b[39;00m \u001b[38;5;167;01mKeyError\u001b[39;00m(key) \u001b[38;5;28;01mfrom\u001b[39;00m \u001b[38;5;21;01merr\u001b[39;00m\n\u001b[0;32m   3624\u001b[0m \u001b[38;5;28;01mexcept\u001b[39;00m \u001b[38;5;167;01mTypeError\u001b[39;00m:\n\u001b[0;32m   3625\u001b[0m     \u001b[38;5;66;03m# If we have a listlike key, _check_indexing_error will raise\u001b[39;00m\n\u001b[0;32m   3626\u001b[0m     \u001b[38;5;66;03m#  InvalidIndexError. Otherwise we fall through and re-raise\u001b[39;00m\n\u001b[0;32m   3627\u001b[0m     \u001b[38;5;66;03m#  the TypeError.\u001b[39;00m\n\u001b[0;32m   3628\u001b[0m     \u001b[38;5;28mself\u001b[39m\u001b[38;5;241m.\u001b[39m_check_indexing_error(key)\n",
      "\u001b[1;31mKeyError\u001b[0m: 0"
     ]
    }
   ],
   "source": [
    "dataFrame[dataFrame[0]==\"Unknown\"][0].count()"
   ]
  },
  {
   "cell_type": "code",
   "execution_count": 62,
   "id": "60b612d6",
   "metadata": {},
   "outputs": [
    {
     "ename": "SyntaxError",
     "evalue": "invalid syntax. Perhaps you forgot a comma? (4059538863.py, line 1)",
     "output_type": "error",
     "traceback": [
      "\u001b[1;36m  Input \u001b[1;32mIn [62]\u001b[1;36m\u001b[0m\n\u001b[1;33m    dataFrame.count() - dataFrame[dataFrame.0.str.contains('\\d+', regex = True, na = False)].count()\u001b[0m\n\u001b[1;37m                                  ^\u001b[0m\n\u001b[1;31mSyntaxError\u001b[0m\u001b[1;31m:\u001b[0m invalid syntax. Perhaps you forgot a comma?\n"
     ]
    }
   ],
   "source": [
    "dataFrame.count() - dataFrame[dataFrame.0.str.contains('\\d+', regex = True, na = False)].count()"
   ]
  },
  {
   "cell_type": "code",
   "execution_count": null,
   "id": "0b4a6ee3",
   "metadata": {},
   "outputs": [],
   "source": []
  },
  {
   "cell_type": "code",
   "execution_count": null,
   "id": "927dc420",
   "metadata": {},
   "outputs": [],
   "source": []
  },
  {
   "cell_type": "code",
   "execution_count": null,
   "id": "265cebe5",
   "metadata": {},
   "outputs": [],
   "source": []
  },
  {
   "cell_type": "markdown",
   "id": "3d102128",
   "metadata": {},
   "source": [
    "#### Analyse  exploratoire de la colonne date"
   ]
  },
  {
   "cell_type": "code",
   "execution_count": 40,
   "id": "56cc2042",
   "metadata": {},
   "outputs": [
    {
     "data": {
      "text/plain": [
       "0"
      ]
     },
     "execution_count": 40,
     "metadata": {},
     "output_type": "execute_result"
    }
   ],
   "source": [
    "dataFrame[dataFrame[\"date\"]==\"Unknown\"][\"date\"].count()"
   ]
  },
  {
   "cell_type": "code",
   "execution_count": 27,
   "id": "2526fe54",
   "metadata": {},
   "outputs": [
    {
     "data": {
      "text/plain": [
       "0"
      ]
     },
     "execution_count": 27,
     "metadata": {},
     "output_type": "execute_result"
    }
   ],
   "source": [
    "dataFrame[dataFrame[\"date\"]==\"\"][\"date\"].count()"
   ]
  },
  {
   "cell_type": "code",
   "execution_count": 36,
   "id": "a19fcef0",
   "metadata": {},
   "outputs": [
    {
     "data": {
      "text/plain": [
       "0"
      ]
     },
     "execution_count": 36,
     "metadata": {},
     "output_type": "execute_result"
    }
   ],
   "source": [
    "dateIsNull = pandas.isnull(dataFrame[\"date\"])\n",
    "dataFrame[dateIsNull == True][\"date\"].count() "
   ]
  },
  {
   "cell_type": "code",
   "execution_count": 51,
   "id": "5aeebda7",
   "metadata": {},
   "outputs": [
    {
     "data": {
      "text/plain": [
       "Unnamed: 0    799042\n",
       "date          799042\n",
       "county        798912\n",
       "state         798908\n",
       "fips          791362\n",
       "cases         798897\n",
       "deaths        782190\n",
       "dtype: int64"
      ]
     },
     "execution_count": 51,
     "metadata": {},
     "output_type": "execute_result"
    }
   ],
   "source": [
    "df.count() - df[df.date.str.contains('\\d{4}-\\d{2}-\\d{2}', regex = True, na = False)].count()"
   ]
  },
  {
   "cell_type": "code",
   "execution_count": 52,
   "id": "cb71789c",
   "metadata": {},
   "outputs": [
    {
     "data": {
      "text/html": [
       "<div>\n",
       "<style scoped>\n",
       "    .dataframe tbody tr th:only-of-type {\n",
       "        vertical-align: middle;\n",
       "    }\n",
       "\n",
       "    .dataframe tbody tr th {\n",
       "        vertical-align: top;\n",
       "    }\n",
       "\n",
       "    .dataframe thead th {\n",
       "        text-align: right;\n",
       "    }\n",
       "</style>\n",
       "<table border=\"1\" class=\"dataframe\">\n",
       "  <thead>\n",
       "    <tr style=\"text-align: right;\">\n",
       "      <th></th>\n",
       "      <th>Unnamed: 0</th>\n",
       "      <th>date</th>\n",
       "      <th>county</th>\n",
       "      <th>state</th>\n",
       "      <th>fips</th>\n",
       "      <th>cases</th>\n",
       "      <th>deaths</th>\n",
       "    </tr>\n",
       "  </thead>\n",
       "  <tbody>\n",
       "    <tr>\n",
       "      <th>1008</th>\n",
       "      <td>1008</td>\n",
       "      <td>2020.03.10</td>\n",
       "      <td>Riverside</td>\n",
       "      <td>California</td>\n",
       "      <td>6065.0</td>\n",
       "      <td>4.0</td>\n",
       "      <td>0.0</td>\n",
       "    </tr>\n",
       "    <tr>\n",
       "      <th>2242</th>\n",
       "      <td>2242</td>\n",
       "      <td>2020.03.14</td>\n",
       "      <td>Williamson</td>\n",
       "      <td>Tennessee</td>\n",
       "      <td>47187.0</td>\n",
       "      <td>10.0</td>\n",
       "      <td>0.0</td>\n",
       "    </tr>\n",
       "    <tr>\n",
       "      <th>2836</th>\n",
       "      <td>2836</td>\n",
       "      <td>2020.03.16</td>\n",
       "      <td>Sarasota</td>\n",
       "      <td>Florida</td>\n",
       "      <td>12115.0</td>\n",
       "      <td>3.0</td>\n",
       "      <td>0.0</td>\n",
       "    </tr>\n",
       "    <tr>\n",
       "      <th>3774</th>\n",
       "      <td>3774</td>\n",
       "      <td>2020.03.18</td>\n",
       "      <td>Kenai Peninsula Borough</td>\n",
       "      <td>Alaska</td>\n",
       "      <td>2122.0</td>\n",
       "      <td>1.0</td>\n",
       "      <td>0.0</td>\n",
       "    </tr>\n",
       "    <tr>\n",
       "      <th>4514</th>\n",
       "      <td>4514</td>\n",
       "      <td>2020.03.19</td>\n",
       "      <td>Windham</td>\n",
       "      <td>Connecticut</td>\n",
       "      <td>9015.0</td>\n",
       "      <td>1.0</td>\n",
       "      <td>0.0</td>\n",
       "    </tr>\n",
       "    <tr>\n",
       "      <th>...</th>\n",
       "      <td>...</td>\n",
       "      <td>...</td>\n",
       "      <td>...</td>\n",
       "      <td>...</td>\n",
       "      <td>...</td>\n",
       "      <td>...</td>\n",
       "      <td>...</td>\n",
       "    </tr>\n",
       "    <tr>\n",
       "      <th>795819</th>\n",
       "      <td>795819</td>\n",
       "      <td>2020.12.04</td>\n",
       "      <td>Niagara</td>\n",
       "      <td>New York</td>\n",
       "      <td>36063.0</td>\n",
       "      <td>4479.0</td>\n",
       "      <td>115.0</td>\n",
       "    </tr>\n",
       "    <tr>\n",
       "      <th>796123</th>\n",
       "      <td>796123</td>\n",
       "      <td>2020.12.04</td>\n",
       "      <td>Hughes</td>\n",
       "      <td>Oklahoma</td>\n",
       "      <td>40063.0</td>\n",
       "      <td>623.0</td>\n",
       "      <td>8.0</td>\n",
       "    </tr>\n",
       "    <tr>\n",
       "      <th>796776</th>\n",
       "      <td>796776</td>\n",
       "      <td>2020.12.04</td>\n",
       "      <td>Sherman</td>\n",
       "      <td>Texas</td>\n",
       "      <td>48421.0</td>\n",
       "      <td>91.0</td>\n",
       "      <td>2.0</td>\n",
       "    </tr>\n",
       "    <tr>\n",
       "      <th>796794</th>\n",
       "      <td>796794</td>\n",
       "      <td>2020.12.04</td>\n",
       "      <td>Tyler</td>\n",
       "      <td>Texas</td>\n",
       "      <td>48457.0</td>\n",
       "      <td>325.0</td>\n",
       "      <td>5.0</td>\n",
       "    </tr>\n",
       "    <tr>\n",
       "      <th>799827</th>\n",
       "      <td>799827</td>\n",
       "      <td>2020.12.05</td>\n",
       "      <td>Blanco</td>\n",
       "      <td>Texas</td>\n",
       "      <td>48031.0</td>\n",
       "      <td>191.0</td>\n",
       "      <td>6.0</td>\n",
       "    </tr>\n",
       "  </tbody>\n",
       "</table>\n",
       "<p>1395 rows × 7 columns</p>\n",
       "</div>"
      ],
      "text/plain": [
       "        Unnamed: 0        date                   county        state     fips  \\\n",
       "1008          1008  2020.03.10                Riverside   California   6065.0   \n",
       "2242          2242  2020.03.14               Williamson    Tennessee  47187.0   \n",
       "2836          2836  2020.03.16                 Sarasota      Florida  12115.0   \n",
       "3774          3774  2020.03.18  Kenai Peninsula Borough       Alaska   2122.0   \n",
       "4514          4514  2020.03.19                  Windham  Connecticut   9015.0   \n",
       "...            ...         ...                      ...          ...      ...   \n",
       "795819      795819  2020.12.04                  Niagara     New York  36063.0   \n",
       "796123      796123  2020.12.04                   Hughes     Oklahoma  40063.0   \n",
       "796776      796776  2020.12.04                  Sherman        Texas  48421.0   \n",
       "796794      796794  2020.12.04                    Tyler        Texas  48457.0   \n",
       "799827      799827  2020.12.05                   Blanco        Texas  48031.0   \n",
       "\n",
       "         cases  deaths  \n",
       "1008       4.0     0.0  \n",
       "2242      10.0     0.0  \n",
       "2836       3.0     0.0  \n",
       "3774       1.0     0.0  \n",
       "4514       1.0     0.0  \n",
       "...        ...     ...  \n",
       "795819  4479.0   115.0  \n",
       "796123   623.0     8.0  \n",
       "796776    91.0     2.0  \n",
       "796794   325.0     5.0  \n",
       "799827   191.0     6.0  \n",
       "\n",
       "[1395 rows x 7 columns]"
      ]
     },
     "execution_count": 52,
     "metadata": {},
     "output_type": "execute_result"
    }
   ],
   "source": [
    "df[df.date.str.contains('\\d{4}-\\d{2}-\\d{2}', regex = True, na = False) == False]"
   ]
  },
  {
   "cell_type": "code",
   "execution_count": 55,
   "id": "6caf9b8d",
   "metadata": {},
   "outputs": [
    {
     "data": {
      "text/plain": [
       "Unnamed: 0   -798904\n",
       "date         -799042\n",
       "county       -798774\n",
       "state        -798770\n",
       "fips         -791226\n",
       "cases        -798759\n",
       "deaths       -782057\n",
       "dtype: int64"
      ]
     },
     "execution_count": 55,
     "metadata": {},
     "output_type": "execute_result"
    }
   ],
   "source": [
    "df.count() - df[df.date.str.contains('\\d{4}-\\d{2}-\\d{2}', regex = True, na = False)].count() - df[df.date.str.contains('\\d{4}.\\d{2}.\\d{2}', regex = True, na = False)].count()"
   ]
  },
  {
   "cell_type": "code",
   "execution_count": 53,
   "id": "f4163ea6",
   "metadata": {},
   "outputs": [
    {
     "data": {
      "text/html": [
       "<div>\n",
       "<style scoped>\n",
       "    .dataframe tbody tr th:only-of-type {\n",
       "        vertical-align: middle;\n",
       "    }\n",
       "\n",
       "    .dataframe tbody tr th {\n",
       "        vertical-align: top;\n",
       "    }\n",
       "\n",
       "    .dataframe thead th {\n",
       "        text-align: right;\n",
       "    }\n",
       "</style>\n",
       "<table border=\"1\" class=\"dataframe\">\n",
       "  <thead>\n",
       "    <tr style=\"text-align: right;\">\n",
       "      <th></th>\n",
       "      <th>Unnamed: 0</th>\n",
       "      <th>date</th>\n",
       "      <th>county</th>\n",
       "      <th>state</th>\n",
       "      <th>fips</th>\n",
       "      <th>cases</th>\n",
       "      <th>deaths</th>\n",
       "    </tr>\n",
       "  </thead>\n",
       "  <tbody>\n",
       "    <tr>\n",
       "      <th>18243</th>\n",
       "      <td>18243</td>\n",
       "      <td>NaN</td>\n",
       "      <td>Black Hawk</td>\n",
       "      <td>Iowa</td>\n",
       "      <td>19013.0</td>\n",
       "      <td>6.0</td>\n",
       "      <td>0.0</td>\n",
       "    </tr>\n",
       "    <tr>\n",
       "      <th>25438</th>\n",
       "      <td>25438</td>\n",
       "      <td>NaN</td>\n",
       "      <td>Muskogee</td>\n",
       "      <td>Oklahoma</td>\n",
       "      <td>40101.0</td>\n",
       "      <td>13.0</td>\n",
       "      <td>1.0</td>\n",
       "    </tr>\n",
       "    <tr>\n",
       "      <th>26345</th>\n",
       "      <td>26345</td>\n",
       "      <td>NaN</td>\n",
       "      <td>San Miguel</td>\n",
       "      <td>Colorado</td>\n",
       "      <td>8113.0</td>\n",
       "      <td>7.0</td>\n",
       "      <td>0.0</td>\n",
       "    </tr>\n",
       "    <tr>\n",
       "      <th>28217</th>\n",
       "      <td>28217</td>\n",
       "      <td>NaN</td>\n",
       "      <td>Mathews</td>\n",
       "      <td>Virginia</td>\n",
       "      <td>51115.0</td>\n",
       "      <td>2.0</td>\n",
       "      <td>0.0</td>\n",
       "    </tr>\n",
       "    <tr>\n",
       "      <th>29487</th>\n",
       "      <td>29487</td>\n",
       "      <td>NaN</td>\n",
       "      <td>Wabasha</td>\n",
       "      <td>Minnesota</td>\n",
       "      <td>27157.0</td>\n",
       "      <td>6.0</td>\n",
       "      <td>0.0</td>\n",
       "    </tr>\n",
       "    <tr>\n",
       "      <th>...</th>\n",
       "      <td>...</td>\n",
       "      <td>...</td>\n",
       "      <td>...</td>\n",
       "      <td>...</td>\n",
       "      <td>...</td>\n",
       "      <td>...</td>\n",
       "      <td>...</td>\n",
       "    </tr>\n",
       "    <tr>\n",
       "      <th>757800</th>\n",
       "      <td>757800</td>\n",
       "      <td>NaN</td>\n",
       "      <td>Panola</td>\n",
       "      <td>Texas</td>\n",
       "      <td>48365.0</td>\n",
       "      <td>523.0</td>\n",
       "      <td>34.0</td>\n",
       "    </tr>\n",
       "    <tr>\n",
       "      <th>768876</th>\n",
       "      <td>768876</td>\n",
       "      <td>NaN</td>\n",
       "      <td>Anderson</td>\n",
       "      <td>Kansas</td>\n",
       "      <td>20003.0</td>\n",
       "      <td>370.0</td>\n",
       "      <td>0.0</td>\n",
       "    </tr>\n",
       "    <tr>\n",
       "      <th>775081</th>\n",
       "      <td>775081</td>\n",
       "      <td>NaN</td>\n",
       "      <td>Champaign</td>\n",
       "      <td>Illinois</td>\n",
       "      <td>17019.0</td>\n",
       "      <td>10686.0</td>\n",
       "      <td>57.0</td>\n",
       "    </tr>\n",
       "    <tr>\n",
       "      <th>785062</th>\n",
       "      <td>785062</td>\n",
       "      <td>NaN</td>\n",
       "      <td>Lyon</td>\n",
       "      <td>Iowa</td>\n",
       "      <td>19119.0</td>\n",
       "      <td>1057.0</td>\n",
       "      <td>8.0</td>\n",
       "    </tr>\n",
       "    <tr>\n",
       "      <th>786772</th>\n",
       "      <td>786772</td>\n",
       "      <td>NaN</td>\n",
       "      <td>Henry</td>\n",
       "      <td>Tennessee</td>\n",
       "      <td>47079.0</td>\n",
       "      <td>1608.0</td>\n",
       "      <td>18.0</td>\n",
       "    </tr>\n",
       "  </tbody>\n",
       "</table>\n",
       "<p>138 rows × 7 columns</p>\n",
       "</div>"
      ],
      "text/plain": [
       "        Unnamed: 0 date      county      state     fips    cases  deaths\n",
       "18243        18243  NaN  Black Hawk       Iowa  19013.0      6.0     0.0\n",
       "25438        25438  NaN    Muskogee   Oklahoma  40101.0     13.0     1.0\n",
       "26345        26345  NaN  San Miguel   Colorado   8113.0      7.0     0.0\n",
       "28217        28217  NaN     Mathews   Virginia  51115.0      2.0     0.0\n",
       "29487        29487  NaN     Wabasha  Minnesota  27157.0      6.0     0.0\n",
       "...            ...  ...         ...        ...      ...      ...     ...\n",
       "757800      757800  NaN      Panola      Texas  48365.0    523.0    34.0\n",
       "768876      768876  NaN    Anderson     Kansas  20003.0    370.0     0.0\n",
       "775081      775081  NaN   Champaign   Illinois  17019.0  10686.0    57.0\n",
       "785062      785062  NaN        Lyon       Iowa  19119.0   1057.0     8.0\n",
       "786772      786772  NaN       Henry  Tennessee  47079.0   1608.0    18.0\n",
       "\n",
       "[138 rows x 7 columns]"
      ]
     },
     "execution_count": 53,
     "metadata": {},
     "output_type": "execute_result"
    }
   ],
   "source": [
    "df[df.date.str.contains('\\d{4}.\\d{2}.\\d{2}', regex = True, na = False) == False]"
   ]
  },
  {
   "cell_type": "markdown",
   "id": "182cc83e",
   "metadata": {},
   "source": [
    "Le champ date ne comporte pas de données éronnées classiques tel que des \"Unknowns\", des cellules vides."
   ]
  },
  {
   "cell_type": "code",
   "execution_count": 37,
   "id": "1f3312aa",
   "metadata": {},
   "outputs": [],
   "source": [
    "#counter(re.findall(\"\\d{4}-\\d{2}-\\d{2}\", \"5555-66-77\")) filtre à refaire"
   ]
  },
  {
   "cell_type": "code",
   "execution_count": 11,
   "id": "fa876302-bd1e-4d8d-8f0f-4b7f16ea6bf0",
   "metadata": {},
   "outputs": [],
   "source": [
    "df[\"fips\"]=[abs(x) if x<0 else x for x in data[\"fips\"]]"
   ]
  },
  {
   "cell_type": "code",
   "execution_count": 12,
   "id": "7e66ce2d-9b04-4a48-92cb-c66c8ba52d7f",
   "metadata": {},
   "outputs": [
    {
     "data": {
      "text/plain": [
       "array([53061., 17031.,  6059., ...,  2230., 32009., 48301.])"
      ]
     },
     "execution_count": 12,
     "metadata": {},
     "output_type": "execute_result"
    }
   ],
   "source": [
    "df.fips.unique()"
   ]
  },
  {
   "cell_type": "code",
   "execution_count": 13,
   "id": "861e3334-d317-4962-9f45-61a1ac36bb40",
   "metadata": {},
   "outputs": [],
   "source": [
    "df[\"deaths\"]=[abs(x) if x<=0 else x for x in data[\"deaths\"]]"
   ]
  },
  {
   "cell_type": "code",
   "execution_count": 14,
   "id": "8adbfeff-1d1c-4810-b624-2bb267f2affd",
   "metadata": {},
   "outputs": [
    {
     "data": {
      "text/html": [
       "<div>\n",
       "<style scoped>\n",
       "    .dataframe tbody tr th:only-of-type {\n",
       "        vertical-align: middle;\n",
       "    }\n",
       "\n",
       "    .dataframe tbody tr th {\n",
       "        vertical-align: top;\n",
       "    }\n",
       "\n",
       "    .dataframe thead th {\n",
       "        text-align: right;\n",
       "    }\n",
       "</style>\n",
       "<table border=\"1\" class=\"dataframe\">\n",
       "  <thead>\n",
       "    <tr style=\"text-align: right;\">\n",
       "      <th></th>\n",
       "      <th>Unnamed: 0</th>\n",
       "      <th>date</th>\n",
       "      <th>county</th>\n",
       "      <th>state</th>\n",
       "      <th>fips</th>\n",
       "      <th>cases</th>\n",
       "      <th>deaths</th>\n",
       "    </tr>\n",
       "  </thead>\n",
       "  <tbody>\n",
       "    <tr>\n",
       "      <th>418</th>\n",
       "      <td>418</td>\n",
       "      <td>2020-03-01</td>\n",
       "      <td>Unknown</td>\n",
       "      <td>Rhode Island</td>\n",
       "      <td>NaN</td>\n",
       "      <td>2.0</td>\n",
       "      <td>0.0</td>\n",
       "    </tr>\n",
       "    <tr>\n",
       "      <th>450</th>\n",
       "      <td>450</td>\n",
       "      <td>2020-03-02</td>\n",
       "      <td>Unknown</td>\n",
       "      <td>Rhode Island</td>\n",
       "      <td>NaN</td>\n",
       "      <td>2.0</td>\n",
       "      <td>0.0</td>\n",
       "    </tr>\n",
       "    <tr>\n",
       "      <th>485</th>\n",
       "      <td>485</td>\n",
       "      <td>2020-03-03</td>\n",
       "      <td>Unknown</td>\n",
       "      <td>Rhode Island</td>\n",
       "      <td>NaN</td>\n",
       "      <td>2.0</td>\n",
       "      <td>0.0</td>\n",
       "    </tr>\n",
       "    <tr>\n",
       "      <th>522</th>\n",
       "      <td>522</td>\n",
       "      <td>2020-03-04</td>\n",
       "      <td>Unknown</td>\n",
       "      <td>Rhode Island</td>\n",
       "      <td>NaN</td>\n",
       "      <td>2.0</td>\n",
       "      <td>0.0</td>\n",
       "    </tr>\n",
       "    <tr>\n",
       "      <th>569</th>\n",
       "      <td>569</td>\n",
       "      <td>2020-03-05</td>\n",
       "      <td>Unknown</td>\n",
       "      <td>Rhode Island</td>\n",
       "      <td>NaN</td>\n",
       "      <td>2.0</td>\n",
       "      <td>0.0</td>\n",
       "    </tr>\n",
       "    <tr>\n",
       "      <th>...</th>\n",
       "      <td>...</td>\n",
       "      <td>...</td>\n",
       "      <td>...</td>\n",
       "      <td>...</td>\n",
       "      <td>...</td>\n",
       "      <td>...</td>\n",
       "      <td>...</td>\n",
       "    </tr>\n",
       "    <tr>\n",
       "      <th>799602</th>\n",
       "      <td>799602</td>\n",
       "      <td>2020-12-05</td>\n",
       "      <td>Unknown</td>\n",
       "      <td>Rhode Island</td>\n",
       "      <td>NaN</td>\n",
       "      <td>10432.0</td>\n",
       "      <td>67.0</td>\n",
       "    </tr>\n",
       "    <tr>\n",
       "      <th>799803</th>\n",
       "      <td>799803</td>\n",
       "      <td>2020-12-05</td>\n",
       "      <td>Unknown</td>\n",
       "      <td>Tennessee</td>\n",
       "      <td>NaN</td>\n",
       "      <td>315.0</td>\n",
       "      <td>1.0</td>\n",
       "    </tr>\n",
       "    <tr>\n",
       "      <th>800090</th>\n",
       "      <td>800090</td>\n",
       "      <td>2020-12-05</td>\n",
       "      <td>Unknown</td>\n",
       "      <td>Utah</td>\n",
       "      <td>NaN</td>\n",
       "      <td>678.0</td>\n",
       "      <td>1.0</td>\n",
       "    </tr>\n",
       "    <tr>\n",
       "      <th>800107</th>\n",
       "      <td>800107</td>\n",
       "      <td>2020-12-05</td>\n",
       "      <td>Unknown</td>\n",
       "      <td>Vermont</td>\n",
       "      <td>NaN</td>\n",
       "      <td>9.0</td>\n",
       "      <td>0.0</td>\n",
       "    </tr>\n",
       "    <tr>\n",
       "      <th>800281</th>\n",
       "      <td>800281</td>\n",
       "      <td>2020-12-05</td>\n",
       "      <td>Unknown</td>\n",
       "      <td>Washington</td>\n",
       "      <td>NaN</td>\n",
       "      <td>2.0</td>\n",
       "      <td>2.0</td>\n",
       "    </tr>\n",
       "  </tbody>\n",
       "</table>\n",
       "<p>6870 rows × 7 columns</p>\n",
       "</div>"
      ],
      "text/plain": [
       "        Unnamed: 0        date   county         state  fips    cases  deaths\n",
       "418            418  2020-03-01  Unknown  Rhode Island   NaN      2.0     0.0\n",
       "450            450  2020-03-02  Unknown  Rhode Island   NaN      2.0     0.0\n",
       "485            485  2020-03-03  Unknown  Rhode Island   NaN      2.0     0.0\n",
       "522            522  2020-03-04  Unknown  Rhode Island   NaN      2.0     0.0\n",
       "569            569  2020-03-05  Unknown  Rhode Island   NaN      2.0     0.0\n",
       "...            ...         ...      ...           ...   ...      ...     ...\n",
       "799602      799602  2020-12-05  Unknown  Rhode Island   NaN  10432.0    67.0\n",
       "799803      799803  2020-12-05  Unknown     Tennessee   NaN    315.0     1.0\n",
       "800090      800090  2020-12-05  Unknown          Utah   NaN    678.0     1.0\n",
       "800107      800107  2020-12-05  Unknown       Vermont   NaN      9.0     0.0\n",
       "800281      800281  2020-12-05  Unknown    Washington   NaN      2.0     2.0\n",
       "\n",
       "[6870 rows x 7 columns]"
      ]
     },
     "execution_count": 14,
     "metadata": {},
     "output_type": "execute_result"
    }
   ],
   "source": [
    "df[df[\"county\"]==\"Unknown\"]"
   ]
  },
  {
   "cell_type": "code",
   "execution_count": 15,
   "id": "ec704754-1b4e-4ce6-bc9d-8a7021a2146b",
   "metadata": {},
   "outputs": [
    {
     "data": {
      "text/html": [
       "<div>\n",
       "<style scoped>\n",
       "    .dataframe tbody tr th:only-of-type {\n",
       "        vertical-align: middle;\n",
       "    }\n",
       "\n",
       "    .dataframe tbody tr th {\n",
       "        vertical-align: top;\n",
       "    }\n",
       "\n",
       "    .dataframe thead th {\n",
       "        text-align: right;\n",
       "    }\n",
       "</style>\n",
       "<table border=\"1\" class=\"dataframe\">\n",
       "  <thead>\n",
       "    <tr style=\"text-align: right;\">\n",
       "      <th></th>\n",
       "      <th>Unnamed: 0</th>\n",
       "      <th>date</th>\n",
       "      <th>county</th>\n",
       "      <th>state</th>\n",
       "      <th>fips</th>\n",
       "      <th>cases</th>\n",
       "      <th>deaths</th>\n",
       "    </tr>\n",
       "  </thead>\n",
       "  <tbody>\n",
       "  </tbody>\n",
       "</table>\n",
       "</div>"
      ],
      "text/plain": [
       "Empty DataFrame\n",
       "Columns: [Unnamed: 0, date, county, state, fips, cases, deaths]\n",
       "Index: []"
      ]
     },
     "execution_count": 15,
     "metadata": {},
     "output_type": "execute_result"
    }
   ],
   "source": [
    "df[df[\"state\"]==\"Unknown\"]"
   ]
  },
  {
   "cell_type": "code",
   "execution_count": 16,
   "id": "d08b2b44-3229-424f-94e9-dde41f5ca10f",
   "metadata": {},
   "outputs": [
    {
     "ename": "NameError",
     "evalue": "name 'pd' is not defined",
     "output_type": "error",
     "traceback": [
      "\u001b[1;31m---------------------------------------------------------------------------\u001b[0m",
      "\u001b[1;31mNameError\u001b[0m                                 Traceback (most recent call last)",
      "Input \u001b[1;32mIn [16]\u001b[0m, in \u001b[0;36m<cell line: 1>\u001b[1;34m()\u001b[0m\n\u001b[1;32m----> 1\u001b[0m bool_series_county \u001b[38;5;241m=\u001b[39m \u001b[43mpd\u001b[49m\u001b[38;5;241m.\u001b[39misnull(df[\u001b[38;5;124m\"\u001b[39m\u001b[38;5;124mcounty\u001b[39m\u001b[38;5;124m\"\u001b[39m])\n\u001b[0;32m      2\u001b[0m df[bool_series_county\u001b[38;5;241m==\u001b[39m\u001b[38;5;28;01mTrue\u001b[39;00m]\n",
      "\u001b[1;31mNameError\u001b[0m: name 'pd' is not defined"
     ]
    }
   ],
   "source": [
    "bool_series_county = pd.isnull(df[\"county\"])\n",
    "df[bool_series_county==True]"
   ]
  },
  {
   "cell_type": "code",
   "execution_count": null,
   "id": "21f55a9c-586f-4160-ba50-73640a648feb",
   "metadata": {},
   "outputs": [],
   "source": [
    "bool_series_state = pd.isnull(df[\"state\"])\n",
    "df[bool_series_state==True]"
   ]
  },
  {
   "cell_type": "code",
   "execution_count": null,
   "id": "85707059-9c7d-4c43-82ff-28b5d445086d",
   "metadata": {},
   "outputs": [],
   "source": [
    "bool_series_cases = pd.isnull(df[\"cases\"])\n",
    "df[bool_series_cases==True]"
   ]
  },
  {
   "cell_type": "code",
   "execution_count": null,
   "id": "1db8316b-b383-485f-889e-3e8ea080dbc6",
   "metadata": {},
   "outputs": [],
   "source": [
    "bool_series_deaths = pd.isnull(df[\"deaths\"])\n",
    "df[bool_series_deaths==True]"
   ]
  },
  {
   "cell_type": "code",
   "execution_count": null,
   "id": "f9a6a1fd-2e00-4106-8706-37e12000acb4",
   "metadata": {},
   "outputs": [],
   "source": [
    "bool_series_fips = pd.isnull(df[\"fips\"])\n",
    "df[bool_series_fips==True]"
   ]
  },
  {
   "cell_type": "code",
   "execution_count": null,
   "id": "8cb9ce10-84f2-4aba-afe9-95325b2bf9b9",
   "metadata": {},
   "outputs": [],
   "source": [
    "df_county_state_fips = df.iloc[:, 1:4]\n",
    "df_county_state_fips"
   ]
  },
  {
   "cell_type": "code",
   "execution_count": null,
   "id": "329f4afd-cbe1-46be-ad0d-e2a8c24f0ee1",
   "metadata": {},
   "outputs": [],
   "source": [
    "bool_series = bool_series_county + bool_series_state + bool_series_fips + bool_series_deaths\n",
    "bool_series"
   ]
  },
  {
   "cell_type": "code",
   "execution_count": null,
   "id": "45918a46-0265-4950-9810-714c1b3313b2",
   "metadata": {},
   "outputs": [],
   "source": [
    "df_county_state_fips[bool_series==True]\n",
    "indexDf = df_county_state_fips[bool_series==True].index"
   ]
  },
  {
   "cell_type": "code",
   "execution_count": null,
   "id": "c2bc7b42-2610-4da5-b8da-7816bfba5aeb",
   "metadata": {},
   "outputs": [],
   "source": [
    "df_county_state_fips[bool_series==True]"
   ]
  },
  {
   "cell_type": "code",
   "execution_count": null,
   "id": "55febde9-7fee-4330-abec-cd904f5445cb",
   "metadata": {},
   "outputs": [],
   "source": [
    "df_final = df[bool_series==False]\n",
    "df_final"
   ]
  },
  {
   "cell_type": "code",
   "execution_count": null,
   "id": "4ee27023-c29e-47b6-86dc-e4de32139dc7",
   "metadata": {},
   "outputs": [],
   "source": [
    "df.drop(df_county_state_fips[bool_series==True].index)"
   ]
  },
  {
   "cell_type": "code",
   "execution_count": null,
   "id": "da66ea0e-8f90-44a1-9378-5ef947a71a9c",
   "metadata": {},
   "outputs": [],
   "source": [
    "df.drop(df_county_state_fips[bool_series==True].index).to_csv(path_or_buf=\"data.csv\",sep=',')"
   ]
  },
  {
   "cell_type": "code",
   "execution_count": null,
   "id": "ff9fc6bb-5d84-4ac3-bb89-fae6b5bcf68e",
   "metadata": {},
   "outputs": [],
   "source": []
  },
  {
   "cell_type": "code",
   "execution_count": null,
   "id": "7b92941c-9daa-42db-b0c0-3e85f062c386",
   "metadata": {},
   "outputs": [],
   "source": []
  },
  {
   "cell_type": "code",
   "execution_count": null,
   "id": "7e4d488a-7b25-4a79-8a38-2a87e53c3788",
   "metadata": {},
   "outputs": [],
   "source": []
  }
 ],
 "metadata": {
  "kernelspec": {
   "display_name": "Python 3 (ipykernel)",
   "language": "python",
   "name": "python3"
  },
  "language_info": {
   "codemirror_mode": {
    "name": "ipython",
    "version": 3
   },
   "file_extension": ".py",
   "mimetype": "text/x-python",
   "name": "python",
   "nbconvert_exporter": "python",
   "pygments_lexer": "ipython3",
   "version": "3.10.2"
  }
 },
 "nbformat": 4,
 "nbformat_minor": 5
}
