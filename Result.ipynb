{
 "cells": [
  {
   "cell_type": "code",
   "execution_count": 1,
   "id": "289c9b1a-3a0b-44fe-aad8-ac7c461c2e11",
   "metadata": {},
   "outputs": [],
   "source": [
    "import matplotlib.pyplot as plt\n",
    "from sklearn import datasets\n",
    "from sklearn.model_selection import train_test_split\n",
    "from sklearn.preprocessing import OneHotEncoder\n",
    "from tensorflow import keras"
   ]
  },
  {
   "cell_type": "code",
   "execution_count": 5,
   "id": "59d286b1-9802-49d5-b355-555b2b407460",
   "metadata": {},
   "outputs": [
    {
     "name": "stdout",
     "output_type": "stream",
     "text": [
      "Modified Dataframe : \n",
      "              date      county       state     fips   cases  deaths\n",
      "0       2020-01-21   Snohomish  Washington  53061.0     1.0     0.0\n",
      "1       2020-01-22   Snohomish  Washington  53061.0     1.0     0.0\n",
      "2       2020-01-23   Snohomish  Washington  53061.0     1.0     0.0\n",
      "3       2020-01-24        Cook    Illinois  17031.0     1.0     0.0\n",
      "4       2020-01-24   Snohomish  Washington  53061.0     1.0     0.0\n",
      "...            ...         ...         ...      ...     ...     ...\n",
      "775614  2020-12-05  Sweetwater     Wyoming  56037.0  2098.0    10.0\n",
      "775615  2020-12-05       Teton     Wyoming  56039.0  1739.0     2.0\n",
      "775616  2020-12-05       Uinta     Wyoming  56041.0  1187.0     5.0\n",
      "775617  2020-12-05    Washakie     Wyoming  56043.0   519.0     8.0\n",
      "775618  2020-12-05      Weston     Wyoming  56045.0   419.0     2.0\n",
      "\n",
      "[775619 rows x 6 columns]\n"
     ]
    }
   ],
   "source": [
    "import pandas as pd\n",
    "import numpy as np\n",
    "data = pd.read_csv(\"data.csv\")\n",
    "df = pd.DataFrame(data)\n",
    "df = df.iloc[: , 1:]\n",
    "print(\"Modified Dataframe : \")\n",
    "print(df)"
   ]
  },
  {
   "cell_type": "code",
   "execution_count": 7,
   "id": "3cb84acf-7f92-4828-a846-0b192ffb0c75",
   "metadata": {},
   "outputs": [],
   "source": [
    "data_train, data_test = train_test_split(df, test_size=0.25, random_state=1)"
   ]
  },
  {
   "cell_type": "code",
   "execution_count": 8,
   "id": "1a03c3fe-b78a-49d8-8fa9-0f99509ee655",
   "metadata": {},
   "outputs": [
    {
     "name": "stdout",
     "output_type": "stream",
     "text": [
      "              date             county           state     fips   cases  deaths\n",
      "640346  2020-10-23               Polk           Texas  48373.0  1250.0    32.0\n",
      "519238  2020-09-15            Gooding           Idaho  16047.0   254.0     0.0\n",
      "719149  2020-11-17              Teton         Wyoming  56039.0  1252.0     2.0\n",
      "620800  2020-10-17              Vance  North Carolina  37181.0  1139.0    46.0\n",
      "422957  2020-08-15              Mason        Kentucky  21161.0    56.0     1.0\n",
      "...            ...                ...             ...      ...     ...     ...\n",
      "371403  2020-07-29            Carroll       Tennessee  47017.0   154.0     2.0\n",
      "491263  2020-09-06             Dubois         Indiana  18037.0   873.0    17.0\n",
      "470924  2020-08-30          Armstrong    Pennsylvania  42005.0   313.0     9.0\n",
      "491755  2020-09-06               Kent        Maryland  24029.0   275.0    24.0\n",
      "128037  2020-05-09  Harrisonburg city        Virginia  51660.0   578.0    21.0\n",
      "\n",
      "[581714 rows x 6 columns]\n",
      "              date     county          state     fips   cases  deaths\n",
      "51030   2020-04-12   Marshall        Indiana  18099.0    19.0     0.0\n",
      "98808   2020-04-29     Scioto           Ohio  39145.0     8.0     0.0\n",
      "315868  2020-07-11    Grayson          Texas  48181.0   731.0     7.0\n",
      "256464  2020-06-22      Knott       Kentucky  21119.0     4.0     0.0\n",
      "772490  2020-12-05    Calhoun        Alabama   1015.0  7027.0   127.0\n",
      "...            ...        ...            ...      ...     ...     ...\n",
      "244005  2020-06-18    Jackson       Illinois  17077.0   321.0    18.0\n",
      "195419  2020-06-01      Mason  West Virginia  54053.0    15.0     0.0\n",
      "625254  2020-10-19     Lonoke       Arkansas   5085.0  1530.0    23.0\n",
      "128601  2020-05-10   Columbia        Florida  12023.0   103.0     2.0\n",
      "347965  2020-07-22  Whiteside       Illinois  17195.0   250.0    16.0\n",
      "\n",
      "[193905 rows x 6 columns]\n"
     ]
    }
   ],
   "source": [
    "print(data_train)\n",
    "print(data_test)"
   ]
  },
  {
   "cell_type": "code",
   "execution_count": 9,
   "id": "8300fd63-8aff-4466-92a6-43c994a5406f",
   "metadata": {},
   "outputs": [],
   "source": [
    "def create_model():\n",
    "    '''\n",
    "    Create a fully connected neural network with one input layer, one hidden layer and one output layer with softmax activation.\n",
    "    '''\n",
    "    input_layer = keras.layers.Input(shape=(4,)) # Input layer\n",
    "    h = keras.layers.Dense(128, activation=\"relu\")(input_layer) # Hidden layer\n",
    "    h = keras.layers.Dense(3, activation='softmax')(h) # Output layer\n",
    "    model = keras.models.Model(inputs=input_layer, outputs=h)\n",
    "    return model"
   ]
  },
  {
   "cell_type": "code",
   "execution_count": null,
   "id": "88b44876-4be5-4ec8-beb0-276c8d2a2db0",
   "metadata": {},
   "outputs": [],
   "source": [
    "model = create_model() # We create the model\n",
    "model.compile(optimizer=keras.optimizers.SGD(learning_rate=1e-2), loss='categorical_crossentropy', metrics=['accuracy']) # Compile the model: define optimizer, loss and eventual metrics\n"
   ]
  }
 ],
 "metadata": {
  "kernelspec": {
   "display_name": "Python 3 (ipykernel)",
   "language": "python",
   "name": "python3"
  },
  "language_info": {
   "codemirror_mode": {
    "name": "ipython",
    "version": 3
   },
   "file_extension": ".py",
   "mimetype": "text/x-python",
   "name": "python",
   "nbconvert_exporter": "python",
   "pygments_lexer": "ipython3",
   "version": "3.10.1"
  }
 },
 "nbformat": 4,
 "nbformat_minor": 5
}
