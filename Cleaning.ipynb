{
 "cells": [
  {
   "cell_type": "code",
   "execution_count": 9,
   "id": "9d203faa-f185-40dd-ae7b-3ed483b9e827",
   "metadata": {},
   "outputs": [
    {
     "name": "stdout",
     "output_type": "stream",
     "text": [
      "Modified Dataframe : \n",
      "              date      county       state     fips   cases  deaths\n",
      "0       2020-01-21   Snohomish  Washington  53061.0     1.0     0.0\n",
      "1       2020-01-22   Snohomish  Washington  53061.0     1.0     0.0\n",
      "2       2020-01-23   Snohomish  Washington  53061.0     1.0     0.0\n",
      "3       2020-01-24        Cook    Illinois  17031.0     1.0     0.0\n",
      "4       2020-01-24   Snohomish  Washington  53061.0     1.0     0.0\n",
      "...            ...         ...         ...      ...     ...     ...\n",
      "800432  2020-12-05  Sweetwater     Wyoming  56037.0  2098.0    10.0\n",
      "800433  2020-12-05       Teton     Wyoming  56039.0  1739.0     2.0\n",
      "800434  2020-12-05       Uinta     Wyoming  56041.0  1187.0     5.0\n",
      "800435  2020-12-05    Washakie     Wyoming  56043.0   519.0     8.0\n",
      "800436  2020-12-05      Weston     Wyoming  56045.0   419.0     2.0\n",
      "\n",
      "[800437 rows x 6 columns]\n"
     ]
    }
   ],
   "source": [
    "import pandas as pd\n",
    "\n",
    "data = pd.read_csv(\"corrupted_data.csv\")\n",
    "df = pd.DataFrame(data)\n",
    "# Drop first column of dataframe\n",
    "df = df.iloc[: , 1:]\n",
    "print(\"Modified Dataframe : \")\n",
    "print(df)"
   ]
  },
  {
   "cell_type": "code",
   "execution_count": 6,
   "id": "4072ccef-818c-4cef-89b2-f5b36cadbf49",
   "metadata": {},
   "outputs": [
    {
     "name": "stdout",
     "output_type": "stream",
     "text": [
      "   Unnamed: 0        date     county       state     fips  cases  deaths\n",
      "0           0  2020-01-21  Snohomish  Washington  53061.0    1.0     0.0\n",
      "1           1  2020-01-22  Snohomish  Washington  53061.0    1.0     0.0\n",
      "2           2  2020-01-23  Snohomish  Washington  53061.0    1.0     0.0\n",
      "3           3  2020-01-24       Cook    Illinois  17031.0    1.0     0.0\n",
      "4           4  2020-01-24  Snohomish  Washington  53061.0    1.0     0.0\n"
     ]
    }
   ],
   "source": [
    "print(data.head())"
   ]
  },
  {
   "cell_type": "code",
   "execution_count": 7,
   "id": "4dd9afc8-3997-40c3-b328-3f8f0ee8cb09",
   "metadata": {},
   "outputs": [
    {
     "name": "stdout",
     "output_type": "stream",
     "text": [
      "['Unnamed: 0', 'date', 'county', 'state', 'fips', 'cases', 'deaths']\n"
     ]
    }
   ],
   "source": [
    "print(list(data.columns))"
   ]
  },
  {
   "cell_type": "code",
   "execution_count": null,
   "id": "7e66ce2d-9b04-4a48-92cb-c66c8ba52d7f",
   "metadata": {},
   "outputs": [],
   "source": []
  }
 ],
 "metadata": {
  "kernelspec": {
   "display_name": "Python 3 (ipykernel)",
   "language": "python",
   "name": "python3"
  },
  "language_info": {
   "codemirror_mode": {
    "name": "ipython",
    "version": 3
   },
   "file_extension": ".py",
   "mimetype": "text/x-python",
   "name": "python",
   "nbconvert_exporter": "python",
   "pygments_lexer": "ipython3",
   "version": "3.10.1"
  }
 },
 "nbformat": 4,
 "nbformat_minor": 5
}
